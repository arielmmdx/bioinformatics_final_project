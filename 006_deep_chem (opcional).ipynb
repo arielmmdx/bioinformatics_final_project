{
 "cells": [
  {
   "cell_type": "markdown",
   "id": "4f87cd9e-34dd-4323-bc7e-f138eb99f6a9",
   "metadata": {},
   "source": [
    "# OPCIONAL"
   ]
  },
  {
   "cell_type": "code",
   "execution_count": 3,
   "id": "2d393aaf-4dd6-4bbe-b2ae-0c5d6018ac84",
   "metadata": {},
   "outputs": [
    {
     "name": "stdout",
     "output_type": "stream",
     "text": [
      "Defaulting to user installation because normal site-packages is not writeable\n",
      "Collecting deepchem\n",
      "  Downloading deepchem-2.7.1-py3-none-any.whl (693 kB)\n",
      "\u001b[2K     \u001b[90m━━━━━━━━━━━━━━━━━━━━━━━━━━━━━━━━━━━━━━━\u001b[0m \u001b[32m693.2/693.2 kB\u001b[0m \u001b[31m5.3 MB/s\u001b[0m eta \u001b[36m0:00:00\u001b[0ma \u001b[36m0:00:01\u001b[0m\n",
      "\u001b[?25hRequirement already satisfied: joblib in /home/glue_user/.local/lib/python3.7/site-packages (from deepchem) (1.0.1)\n",
      "Requirement already satisfied: scikit-learn in /home/glue_user/.local/lib/python3.7/site-packages (from deepchem) (0.24.2)\n",
      "Requirement already satisfied: pandas in /home/glue_user/.local/lib/python3.7/site-packages (from deepchem) (1.3.2)\n",
      "Collecting rdkit\n",
      "  Downloading rdkit-2023.3.2-cp37-cp37m-manylinux_2_17_aarch64.manylinux2014_aarch64.whl (28.8 MB)\n",
      "\u001b[2K     \u001b[90m━━━━━━━━━━━━━━━━━━━━━━━━━━━━━━━━━━━━━━━━\u001b[0m \u001b[32m28.8/28.8 MB\u001b[0m \u001b[31m2.9 MB/s\u001b[0m eta \u001b[36m0:00:00\u001b[0m00:01\u001b[0m00:01\u001b[0m\n",
      "\u001b[?25hRequirement already satisfied: numpy>=1.21 in /home/glue_user/.local/lib/python3.7/site-packages (from deepchem) (1.21.6)\n",
      "Requirement already satisfied: scipy<1.9 in /home/glue_user/.local/lib/python3.7/site-packages (from deepchem) (1.7.1)\n",
      "Requirement already satisfied: python-dateutil>=2.7.3 in /home/glue_user/.local/lib/python3.7/site-packages (from pandas->deepchem) (2.8.2)\n",
      "Requirement already satisfied: pytz>=2017.3 in /home/glue_user/.local/lib/python3.7/site-packages (from pandas->deepchem) (2021.1)\n",
      "Requirement already satisfied: Pillow in /home/glue_user/.local/lib/python3.7/site-packages (from rdkit->deepchem) (9.2.0)\n",
      "Requirement already satisfied: threadpoolctl>=2.0.0 in /home/glue_user/.local/lib/python3.7/site-packages (from scikit-learn->deepchem) (3.1.0)\n",
      "Requirement already satisfied: six>=1.5 in /home/glue_user/.local/lib/python3.7/site-packages (from python-dateutil>=2.7.3->pandas->deepchem) (1.16.0)\n",
      "Installing collected packages: rdkit, deepchem\n",
      "Successfully installed deepchem-2.7.1 rdkit-2023.3.2\n",
      "--- Logging error ---\n",
      "Traceback (most recent call last):\n",
      "  File \"/home/glue_user/.local/lib/python3.7/site-packages/pip/_internal/utils/logging.py\", line 177, in emit\n",
      "    self.console.print(renderable, overflow=\"ignore\", crop=False, style=style)\n",
      "  File \"/home/glue_user/.local/lib/python3.7/site-packages/pip/_vendor/rich/console.py\", line 1673, in print\n",
      "    extend(render(renderable, render_options))\n",
      "  File \"/home/glue_user/.local/lib/python3.7/site-packages/pip/_vendor/rich/console.py\", line 1305, in render\n",
      "    for render_output in iter_render:\n",
      "  File \"/home/glue_user/.local/lib/python3.7/site-packages/pip/_internal/utils/logging.py\", line 134, in __rich_console__\n",
      "    for line in lines:\n",
      "  File \"/home/glue_user/.local/lib/python3.7/site-packages/pip/_vendor/rich/segment.py\", line 249, in split_lines\n",
      "    for segment in segments:\n",
      "  File \"/home/glue_user/.local/lib/python3.7/site-packages/pip/_vendor/rich/console.py\", line 1283, in render\n",
      "    renderable = rich_cast(renderable)\n",
      "  File \"/home/glue_user/.local/lib/python3.7/site-packages/pip/_vendor/rich/protocol.py\", line 36, in rich_cast\n",
      "    renderable = cast_method()\n",
      "  File \"/home/glue_user/.local/lib/python3.7/site-packages/pip/_internal/self_outdated_check.py\", line 130, in __rich__\n",
      "    pip_cmd = get_best_invocation_for_this_pip()\n",
      "  File \"/home/glue_user/.local/lib/python3.7/site-packages/pip/_internal/utils/entrypoints.py\", line 60, in get_best_invocation_for_this_pip\n",
      "    os.path.join(binary_prefix, exe_name),\n",
      "  File \"/usr/lib64/python3.7/genericpath.py\", line 101, in samefile\n",
      "    s2 = os.stat(f2)\n",
      "FileNotFoundError: [Errno 2] No such file or directory: '/usr/bin/pip'\n",
      "Call stack:\n",
      "  File \"/home/glue_user/.local/bin/pip\", line 8, in <module>\n",
      "    sys.exit(main())\n",
      "  File \"/home/glue_user/.local/lib/python3.7/site-packages/pip/_internal/cli/main.py\", line 70, in main\n",
      "    return command.main(cmd_args)\n",
      "  File \"/home/glue_user/.local/lib/python3.7/site-packages/pip/_internal/cli/base_command.py\", line 101, in main\n",
      "    return self._main(args)\n",
      "  File \"/home/glue_user/.local/lib/python3.7/site-packages/pip/_internal/cli/base_command.py\", line 223, in _main\n",
      "    self.handle_pip_version_check(options)\n",
      "  File \"/home/glue_user/.local/lib/python3.7/site-packages/pip/_internal/cli/req_command.py\", line 190, in handle_pip_version_check\n",
      "    pip_self_version_check(session, options)\n",
      "  File \"/home/glue_user/.local/lib/python3.7/site-packages/pip/_internal/self_outdated_check.py\", line 236, in pip_self_version_check\n",
      "    logger.warning(\"[present-rich] %s\", upgrade_prompt)\n",
      "  File \"/usr/lib64/python3.7/logging/__init__.py\", line 1390, in warning\n",
      "    self._log(WARNING, msg, args, **kwargs)\n",
      "  File \"/usr/lib64/python3.7/logging/__init__.py\", line 1514, in _log\n",
      "    self.handle(record)\n",
      "  File \"/usr/lib64/python3.7/logging/__init__.py\", line 1524, in handle\n",
      "    self.callHandlers(record)\n",
      "  File \"/usr/lib64/python3.7/logging/__init__.py\", line 1586, in callHandlers\n",
      "    hdlr.handle(record)\n",
      "  File \"/usr/lib64/python3.7/logging/__init__.py\", line 894, in handle\n",
      "    self.emit(record)\n",
      "  File \"/home/glue_user/.local/lib/python3.7/site-packages/pip/_internal/utils/logging.py\", line 179, in emit\n",
      "    self.handleError(record)\n",
      "Message: '[present-rich] %s'\n",
      "Arguments: (UpgradePrompt(old='22.2.2', new='23.2.1'),)\n"
     ]
    }
   ],
   "source": [
    "#!pip install deepchem"
   ]
  },
  {
   "cell_type": "code",
   "execution_count": 4,
   "id": "745ef5ab-be55-4a36-a7cd-aeb62b4f6a12",
   "metadata": {},
   "outputs": [],
   "source": [
    "import pandas as pd"
   ]
  },
  {
   "cell_type": "code",
   "execution_count": 5,
   "id": "6fbb2723-7583-4cb6-a7e5-4294d8140530",
   "metadata": {},
   "outputs": [
    {
     "name": "stderr",
     "output_type": "stream",
     "text": [
      "/home/glue_user/.local/lib/python3.7/site-packages/tensorflow_io/python/ops/__init__.py:98: UserWarning: unable to load libtensorflow_io_plugins.so: unable to open file: libtensorflow_io_plugins.so, from paths: ['/home/glue_user/.local/lib/python3.7/site-packages/tensorflow_io/python/ops/libtensorflow_io_plugins.so']\n",
      "caused by: [\"[Errno 2] The file to load file system plugin from does not exist.: '/home/glue_user/.local/lib/python3.7/site-packages/tensorflow_io/python/ops/libtensorflow_io_plugins.so'\"]\n",
      "  warnings.warn(f\"unable to load libtensorflow_io_plugins.so: {e}\")\n",
      "/home/glue_user/.local/lib/python3.7/site-packages/tensorflow_io/python/ops/__init__.py:104: UserWarning: file system plugins are not loaded: unable to open file: libtensorflow_io.so, from paths: ['/home/glue_user/.local/lib/python3.7/site-packages/tensorflow_io/python/ops/libtensorflow_io.so']\n",
      "caused by: ['/home/glue_user/.local/lib/python3.7/site-packages/tensorflow_io/python/ops/libtensorflow_io.so: cannot open shared object file: No such file or directory']\n",
      "  warnings.warn(f\"file system plugins are not loaded: {e}\")\n",
      "Skipped loading some PyTorch models, missing a dependency. No module named 'torch'\n",
      "Skipped loading modules with pytorch-geometric dependency, missing a dependency. No module named 'torch'\n",
      "Skipped loading modules with pytorch-lightning dependency, missing a dependency. No module named 'torch'\n",
      "Skipped loading some Jax models, missing a dependency. No module named 'jax'\n"
     ]
    }
   ],
   "source": [
    "import deepchem as dc"
   ]
  },
  {
   "cell_type": "markdown",
   "id": "606b84ac-193a-4a45-94ef-63038fa1091c",
   "metadata": {},
   "source": [
    "# Cargo dataset"
   ]
  },
  {
   "cell_type": "code",
   "execution_count": 6,
   "id": "f2e4e0e3-4c6a-43f6-8b46-f2aa3edb3dbc",
   "metadata": {},
   "outputs": [],
   "source": [
    "df = pd.read_csv('data/acetylcholinesterase_02_bioactivity_data_preprocessed.csv')"
   ]
  },
  {
   "cell_type": "code",
   "execution_count": 7,
   "id": "3aed68a2-b156-4f9a-95d1-6d06e70a3447",
   "metadata": {},
   "outputs": [
    {
     "data": {
      "text/html": [
       "<div>\n",
       "<style scoped>\n",
       "    .dataframe tbody tr th:only-of-type {\n",
       "        vertical-align: middle;\n",
       "    }\n",
       "\n",
       "    .dataframe tbody tr th {\n",
       "        vertical-align: top;\n",
       "    }\n",
       "\n",
       "    .dataframe thead th {\n",
       "        text-align: right;\n",
       "    }\n",
       "</style>\n",
       "<table border=\"1\" class=\"dataframe\">\n",
       "  <thead>\n",
       "    <tr style=\"text-align: right;\">\n",
       "      <th></th>\n",
       "      <th>molecule_chembl_id</th>\n",
       "      <th>canonical_smiles</th>\n",
       "      <th>standard_value</th>\n",
       "      <th>standard_value_norm</th>\n",
       "      <th>pIC50</th>\n",
       "    </tr>\n",
       "  </thead>\n",
       "  <tbody>\n",
       "    <tr>\n",
       "      <th>0</th>\n",
       "      <td>CHEMBL133897</td>\n",
       "      <td>CCOc1nn(-c2cccc(OCc3ccccc3)c2)c(=O)o1</td>\n",
       "      <td>750.000</td>\n",
       "      <td>750.000</td>\n",
       "      <td>6.124939</td>\n",
       "    </tr>\n",
       "    <tr>\n",
       "      <th>1</th>\n",
       "      <td>CHEMBL336398</td>\n",
       "      <td>O=C(N1CCCCC1)n1nc(-c2ccc(Cl)cc2)nc1SCC1CC1</td>\n",
       "      <td>100.000</td>\n",
       "      <td>100.000</td>\n",
       "      <td>7.000000</td>\n",
       "    </tr>\n",
       "    <tr>\n",
       "      <th>2</th>\n",
       "      <td>CHEMBL131588</td>\n",
       "      <td>CN(C(=O)n1nc(-c2ccc(Cl)cc2)nc1SCC(F)(F)F)c1ccccc1</td>\n",
       "      <td>50000.000</td>\n",
       "      <td>50000.000</td>\n",
       "      <td>4.301030</td>\n",
       "    </tr>\n",
       "    <tr>\n",
       "      <th>3</th>\n",
       "      <td>CHEMBL130628</td>\n",
       "      <td>O=C(N1CCCCC1)n1nc(-c2ccc(Cl)cc2)nc1SCC(F)(F)F</td>\n",
       "      <td>300.000</td>\n",
       "      <td>300.000</td>\n",
       "      <td>6.522879</td>\n",
       "    </tr>\n",
       "    <tr>\n",
       "      <th>4</th>\n",
       "      <td>CHEMBL130478</td>\n",
       "      <td>CSc1nc(-c2ccc(OC(F)(F)F)cc2)nn1C(=O)N(C)C</td>\n",
       "      <td>800.000</td>\n",
       "      <td>800.000</td>\n",
       "      <td>6.096910</td>\n",
       "    </tr>\n",
       "    <tr>\n",
       "      <th>...</th>\n",
       "      <td>...</td>\n",
       "      <td>...</td>\n",
       "      <td>...</td>\n",
       "      <td>...</td>\n",
       "      <td>...</td>\n",
       "    </tr>\n",
       "    <tr>\n",
       "      <th>6152</th>\n",
       "      <td>CHEMBL5219841</td>\n",
       "      <td>COc1cccc2c1CCCC2NS(=O)(=O)NC(=O)OCc1ccccc1</td>\n",
       "      <td>0.209</td>\n",
       "      <td>0.209</td>\n",
       "      <td>9.679854</td>\n",
       "    </tr>\n",
       "    <tr>\n",
       "      <th>6153</th>\n",
       "      <td>CHEMBL5219046</td>\n",
       "      <td>CC[C@@]1(c2cccc(OC(=O)Nc3ccccc3)c2)CCCCN(C)C1</td>\n",
       "      <td>274.000</td>\n",
       "      <td>274.000</td>\n",
       "      <td>6.562249</td>\n",
       "    </tr>\n",
       "    <tr>\n",
       "      <th>6154</th>\n",
       "      <td>CHEMBL5219594</td>\n",
       "      <td>O=c1[nH]c2ccc(OCc3ccc(F)cc3)cc2c(=O)o1</td>\n",
       "      <td>76200.000</td>\n",
       "      <td>76200.000</td>\n",
       "      <td>4.118045</td>\n",
       "    </tr>\n",
       "    <tr>\n",
       "      <th>6155</th>\n",
       "      <td>CHEMBL5219958</td>\n",
       "      <td>CC(C)c1ccc(COc2ccc3[nH]c(=O)oc(=O)c3c2)cc1</td>\n",
       "      <td>55000.000</td>\n",
       "      <td>55000.000</td>\n",
       "      <td>4.259637</td>\n",
       "    </tr>\n",
       "    <tr>\n",
       "      <th>6156</th>\n",
       "      <td>CHEMBL5220884</td>\n",
       "      <td>Cn1ccc2cc(-c3cnc4ccc(C(=O)N5CCCCC5)cc4n3)ccc2c1=O</td>\n",
       "      <td>5400.000</td>\n",
       "      <td>5400.000</td>\n",
       "      <td>5.267606</td>\n",
       "    </tr>\n",
       "  </tbody>\n",
       "</table>\n",
       "<p>6157 rows × 5 columns</p>\n",
       "</div>"
      ],
      "text/plain": [
       "     molecule_chembl_id                                   canonical_smiles  \\\n",
       "0          CHEMBL133897              CCOc1nn(-c2cccc(OCc3ccccc3)c2)c(=O)o1   \n",
       "1          CHEMBL336398         O=C(N1CCCCC1)n1nc(-c2ccc(Cl)cc2)nc1SCC1CC1   \n",
       "2          CHEMBL131588  CN(C(=O)n1nc(-c2ccc(Cl)cc2)nc1SCC(F)(F)F)c1ccccc1   \n",
       "3          CHEMBL130628      O=C(N1CCCCC1)n1nc(-c2ccc(Cl)cc2)nc1SCC(F)(F)F   \n",
       "4          CHEMBL130478          CSc1nc(-c2ccc(OC(F)(F)F)cc2)nn1C(=O)N(C)C   \n",
       "...                 ...                                                ...   \n",
       "6152      CHEMBL5219841         COc1cccc2c1CCCC2NS(=O)(=O)NC(=O)OCc1ccccc1   \n",
       "6153      CHEMBL5219046      CC[C@@]1(c2cccc(OC(=O)Nc3ccccc3)c2)CCCCN(C)C1   \n",
       "6154      CHEMBL5219594             O=c1[nH]c2ccc(OCc3ccc(F)cc3)cc2c(=O)o1   \n",
       "6155      CHEMBL5219958         CC(C)c1ccc(COc2ccc3[nH]c(=O)oc(=O)c3c2)cc1   \n",
       "6156      CHEMBL5220884  Cn1ccc2cc(-c3cnc4ccc(C(=O)N5CCCCC5)cc4n3)ccc2c1=O   \n",
       "\n",
       "      standard_value  standard_value_norm     pIC50  \n",
       "0            750.000              750.000  6.124939  \n",
       "1            100.000              100.000  7.000000  \n",
       "2          50000.000            50000.000  4.301030  \n",
       "3            300.000              300.000  6.522879  \n",
       "4            800.000              800.000  6.096910  \n",
       "...              ...                  ...       ...  \n",
       "6152           0.209                0.209  9.679854  \n",
       "6153         274.000              274.000  6.562249  \n",
       "6154       76200.000            76200.000  4.118045  \n",
       "6155       55000.000            55000.000  4.259637  \n",
       "6156        5400.000             5400.000  5.267606  \n",
       "\n",
       "[6157 rows x 5 columns]"
      ]
     },
     "execution_count": 7,
     "metadata": {},
     "output_type": "execute_result"
    }
   ],
   "source": [
    "df"
   ]
  },
  {
   "cell_type": "markdown",
   "id": "f86f0c1c-2b49-4f8a-927b-f1e1d0de0511",
   "metadata": {},
   "source": [
    "# Pongo el dataset en el formato que deepchem necesita\n",
    "Quizas aca se podía bajar directo en el formato"
   ]
  },
  {
   "cell_type": "code",
   "execution_count": 8,
   "id": "aabb264c-28d1-4457-add6-59ab0063f961",
   "metadata": {},
   "outputs": [],
   "source": [
    "dataset = dc.data.NumpyDataset(X=df['canonical_smiles'].values, y=df['pIC50'].values, ids=df['canonical_smiles'].values)"
   ]
  },
  {
   "cell_type": "markdown",
   "id": "29f715d2-43cd-48a7-8a83-5f5a31e0a7e5",
   "metadata": {},
   "source": [
    "# Divido en train y test\n",
    "Faltaría validación estrictametne"
   ]
  },
  {
   "cell_type": "code",
   "execution_count": 9,
   "id": "7fb0977e-8077-4855-8877-f7cff12d00a7",
   "metadata": {},
   "outputs": [],
   "source": [
    "splitter = dc.splits.RandomSplitter()"
   ]
  },
  {
   "cell_type": "code",
   "execution_count": 10,
   "id": "c699ac34-8ec5-427d-90ad-a9fe84269914",
   "metadata": {},
   "outputs": [],
   "source": [
    "train, test = splitter.train_test_split(dataset)"
   ]
  },
  {
   "cell_type": "markdown",
   "id": "4c4f3eb9-1d7b-4135-9d48-83e5a7bc6e5a",
   "metadata": {},
   "source": [
    "# Genero el diccionario de smiles que necesita el modelo para contruir el embedding"
   ]
  },
  {
   "cell_type": "code",
   "execution_count": 11,
   "id": "5ef22116-02a5-4744-a003-dbf42dce1326",
   "metadata": {},
   "outputs": [],
   "source": [
    "smiles_dict, lenght = dc.models.TextCNNModel.build_char_dict(dataset)"
   ]
  },
  {
   "cell_type": "code",
   "execution_count": 12,
   "id": "ec8e8868-8ff1-494d-ba44-0b092d79030f",
   "metadata": {},
   "outputs": [
    {
     "data": {
      "text/plain": [
       "{'#': 1,\n",
       " '(': 2,\n",
       " ')': 3,\n",
       " '+': 4,\n",
       " '-': 5,\n",
       " '/': 6,\n",
       " '1': 7,\n",
       " '2': 8,\n",
       " '3': 9,\n",
       " '4': 10,\n",
       " '5': 11,\n",
       " '6': 12,\n",
       " '7': 13,\n",
       " '8': 14,\n",
       " '=': 15,\n",
       " 'C': 16,\n",
       " 'F': 17,\n",
       " 'H': 18,\n",
       " 'I': 19,\n",
       " 'N': 20,\n",
       " 'O': 21,\n",
       " 'P': 22,\n",
       " 'S': 23,\n",
       " '[': 24,\n",
       " '\\\\': 25,\n",
       " ']': 26,\n",
       " '_': 27,\n",
       " 'c': 28,\n",
       " 'Cl': 29,\n",
       " 'Br': 30,\n",
       " 'n': 31,\n",
       " 'o': 32,\n",
       " 's': 33,\n",
       " '@': 34,\n",
       " '.': 35,\n",
       " 'a': 36,\n",
       " 'B': 37,\n",
       " 'e': 38,\n",
       " 'i': 39}"
      ]
     },
     "execution_count": 12,
     "metadata": {},
     "output_type": "execute_result"
    }
   ],
   "source": [
    "smiles_dict"
   ]
  },
  {
   "cell_type": "markdown",
   "id": "30945da2-37eb-4781-a52a-60c6c20618d5",
   "metadata": {},
   "source": [
    "# Instancio el modelo"
   ]
  },
  {
   "cell_type": "code",
   "execution_count": 13,
   "id": "4daaf2d0-681b-41c6-85d6-9ab6ea63fb32",
   "metadata": {},
   "outputs": [],
   "source": [
    "model = dc.models.TextCNNModel(\n",
    "    1, smiles_dict, lenght, mode='regression', n_embedding=128, kernel_sizes=[3, 4, 5], num_filters=[128, 128, 128], dropout=0., \n",
    "    log_frequency=5, batch_size=128, optimizer=dc.models.optimizers.Adam()\n",
    ")"
   ]
  },
  {
   "cell_type": "code",
   "execution_count": 14,
   "id": "bba7fe09-7d35-4ff0-8581-af16998770b2",
   "metadata": {},
   "outputs": [
    {
     "name": "stdout",
     "output_type": "stream",
     "text": [
      "Model: \"model\"\n",
      "__________________________________________________________________________________________________\n",
      " Layer (type)                   Output Shape         Param #     Connected to                     \n",
      "==================================================================================================\n",
      " input_1 (InputLayer)           [(None, 244)]        0           []                               \n",
      "                                                                                                  \n",
      " dtnn_embedding (DTNNEmbedding)  (None, 244, 128)    5120        ['input_1[0][0]']                \n",
      "                                                                                                  \n",
      " conv1d (Conv1D)                (None, 242, 128)     49280       ['dtnn_embedding[0][0]']         \n",
      "                                                                                                  \n",
      " conv1d_1 (Conv1D)              (None, 241, 128)     65664       ['dtnn_embedding[0][0]']         \n",
      "                                                                                                  \n",
      " conv1d_2 (Conv1D)              (None, 240, 128)     82048       ['dtnn_embedding[0][0]']         \n",
      "                                                                                                  \n",
      " lambda (Lambda)                (None, 128)          0           ['conv1d[0][0]']                 \n",
      "                                                                                                  \n",
      " lambda_1 (Lambda)              (None, 128)          0           ['conv1d_1[0][0]']               \n",
      "                                                                                                  \n",
      " lambda_2 (Lambda)              (None, 128)          0           ['conv1d_2[0][0]']               \n",
      "                                                                                                  \n",
      " concatenate (Concatenate)      (None, 384)          0           ['lambda[0][0]',                 \n",
      "                                                                  'lambda_1[0][0]',               \n",
      "                                                                  'lambda_2[0][0]']               \n",
      "                                                                                                  \n",
      " dropout (Dropout)              (None, 384)          0           ['concatenate[0][0]']            \n",
      "                                                                                                  \n",
      " dense (Dense)                  (None, 200)          77000       ['dropout[0][0]']                \n",
      "                                                                                                  \n",
      " highway (Highway)              (None, 200)          80400       ['dense[0][0]']                  \n",
      "                                                                                                  \n",
      " dense_1 (Dense)                (None, 1)            201         ['highway[0][0]']                \n",
      "                                                                                                  \n",
      " reshape (Reshape)              (None, 1, 1)         0           ['dense_1[0][0]']                \n",
      "                                                                                                  \n",
      "==================================================================================================\n",
      "Total params: 359,713\n",
      "Trainable params: 359,713\n",
      "Non-trainable params: 0\n",
      "__________________________________________________________________________________________________\n"
     ]
    }
   ],
   "source": [
    "model.model.summary()"
   ]
  },
  {
   "cell_type": "code",
   "execution_count": 15,
   "id": "902f4e29-2b30-4bb9-9485-ef7bc24f48eb",
   "metadata": {},
   "outputs": [],
   "source": [
    "# Es necesario para ver resultados mientras entrena\n",
    "vc = dc.models.ValidationCallback(test, 20, dc.metrics.r2_score)"
   ]
  },
  {
   "cell_type": "markdown",
   "id": "c58bc3fd-6cee-4441-97eb-2c812ac55d55",
   "metadata": {},
   "source": [
    "# Entreno"
   ]
  },
  {
   "cell_type": "code",
   "execution_count": null,
   "id": "fbebae78-32a4-4c46-a0d2-0d543c672bd4",
   "metadata": {
    "tags": []
   },
   "outputs": [],
   "source": [
    "model.fit(train, 100, callbacks=[vc])"
   ]
  },
  {
   "cell_type": "markdown",
   "id": "f0c63f7a-12dc-4e08-8313-762c38341ff1",
   "metadata": {},
   "source": [
    "# Evaluó"
   ]
  },
  {
   "cell_type": "code",
   "execution_count": null,
   "id": "e5396dd0-6e26-4394-8622-2f763bbb6070",
   "metadata": {},
   "outputs": [],
   "source": [
    "model.evaluate(train, dc.metrics.r2_score)"
   ]
  },
  {
   "cell_type": "code",
   "execution_count": null,
   "id": "d742002f-c864-478c-9e58-cd3a525273dc",
   "metadata": {},
   "outputs": [],
   "source": [
    "model.evaluate(test, dc.metrics.r2_score)"
   ]
  },
  {
   "cell_type": "code",
   "execution_count": null,
   "id": "50bcd3a1-e412-4f74-884f-00ccbb056adb",
   "metadata": {},
   "outputs": [],
   "source": []
  }
 ],
 "metadata": {
  "kernelspec": {
   "display_name": "Python 3",
   "language": "python",
   "name": "python3"
  },
  "language_info": {
   "codemirror_mode": {
    "name": "ipython",
    "version": 3
   },
   "file_extension": ".py",
   "mimetype": "text/x-python",
   "name": "python",
   "nbconvert_exporter": "python",
   "pygments_lexer": "ipython3",
   "version": "3.7.10"
  }
 },
 "nbformat": 4,
 "nbformat_minor": 5
}
