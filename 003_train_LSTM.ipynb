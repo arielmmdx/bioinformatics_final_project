{
 "cells": [
  {
   "cell_type": "code",
   "execution_count": 1,
   "id": "cb43c7ec-3a62-4e87-b1aa-2a0811ce08f2",
   "metadata": {
    "id": "cb43c7ec-3a62-4e87-b1aa-2a0811ce08f2"
   },
   "outputs": [],
   "source": [
    "#!pip install tensorflow numpy"
   ]
  },
  {
   "cell_type": "markdown",
   "id": "49beca0d-70a3-4b4e-b0c8-7a0fae09d823",
   "metadata": {},
   "source": [
    "### Lo corrí en Collab con gpus T4 porque local me tardaba mucho pero ya modifiqué la lectura del file al local."
   ]
  },
  {
   "cell_type": "code",
   "execution_count": 2,
   "id": "E8Cm0rsoSYY0",
   "metadata": {
    "colab": {
     "base_uri": "https://localhost:8080/"
    },
    "id": "E8Cm0rsoSYY0",
    "outputId": "a868d010-c4d6-46c6-fbd8-813686d93c23"
   },
   "outputs": [
    {
     "name": "stdout",
     "output_type": "stream",
     "text": [
      "Mounted at /content/drive\n"
     ]
    }
   ],
   "source": [
    "# Levanto google drive.\n",
    "#from google.colab import drive\n",
    "#drive.mount('/content/drive')"
   ]
  },
  {
   "cell_type": "code",
   "execution_count": 3,
   "id": "94d84244-5120-447a-bd01-917a82b216f4",
   "metadata": {
    "id": "94d84244-5120-447a-bd01-917a82b216f4"
   },
   "outputs": [],
   "source": [
    "import pandas as pd\n",
    "import numpy as np"
   ]
  },
  {
   "cell_type": "markdown",
   "id": "08544474-e883-4105-bcc3-9f3f9f014079",
   "metadata": {
    "id": "08544474-e883-4105-bcc3-9f3f9f014079"
   },
   "source": [
    "# Modelo Recurrentes con Embeddings a nivel de caracter"
   ]
  },
  {
   "cell_type": "code",
   "execution_count": 4,
   "id": "353a2d75-f0f4-4563-9842-c68d77118161",
   "metadata": {
    "id": "353a2d75-f0f4-4563-9842-c68d77118161"
   },
   "outputs": [],
   "source": [
    "#df = pd.read_csv('/content/drive/MyDrive/LSTM/acetylcholinesterase_02_bioactivity_data_preprocessed.csv')\n",
    "df = pd.read_csv('data/acetylcholinesterase_02_bioactivity_data_preprocessed.csv')"
   ]
  },
  {
   "cell_type": "code",
   "execution_count": 5,
   "id": "d1554fa5-d9ee-456c-be20-80571e319fc6",
   "metadata": {
    "colab": {
     "base_uri": "https://localhost:8080/",
     "height": 206
    },
    "id": "d1554fa5-d9ee-456c-be20-80571e319fc6",
    "outputId": "2e396e47-73e5-42c0-9bd4-3252999f2588"
   },
   "outputs": [
    {
     "data": {
      "text/html": [
       "\n",
       "  <div id=\"df-265e57f3-5c50-4b8b-985c-97f25defd83b\" class=\"colab-df-container\">\n",
       "    <div>\n",
       "<style scoped>\n",
       "    .dataframe tbody tr th:only-of-type {\n",
       "        vertical-align: middle;\n",
       "    }\n",
       "\n",
       "    .dataframe tbody tr th {\n",
       "        vertical-align: top;\n",
       "    }\n",
       "\n",
       "    .dataframe thead th {\n",
       "        text-align: right;\n",
       "    }\n",
       "</style>\n",
       "<table border=\"1\" class=\"dataframe\">\n",
       "  <thead>\n",
       "    <tr style=\"text-align: right;\">\n",
       "      <th></th>\n",
       "      <th>molecule_chembl_id</th>\n",
       "      <th>canonical_smiles</th>\n",
       "      <th>standard_value</th>\n",
       "      <th>standard_value_norm</th>\n",
       "      <th>pIC50</th>\n",
       "    </tr>\n",
       "  </thead>\n",
       "  <tbody>\n",
       "    <tr>\n",
       "      <th>0</th>\n",
       "      <td>CHEMBL133897</td>\n",
       "      <td>CCOc1nn(-c2cccc(OCc3ccccc3)c2)c(=O)o1</td>\n",
       "      <td>750.0</td>\n",
       "      <td>750.0</td>\n",
       "      <td>6.124939</td>\n",
       "    </tr>\n",
       "    <tr>\n",
       "      <th>1</th>\n",
       "      <td>CHEMBL336398</td>\n",
       "      <td>O=C(N1CCCCC1)n1nc(-c2ccc(Cl)cc2)nc1SCC1CC1</td>\n",
       "      <td>100.0</td>\n",
       "      <td>100.0</td>\n",
       "      <td>7.000000</td>\n",
       "    </tr>\n",
       "    <tr>\n",
       "      <th>2</th>\n",
       "      <td>CHEMBL131588</td>\n",
       "      <td>CN(C(=O)n1nc(-c2ccc(Cl)cc2)nc1SCC(F)(F)F)c1ccccc1</td>\n",
       "      <td>50000.0</td>\n",
       "      <td>50000.0</td>\n",
       "      <td>4.301030</td>\n",
       "    </tr>\n",
       "    <tr>\n",
       "      <th>3</th>\n",
       "      <td>CHEMBL130628</td>\n",
       "      <td>O=C(N1CCCCC1)n1nc(-c2ccc(Cl)cc2)nc1SCC(F)(F)F</td>\n",
       "      <td>300.0</td>\n",
       "      <td>300.0</td>\n",
       "      <td>6.522879</td>\n",
       "    </tr>\n",
       "    <tr>\n",
       "      <th>4</th>\n",
       "      <td>CHEMBL130478</td>\n",
       "      <td>CSc1nc(-c2ccc(OC(F)(F)F)cc2)nn1C(=O)N(C)C</td>\n",
       "      <td>800.0</td>\n",
       "      <td>800.0</td>\n",
       "      <td>6.096910</td>\n",
       "    </tr>\n",
       "  </tbody>\n",
       "</table>\n",
       "</div>\n",
       "    <div class=\"colab-df-buttons\">\n",
       "\n",
       "  <div class=\"colab-df-container\">\n",
       "    <button class=\"colab-df-convert\" onclick=\"convertToInteractive('df-265e57f3-5c50-4b8b-985c-97f25defd83b')\"\n",
       "            title=\"Convert this dataframe to an interactive table.\"\n",
       "            style=\"display:none;\">\n",
       "\n",
       "  <svg xmlns=\"http://www.w3.org/2000/svg\" height=\"24px\" viewBox=\"0 -960 960 960\">\n",
       "    <path d=\"M120-120v-720h720v720H120Zm60-500h600v-160H180v160Zm220 220h160v-160H400v160Zm0 220h160v-160H400v160ZM180-400h160v-160H180v160Zm440 0h160v-160H620v160ZM180-180h160v-160H180v160Zm440 0h160v-160H620v160Z\"/>\n",
       "  </svg>\n",
       "    </button>\n",
       "\n",
       "  <style>\n",
       "    .colab-df-container {\n",
       "      display:flex;\n",
       "      gap: 12px;\n",
       "    }\n",
       "\n",
       "    .colab-df-convert {\n",
       "      background-color: #E8F0FE;\n",
       "      border: none;\n",
       "      border-radius: 50%;\n",
       "      cursor: pointer;\n",
       "      display: none;\n",
       "      fill: #1967D2;\n",
       "      height: 32px;\n",
       "      padding: 0 0 0 0;\n",
       "      width: 32px;\n",
       "    }\n",
       "\n",
       "    .colab-df-convert:hover {\n",
       "      background-color: #E2EBFA;\n",
       "      box-shadow: 0px 1px 2px rgba(60, 64, 67, 0.3), 0px 1px 3px 1px rgba(60, 64, 67, 0.15);\n",
       "      fill: #174EA6;\n",
       "    }\n",
       "\n",
       "    .colab-df-buttons div {\n",
       "      margin-bottom: 4px;\n",
       "    }\n",
       "\n",
       "    [theme=dark] .colab-df-convert {\n",
       "      background-color: #3B4455;\n",
       "      fill: #D2E3FC;\n",
       "    }\n",
       "\n",
       "    [theme=dark] .colab-df-convert:hover {\n",
       "      background-color: #434B5C;\n",
       "      box-shadow: 0px 1px 3px 1px rgba(0, 0, 0, 0.15);\n",
       "      filter: drop-shadow(0px 1px 2px rgba(0, 0, 0, 0.3));\n",
       "      fill: #FFFFFF;\n",
       "    }\n",
       "  </style>\n",
       "\n",
       "    <script>\n",
       "      const buttonEl =\n",
       "        document.querySelector('#df-265e57f3-5c50-4b8b-985c-97f25defd83b button.colab-df-convert');\n",
       "      buttonEl.style.display =\n",
       "        google.colab.kernel.accessAllowed ? 'block' : 'none';\n",
       "\n",
       "      async function convertToInteractive(key) {\n",
       "        const element = document.querySelector('#df-265e57f3-5c50-4b8b-985c-97f25defd83b');\n",
       "        const dataTable =\n",
       "          await google.colab.kernel.invokeFunction('convertToInteractive',\n",
       "                                                    [key], {});\n",
       "        if (!dataTable) return;\n",
       "\n",
       "        const docLinkHtml = 'Like what you see? Visit the ' +\n",
       "          '<a target=\"_blank\" href=https://colab.research.google.com/notebooks/data_table.ipynb>data table notebook</a>'\n",
       "          + ' to learn more about interactive tables.';\n",
       "        element.innerHTML = '';\n",
       "        dataTable['output_type'] = 'display_data';\n",
       "        await google.colab.output.renderOutput(dataTable, element);\n",
       "        const docLink = document.createElement('div');\n",
       "        docLink.innerHTML = docLinkHtml;\n",
       "        element.appendChild(docLink);\n",
       "      }\n",
       "    </script>\n",
       "  </div>\n",
       "\n",
       "\n",
       "<div id=\"df-aa6d59e9-6376-4ff4-a93a-ed8737fc3c05\">\n",
       "  <button class=\"colab-df-quickchart\" onclick=\"quickchart('df-aa6d59e9-6376-4ff4-a93a-ed8737fc3c05')\"\n",
       "            title=\"Suggest charts.\"\n",
       "            style=\"display:none;\">\n",
       "\n",
       "<svg xmlns=\"http://www.w3.org/2000/svg\" height=\"24px\"viewBox=\"0 0 24 24\"\n",
       "     width=\"24px\">\n",
       "    <g>\n",
       "        <path d=\"M19 3H5c-1.1 0-2 .9-2 2v14c0 1.1.9 2 2 2h14c1.1 0 2-.9 2-2V5c0-1.1-.9-2-2-2zM9 17H7v-7h2v7zm4 0h-2V7h2v10zm4 0h-2v-4h2v4z\"/>\n",
       "    </g>\n",
       "</svg>\n",
       "  </button>\n",
       "\n",
       "<style>\n",
       "  .colab-df-quickchart {\n",
       "      --bg-color: #E8F0FE;\n",
       "      --fill-color: #1967D2;\n",
       "      --hover-bg-color: #E2EBFA;\n",
       "      --hover-fill-color: #174EA6;\n",
       "      --disabled-fill-color: #AAA;\n",
       "      --disabled-bg-color: #DDD;\n",
       "  }\n",
       "\n",
       "  [theme=dark] .colab-df-quickchart {\n",
       "      --bg-color: #3B4455;\n",
       "      --fill-color: #D2E3FC;\n",
       "      --hover-bg-color: #434B5C;\n",
       "      --hover-fill-color: #FFFFFF;\n",
       "      --disabled-bg-color: #3B4455;\n",
       "      --disabled-fill-color: #666;\n",
       "  }\n",
       "\n",
       "  .colab-df-quickchart {\n",
       "    background-color: var(--bg-color);\n",
       "    border: none;\n",
       "    border-radius: 50%;\n",
       "    cursor: pointer;\n",
       "    display: none;\n",
       "    fill: var(--fill-color);\n",
       "    height: 32px;\n",
       "    padding: 0;\n",
       "    width: 32px;\n",
       "  }\n",
       "\n",
       "  .colab-df-quickchart:hover {\n",
       "    background-color: var(--hover-bg-color);\n",
       "    box-shadow: 0 1px 2px rgba(60, 64, 67, 0.3), 0 1px 3px 1px rgba(60, 64, 67, 0.15);\n",
       "    fill: var(--button-hover-fill-color);\n",
       "  }\n",
       "\n",
       "  .colab-df-quickchart-complete:disabled,\n",
       "  .colab-df-quickchart-complete:disabled:hover {\n",
       "    background-color: var(--disabled-bg-color);\n",
       "    fill: var(--disabled-fill-color);\n",
       "    box-shadow: none;\n",
       "  }\n",
       "\n",
       "  .colab-df-spinner {\n",
       "    border: 2px solid var(--fill-color);\n",
       "    border-color: transparent;\n",
       "    border-bottom-color: var(--fill-color);\n",
       "    animation:\n",
       "      spin 1s steps(1) infinite;\n",
       "  }\n",
       "\n",
       "  @keyframes spin {\n",
       "    0% {\n",
       "      border-color: transparent;\n",
       "      border-bottom-color: var(--fill-color);\n",
       "      border-left-color: var(--fill-color);\n",
       "    }\n",
       "    20% {\n",
       "      border-color: transparent;\n",
       "      border-left-color: var(--fill-color);\n",
       "      border-top-color: var(--fill-color);\n",
       "    }\n",
       "    30% {\n",
       "      border-color: transparent;\n",
       "      border-left-color: var(--fill-color);\n",
       "      border-top-color: var(--fill-color);\n",
       "      border-right-color: var(--fill-color);\n",
       "    }\n",
       "    40% {\n",
       "      border-color: transparent;\n",
       "      border-right-color: var(--fill-color);\n",
       "      border-top-color: var(--fill-color);\n",
       "    }\n",
       "    60% {\n",
       "      border-color: transparent;\n",
       "      border-right-color: var(--fill-color);\n",
       "    }\n",
       "    80% {\n",
       "      border-color: transparent;\n",
       "      border-right-color: var(--fill-color);\n",
       "      border-bottom-color: var(--fill-color);\n",
       "    }\n",
       "    90% {\n",
       "      border-color: transparent;\n",
       "      border-bottom-color: var(--fill-color);\n",
       "    }\n",
       "  }\n",
       "</style>\n",
       "\n",
       "  <script>\n",
       "    async function quickchart(key) {\n",
       "      const quickchartButtonEl =\n",
       "        document.querySelector('#' + key + ' button');\n",
       "      quickchartButtonEl.disabled = true;  // To prevent multiple clicks.\n",
       "      quickchartButtonEl.classList.add('colab-df-spinner');\n",
       "      try {\n",
       "        const charts = await google.colab.kernel.invokeFunction(\n",
       "            'suggestCharts', [key], {});\n",
       "      } catch (error) {\n",
       "        console.error('Error during call to suggestCharts:', error);\n",
       "      }\n",
       "      quickchartButtonEl.classList.remove('colab-df-spinner');\n",
       "      quickchartButtonEl.classList.add('colab-df-quickchart-complete');\n",
       "    }\n",
       "    (() => {\n",
       "      let quickchartButtonEl =\n",
       "        document.querySelector('#df-aa6d59e9-6376-4ff4-a93a-ed8737fc3c05 button');\n",
       "      quickchartButtonEl.style.display =\n",
       "        google.colab.kernel.accessAllowed ? 'block' : 'none';\n",
       "    })();\n",
       "  </script>\n",
       "</div>\n",
       "    </div>\n",
       "  </div>\n"
      ],
      "text/plain": [
       "  molecule_chembl_id                                   canonical_smiles  \\\n",
       "0       CHEMBL133897              CCOc1nn(-c2cccc(OCc3ccccc3)c2)c(=O)o1   \n",
       "1       CHEMBL336398         O=C(N1CCCCC1)n1nc(-c2ccc(Cl)cc2)nc1SCC1CC1   \n",
       "2       CHEMBL131588  CN(C(=O)n1nc(-c2ccc(Cl)cc2)nc1SCC(F)(F)F)c1ccccc1   \n",
       "3       CHEMBL130628      O=C(N1CCCCC1)n1nc(-c2ccc(Cl)cc2)nc1SCC(F)(F)F   \n",
       "4       CHEMBL130478          CSc1nc(-c2ccc(OC(F)(F)F)cc2)nn1C(=O)N(C)C   \n",
       "\n",
       "   standard_value  standard_value_norm     pIC50  \n",
       "0           750.0                750.0  6.124939  \n",
       "1           100.0                100.0  7.000000  \n",
       "2         50000.0              50000.0  4.301030  \n",
       "3           300.0                300.0  6.522879  \n",
       "4           800.0                800.0  6.096910  "
      ]
     },
     "execution_count": 5,
     "metadata": {},
     "output_type": "execute_result"
    }
   ],
   "source": [
    "df.head()"
   ]
  },
  {
   "cell_type": "markdown",
   "id": "2985df76-23b9-45a8-83ed-ce8ae510219f",
   "metadata": {
    "id": "2985df76-23b9-45a8-83ed-ce8ae510219f"
   },
   "source": [
    "# Canonical_smiles To secuence"
   ]
  },
  {
   "cell_type": "code",
   "execution_count": 6,
   "id": "87e524d2-e7e9-4d3b-b1f1-b62254a0bc66",
   "metadata": {
    "id": "87e524d2-e7e9-4d3b-b1f1-b62254a0bc66"
   },
   "outputs": [],
   "source": [
    "from tensorflow.keras.preprocessing.text import Tokenizer\n",
    "from tensorflow.keras.preprocessing.sequence import pad_sequences"
   ]
  },
  {
   "cell_type": "markdown",
   "id": "b524afd5-79ed-433d-827b-ac04510ae8ad",
   "metadata": {
    "id": "b524afd5-79ed-433d-827b-ac04510ae8ad"
   },
   "source": [
    "Utilizando Tokenizer y pad_sequences de keras a nivel de caracter, obtener la entrada tokenizada. Por ejemplo:\n",
    "\n",
    "**El smiles**:\n",
    "\n",
    "'C[C@@]12CC[C@H]3[C@]4(C)CCC[C@@]5(C)C(=O)OCC[N+](C)(C)CCCCCCCCC[N+](C)(C)CCOC(=O)[C@]6(C)CCC[C@]7(C)[C@@H]6CC[C@@]68C[C@@H](OC(=O)CCCCCCCCC(=O)O[C@@H]1C[C@@]3(CC[C@@H]45)C2)[C@@](C)(CC[C@@H]76)C8.[Br-].[Br-]'\n",
    "\n",
    "**Tendría que quedar algo asi (puede que no sea exacto):**\n",
    "\n",
    "array([ 2, 11,  2, 13, 13, 12,  5,  7,  2,  2, 11,  2, 13, 16, 12, 10, 11,\n",
    "        2, 13, 12, 15,  3,  2,  4,  2,  2,  2, 11,  2, 13, 13, 12, 23,  3,\n",
    "        2,  4,  2,  3,  9,  6,  4,  6,  2,  2, 11,  8, 21, 12,  3,  2,  4,\n",
    "        3,  2,  4,  2,  2,  2,  2,  2,  2,  2,  2,  2, 11,  8, 21, 12,  3,\n",
    "        2,  4,  3,  2,  4,  2,  2,  6,  2,  3,  9,  6,  4, 11,  2, 13, 12,\n",
    "       30,  3,  2,  4,  2,  2,  2, 11,  2, 13, 12, 35,  3,  2,  4, 11,  2,\n",
    "       13, 13, 16, 12, 30,  2,  2, 11,  2, 13, 13, 12, 30, 36,  2, 11,  2,\n",
    "       13, 13, 16, 12,  3,  6,  2,  3,  9,  6,  4,  2,  2,  2,  2,  2,  2,\n",
    "        2,  2,  2,  3,  9,  6,  4,  6, 11,  2, 13, 13, 16, 12,  5,  2, 11,\n",
    "        2, 13, 13, 12, 10,  3,  2,  2, 11,  2, 13, 13, 16, 12, 15, 23,  4,\n",
    "        2,  7,  4, 11,  2, 13, 13, 12,  3,  2,  4,  3,  2,  2, 11,  2, 13,\n",
    "       13, 16, 12, 35, 30,  4,  2, 36, 20, 11, 25, 26, 17, 12, 20, 11, 25,\n",
    "       26, 17, 12], dtype=int32)\n",
    "       \n",
    "\n",
    "**Otro ejemplo:**\n",
    "smiles: 'NC(=O)O'\n",
    "\n",
    "array([0, 0, 0, 0, 0, 0, 0, 0, 0, 0, 0, 0, 0, 0, 0, 0, 0, 0, 0, 0, 0, 0,\n",
    "       0, 0, 0, 0, 0, 0, 0, 0, 0, 0, 0, 0, 0, 0, 0, 0, 0, 0, 0, 0, 0, 0,\n",
    "       0, 0, 0, 0, 0, 0, 0, 0, 0, 0, 0, 0, 0, 0, 0, 0, 0, 0, 0, 0, 0, 0,\n",
    "       0, 0, 0, 0, 0, 0, 0, 0, 0, 0, 0, 0, 0, 0, 0, 0, 0, 0, 0, 0, 0, 0,\n",
    "       0, 0, 0, 0, 0, 0, 0, 0, 0, 0, 0, 0, 0, 0, 0, 0, 0, 0, 0, 0, 0, 0,\n",
    "       0, 0, 0, 0, 0, 0, 0, 0, 0, 0, 0, 0, 0, 0, 0, 0, 0, 0, 0, 0, 0, 0,\n",
    "       0, 0, 0, 0, 0, 0, 0, 0, 0, 0, 0, 0, 0, 0, 0, 0, 0, 0, 0, 0, 0, 0,\n",
    "       0, 0, 0, 0, 0, 0, 0, 0, 0, 0, 0, 0, 0, 0, 0, 0, 0, 0, 0, 0, 0, 0,\n",
    "       0, 0, 0, 0, 0, 0, 0, 0, 0, 0, 0, 0, 0, 0, 0, 0, 0, 0, 0, 0, 0, 0,\n",
    "       0, 0, 8, 2, 3, 9, 6, 4, 6], dtype=int32)\n",
    "\n",
    "**Tener en cuenta:**\n",
    "\n",
    "- Ver cuanta es la máxima longitud para agregar el padding correspondiente\n",
    "- En el ejemplo se agrego padding a la izquierda"
   ]
  },
  {
   "cell_type": "code",
   "execution_count": 7,
   "id": "07f8fff5-c1f6-48d6-9e19-ee5defde20b1",
   "metadata": {
    "id": "07f8fff5-c1f6-48d6-9e19-ee5defde20b1"
   },
   "outputs": [],
   "source": [
    "max_len_idx = df['canonical_smiles'].apply(len).argmax()\n",
    "min_len_idx = df['canonical_smiles'].apply(len).argmin()"
   ]
  },
  {
   "cell_type": "code",
   "execution_count": 8,
   "id": "6a21da0d-f5cd-4c5f-a95c-94b9a1c9c359",
   "metadata": {
    "id": "6a21da0d-f5cd-4c5f-a95c-94b9a1c9c359"
   },
   "outputs": [],
   "source": [
    "min_sequence_length = df['canonical_smiles'].apply(len).min()\n",
    "max_sequence_length = df['canonical_smiles'].apply(len).max()"
   ]
  },
  {
   "cell_type": "code",
   "execution_count": 9,
   "id": "c9eaa10c-da25-4386-b332-ca86528c7341",
   "metadata": {
    "colab": {
     "base_uri": "https://localhost:8080/"
    },
    "id": "c9eaa10c-da25-4386-b332-ca86528c7341",
    "outputId": "7cd95ca6-13e4-4dab-dbdf-a17b569ccac3"
   },
   "outputs": [
    {
     "data": {
      "text/plain": [
       "204"
      ]
     },
     "execution_count": 9,
     "metadata": {},
     "output_type": "execute_result"
    }
   ],
   "source": [
    "max_sequence_length"
   ]
  },
  {
   "cell_type": "code",
   "execution_count": 10,
   "id": "703325ab-0193-4bf5-9b66-a880d7bc346b",
   "metadata": {
    "id": "703325ab-0193-4bf5-9b66-a880d7bc346b"
   },
   "outputs": [],
   "source": [
    "X = df['canonical_smiles']\n",
    "y = df['pIC50']"
   ]
  },
  {
   "cell_type": "code",
   "execution_count": 11,
   "id": "09894d86-4408-469c-b1f9-60f6d7218b5c",
   "metadata": {
    "id": "09894d86-4408-469c-b1f9-60f6d7218b5c"
   },
   "outputs": [],
   "source": [
    "# Implementar tokenización y guardar en X_seq_pad el dataset tokenizado"
   ]
  },
  {
   "cell_type": "code",
   "execution_count": 12,
   "id": "5028a561-00e6-4462-81dd-c1f25e44cd1f",
   "metadata": {
    "id": "5028a561-00e6-4462-81dd-c1f25e44cd1f"
   },
   "outputs": [],
   "source": [
    "import tensorflow as tf\n",
    "from tensorflow.keras.preprocessing.text import Tokenizer\n",
    "from tensorflow.keras.preprocessing.sequence import pad_sequences\n",
    "\n",
    "# Extract canonical smiles from the DataFrame\n",
    "canonical_smiles = X.tolist()\n",
    "\n",
    "# Initialize the Tokenizer\n",
    "tokenizer = Tokenizer(char_level=True)\n",
    "\n",
    "# Fit the tokenizer on the canonical smiles\n",
    "tokenizer.fit_on_texts(canonical_smiles)\n",
    "\n",
    "# Tokenize and pad the canonical smiles sequences\n",
    "canonical_smiles_tokenized = tokenizer.texts_to_sequences(canonical_smiles)\n",
    "max_sequence_length = max(map(len, canonical_smiles_tokenized))\n",
    "canonical_smiles_padded = pad_sequences(canonical_smiles_tokenized,\n",
    "                                        maxlen=max_sequence_length)\n",
    "\n",
    "# Convert padded sequences to a numpy array\n",
    "X_seq_pad = np.array(canonical_smiles_padded)"
   ]
  },
  {
   "cell_type": "code",
   "execution_count": 13,
   "id": "9233351c-7a53-464c-beaf-89d043cd8719",
   "metadata": {
    "colab": {
     "base_uri": "https://localhost:8080/"
    },
    "id": "9233351c-7a53-464c-beaf-89d043cd8719",
    "outputId": "fa8cf841-f78b-40d6-d61f-d910044d1c17"
   },
   "outputs": [
    {
     "data": {
      "text/plain": [
       "204"
      ]
     },
     "execution_count": 13,
     "metadata": {},
     "output_type": "execute_result"
    }
   ],
   "source": [
    "X_seq_pad.shape[1]"
   ]
  },
  {
   "cell_type": "code",
   "execution_count": 14,
   "id": "a9b3f66e-8ee9-4d05-8835-39645fd68920",
   "metadata": {
    "colab": {
     "base_uri": "https://localhost:8080/"
    },
    "id": "a9b3f66e-8ee9-4d05-8835-39645fd68920",
    "outputId": "a21c2976-a3a1-406f-dd78-525b86923631"
   },
   "outputs": [
    {
     "data": {
      "text/plain": [
       "(6157, 204)"
      ]
     },
     "execution_count": 14,
     "metadata": {},
     "output_type": "execute_result"
    }
   ],
   "source": [
    "# Find rows with inf values\n",
    "rows_with_inf = np.any(np.isinf(X_seq_pad), axis=1)\n",
    "\n",
    "# Remove rows with inf values\n",
    "X_seq_pad = X_seq_pad[~rows_with_inf]\n",
    "\n",
    "X_seq_pad.shape"
   ]
  },
  {
   "cell_type": "code",
   "execution_count": 15,
   "id": "8557166f-c696-48d7-9764-7414f62fbe27",
   "metadata": {
    "colab": {
     "base_uri": "https://localhost:8080/"
    },
    "id": "8557166f-c696-48d7-9764-7414f62fbe27",
    "outputId": "fea7d84b-0e00-4a98-ae0d-1f10404938b3"
   },
   "outputs": [
    {
     "data": {
      "text/plain": [
       "array([0, 0, 0, 0, 0, 0, 0, 0, 0, 0, 0, 0, 0, 0, 0, 0, 0, 0, 0, 0, 0, 0,\n",
       "       0, 0, 0, 0, 0, 0, 0, 0, 0, 0, 0, 0, 0, 0, 0, 0, 0, 0, 0, 0, 0, 0,\n",
       "       0, 0, 0, 0, 0, 0, 0, 0, 0, 0, 0, 0, 0, 0, 0, 0, 0, 0, 0, 0, 0, 0,\n",
       "       0, 0, 0, 0, 0, 0, 0, 0, 0, 0, 0, 0, 0, 0, 0, 0, 0, 0, 0, 0, 0, 0,\n",
       "       0, 0, 0, 0, 0, 0, 0, 0, 0, 0, 0, 0, 0, 0, 0, 0, 0, 0, 0, 0, 0, 0,\n",
       "       0, 0, 0, 0, 0, 0, 0, 0, 0, 0, 0, 0, 0, 0, 0, 0, 0, 0, 0, 0, 0, 0,\n",
       "       0, 0, 0, 0, 0, 0, 0, 0, 0, 0, 0, 0, 0, 0, 0, 0, 0, 0, 0, 0, 0, 0,\n",
       "       0, 0, 0, 0, 0, 0, 0, 0, 0, 0, 0, 0, 0, 0, 0, 0, 0, 0, 0, 0, 0, 0,\n",
       "       0, 0, 0, 0, 0, 6, 1, 4, 1, 7, 1, 2, 6, 1, 9, 1, 4, 1, 1, 1, 1, 9,\n",
       "       3, 1, 1, 1, 1, 7], dtype=int32)"
      ]
     },
     "execution_count": 15,
     "metadata": {},
     "output_type": "execute_result"
    }
   ],
   "source": [
    "X_seq_pad[200]"
   ]
  },
  {
   "cell_type": "markdown",
   "id": "4233710d-9274-4dae-b22d-cf42b57ad862",
   "metadata": {
    "id": "4233710d-9274-4dae-b22d-cf42b57ad862"
   },
   "source": [
    "# Split"
   ]
  },
  {
   "cell_type": "code",
   "execution_count": 16,
   "id": "ce7a95e6-2486-42fb-97fb-865e3fd6a561",
   "metadata": {
    "id": "ce7a95e6-2486-42fb-97fb-865e3fd6a561"
   },
   "outputs": [],
   "source": [
    "from sklearn.model_selection import train_test_split"
   ]
  },
  {
   "cell_type": "code",
   "execution_count": 17,
   "id": "fcb9840f-2f41-45be-99a5-f05f3ab73ed8",
   "metadata": {
    "id": "fcb9840f-2f41-45be-99a5-f05f3ab73ed8"
   },
   "outputs": [],
   "source": [
    "# Convert labels to a numpy array\n",
    "X_train, X_test, y_train, y_test = train_test_split(X_seq_pad, y, test_size=0.2, random_state=999)\n",
    "rows_to_remove = slice(4100, 4150)\n",
    "X_train = np.concatenate((X_train[:rows_to_remove.start], X_train[rows_to_remove.stop:]), axis=0)\n",
    "y_train = np.concatenate((y_train[:rows_to_remove.start], y_train[rows_to_remove.stop:]), axis=0)"
   ]
  },
  {
   "cell_type": "code",
   "execution_count": 18,
   "id": "0cd54161-6633-48e0-a32d-df8fe9f1247b",
   "metadata": {
    "id": "0cd54161-6633-48e0-a32d-df8fe9f1247b"
   },
   "outputs": [],
   "source": [
    "# Remove specific rows from X_train and y_train\n",
    "rows_to_remove = slice(4100, 4150)\n",
    "X_train = np.concatenate((X_train[:rows_to_remove.start], X_train[rows_to_remove.stop:]), axis=0)\n",
    "y_train = np.concatenate((y_train[:rows_to_remove.start], y_train[rows_to_remove.stop:]), axis=0)"
   ]
  },
  {
   "cell_type": "code",
   "execution_count": 19,
   "id": "4ad17134-3e15-42d1-b8c9-0c793169e145",
   "metadata": {
    "colab": {
     "base_uri": "https://localhost:8080/"
    },
    "id": "4ad17134-3e15-42d1-b8c9-0c793169e145",
    "outputId": "078a337b-6697-480a-8baa-916fde925899"
   },
   "outputs": [
    {
     "data": {
      "text/plain": [
       "(4825, 4825, 1232, 1232)"
      ]
     },
     "execution_count": 19,
     "metadata": {},
     "output_type": "execute_result"
    }
   ],
   "source": [
    "len(X_train), len(y_train), len(X_test) , len(y_test)"
   ]
  },
  {
   "cell_type": "markdown",
   "id": "85941430-2534-4d7d-ba52-d934a31c1bf6",
   "metadata": {
    "id": "85941430-2534-4d7d-ba52-d934a31c1bf6"
   },
   "source": [
    "# Network Model"
   ]
  },
  {
   "cell_type": "code",
   "execution_count": 20,
   "id": "6bd5d1bf-4640-4cbc-acd3-72881ddcc07e",
   "metadata": {
    "id": "6bd5d1bf-4640-4cbc-acd3-72881ddcc07e"
   },
   "outputs": [],
   "source": [
    "from tensorflow.keras import Sequential\n",
    "from tensorflow.keras.layers import LSTM, Dense, Embedding, Bidirectional, Dropout, Activation, BatchNormalization\n",
    "from tensorflow.keras.callbacks import ModelCheckpoint\n",
    "from tensorflow.keras.optimizers import Adam, RMSprop\n",
    "from tensorflow.keras import backend as K"
   ]
  },
  {
   "cell_type": "code",
   "execution_count": 21,
   "id": "4bf115a2-9f1b-42b8-9b62-59728f1da977",
   "metadata": {
    "id": "4bf115a2-9f1b-42b8-9b62-59728f1da977"
   },
   "outputs": [],
   "source": [
    "# Métrica\n",
    "def R2(y_true, y_pred):\n",
    "    SS_res =  K.sum(K.square( y_true-y_pred ))\n",
    "    SS_tot = K.sum(K.square( y_true - K.mean(y_true) ) )\n",
    "    return ( 1 - SS_res/(SS_tot + K.epsilon()) )"
   ]
  },
  {
   "cell_type": "code",
   "execution_count": 22,
   "id": "92d30b68-3110-459c-887d-a06f056d067b",
   "metadata": {
    "id": "92d30b68-3110-459c-887d-a06f056d067b"
   },
   "outputs": [],
   "source": [
    "# vocab_size = # Completar largo del vocabulario\n",
    "vocab_size = len(list(tokenizer.word_index.keys()))"
   ]
  },
  {
   "cell_type": "code",
   "execution_count": 23,
   "id": "6166a72b-ccd1-459c-a3a1-fa43bf31a369",
   "metadata": {
    "id": "6166a72b-ccd1-459c-a3a1-fa43bf31a369"
   },
   "outputs": [],
   "source": [
    "max_sequence_len = len(max(X_seq_pad, key=len))"
   ]
  },
  {
   "cell_type": "markdown",
   "id": "cc91cd42-b885-4ab5-b348-57296b0c0d10",
   "metadata": {
    "id": "cc91cd42-b885-4ab5-b348-57296b0c0d10"
   },
   "source": [
    "# Armar modelo en keras de LSTM\n",
    "El de abajo es un ejemplo propuesto pero puede armar otro similar (siempre con LSTM o GRU)"
   ]
  },
  {
   "cell_type": "raw",
   "id": "9883ed67-e2d9-412a-8f8b-1e463df69ed8",
   "metadata": {
    "id": "9883ed67-e2d9-412a-8f8b-1e463df69ed8"
   },
   "source": [
    "Model: \"sequential\"\n",
    "_________________________________________________________________\n",
    "Layer (type)                 Output Shape              Param #\n",
    "=================================================================\n",
    "embedding (Embedding)        (None, 207, 64)           2496\n",
    "_________________________________________________________________\n",
    "bidirectional (Bidirectional (None, 200)               132000\n",
    "_________________________________________________________________\n",
    "dense (Dense)                (None, 50)                10050\n",
    "_________________________________________________________________\n",
    "batch_normalization (BatchNo (None, 50)                200\n",
    "_________________________________________________________________\n",
    "activation (Activation)      (None, 50)                0\n",
    "_________________________________________________________________\n",
    "dense_1 (Dense)              (None, 1)                 51\n",
    "=================================================================\n",
    "Total params: 144,797\n",
    "Trainable params: 144,697\n",
    "Non-trainable params: 100\n",
    "_________________________________________________________________"
   ]
  },
  {
   "cell_type": "code",
   "execution_count": 24,
   "id": "771e04f3-b991-4ffb-be76-0d2075494f58",
   "metadata": {
    "colab": {
     "base_uri": "https://localhost:8080/"
    },
    "id": "771e04f3-b991-4ffb-be76-0d2075494f58",
    "outputId": "e2e13985-1da5-4dac-bf00-d5c87f39e78e"
   },
   "outputs": [
    {
     "data": {
      "text/plain": [
       "array([ 0,  0,  0,  0,  0,  0,  0,  0,  0,  0,  0,  0,  0,  0,  0,  0,  0,\n",
       "        0,  0,  0,  0,  0,  0,  0,  0,  0,  0,  0,  0,  0,  0,  0,  0,  0,\n",
       "        0,  0,  0,  0,  0,  0,  0,  0,  0,  0,  0,  0,  0,  0,  0,  0,  0,\n",
       "        0,  0,  0,  0,  0,  0,  0,  0,  0,  0,  0,  0,  0,  0,  0,  0,  0,\n",
       "        0,  0,  0,  0,  0,  0,  0,  0,  0,  0,  0,  0,  0,  0,  0,  0,  0,\n",
       "        0,  0,  0,  0,  0,  0,  0,  0,  0,  0,  0,  0,  0,  0,  0,  0,  0,\n",
       "        0,  0,  0,  0,  0,  0,  0,  0,  0,  0,  0,  0,  0,  0,  0,  0,  0,\n",
       "        0,  0,  0,  0,  0,  0,  0,  0,  0,  0,  0,  0,  0,  0,  0,  0,  0,\n",
       "        0,  0,  0,  0,  0,  0,  0,  0,  0,  0,  0,  0,  0,  0,  1,  1,  5,\n",
       "        1,  2,  8,  5,  3,  1,  4,  8,  1,  2,  1,  3,  5,  1,  7,  6,  1,\n",
       "        9,  1,  2,  1,  2,  6,  3,  1,  7, 10,  1, 12, 14, 11,  4,  1,  4,\n",
       "        1,  1,  1,  1,  2,  5,  1,  3,  1,  4,  3,  1,  1,  1,  1,  1,  9],\n",
       "      dtype=int32)"
      ]
     },
     "execution_count": 24,
     "metadata": {},
     "output_type": "execute_result"
    }
   ],
   "source": [
    "X_train[0]"
   ]
  },
  {
   "cell_type": "code",
   "execution_count": 28,
   "id": "a17cfd88-8564-491b-9480-6d65f585277a",
   "metadata": {
    "colab": {
     "base_uri": "https://localhost:8080/"
    },
    "id": "a17cfd88-8564-491b-9480-6d65f585277a",
    "outputId": "4ec097e8-8b7f-4a10-cc8b-eef475bc41b1"
   },
   "outputs": [
    {
     "name": "stdout",
     "output_type": "stream",
     "text": [
      "Model: \"sequential_1\"\n",
      "_________________________________________________________________\n",
      " Layer (type)                Output Shape              Param #   \n",
      "=================================================================\n",
      " embedding_1 (Embedding)     (None, 204, 128)          4352      \n",
      "                                                                 \n",
      " bidirectional_1 (Bidirectio  (None, 256)              263168    \n",
      " nal)                                                            \n",
      "                                                                 \n",
      " dense_2 (Dense)             (None, 256)               65792     \n",
      "                                                                 \n",
      " batch_normalization_1 (Batc  (None, 256)              1024      \n",
      " hNormalization)                                                 \n",
      "                                                                 \n",
      " activation_1 (Activation)   (None, 256)               0         \n",
      "                                                                 \n",
      " dense_3 (Dense)             (None, 1)                 257       \n",
      "                                                                 \n",
      "=================================================================\n",
      "Total params: 334,593\n",
      "Trainable params: 334,081\n",
      "Non-trainable params: 512\n",
      "_________________________________________________________________\n"
     ]
    }
   ],
   "source": [
    "import numpy as np\n",
    "import tensorflow as tf\n",
    "from tensorflow.keras.models import Sequential\n",
    "from tensorflow.keras.layers import Embedding, Bidirectional, Dense, BatchNormalization, Activation, LSTM\n",
    "from tensorflow.keras.callbacks import ReduceLROnPlateau, EarlyStopping\n",
    "from tensorflow.keras.regularizers import l2\n",
    "from tensorflow.keras.optimizers import RMSprop\n",
    "from tensorflow.keras.metrics import MeanSquaredError, RootMeanSquaredError\n",
    "\n",
    "# Build the sequential model\n",
    "model = Sequential()\n",
    "\n",
    "# Embedding layer\n",
    "embedding_dim = 128\n",
    "model.add(Embedding(input_dim=len(tokenizer.word_index) + 1, output_dim=embedding_dim, input_length=X_seq_pad.shape[1]))\n",
    "\n",
    "# Bidirectional LSTM layer with L2 regularization\n",
    "lstm_units = 128\n",
    "model.add(Bidirectional(LSTM(units=lstm_units, return_sequences=False, kernel_regularizer=l2(0.01))))\n",
    "\n",
    "# Dense layer with L2 regularization\n",
    "dense_units = 256\n",
    "model.add(Dense(units=dense_units, kernel_regularizer=l2(0.01)))\n",
    "\n",
    "# Batch normalization layer\n",
    "model.add(BatchNormalization())\n",
    "\n",
    "# Activation layer\n",
    "model.add(Activation('relu'))\n",
    "\n",
    "# Output dense layer\n",
    "model.add(Dense(units=1, activation='linear'))  # Use 'linear' activation for regression\n",
    "\n",
    "# Print the model summary\n",
    "model.summary()\n",
    "\n",
    "# Learning rate scheduler\n",
    "lr_scheduler = ReduceLROnPlateau(monitor='val_loss', factor=0.5, patience=5, min_lr=1e-6)\n",
    "\n",
    "# Early stopping\n",
    "early_stopping = EarlyStopping(monitor='val_loss', patience=10, restore_best_weights=True)\n",
    "\n",
    "# Compile the model\n",
    "optimizer = RMSprop(learning_rate=0.001, clipvalue=0.1)\n",
    "model.compile(optimizer=optimizer, loss='mse', metrics=[MeanSquaredError(), RootMeanSquaredError()])\n",
    "\n",
    "# Print the model summary\n",
    "#model.summary()"
   ]
  },
  {
   "cell_type": "code",
   "execution_count": 26,
   "id": "62c3f792-f413-4150-8ebf-1f59c5fb986d",
   "metadata": {
    "id": "62c3f792-f413-4150-8ebf-1f59c5fb986d"
   },
   "outputs": [],
   "source": [
    "mcp = ModelCheckpoint('models/best_model_{epoch}', save_best_only=True, save_format=\"h5\")"
   ]
  },
  {
   "cell_type": "code",
   "execution_count": 31,
   "id": "rhIUYk4_UMa4",
   "metadata": {
    "id": "rhIUYk4_UMa4"
   },
   "outputs": [],
   "source": [
    "import warnings\n",
    "\n",
    "# Filter out all warnings\n",
    "warnings.filterwarnings(\"ignore\")"
   ]
  },
  {
   "cell_type": "code",
   "execution_count": 30,
   "id": "3f37ab4e-0e3a-44c6-a572-ba5c67930c61",
   "metadata": {
    "colab": {
     "base_uri": "https://localhost:8080/"
    },
    "id": "3f37ab4e-0e3a-44c6-a572-ba5c67930c61",
    "outputId": "5803a852-efea-4ae9-cf56-0d15832cabe2"
   },
   "outputs": [
    {
     "name": "stdout",
     "output_type": "stream",
     "text": [
      "Epoch 1/100\n",
      "151/151 [==============================] - 10s 36ms/step - loss: 8.1090 - mean_squared_error: 5.5085 - root_mean_squared_error: 2.3470 - val_loss: 17.8243 - val_mean_squared_error: 16.3249 - val_root_mean_squared_error: 4.0404 - lr: 0.0010\n",
      "Epoch 2/100\n",
      "151/151 [==============================] - 3s 19ms/step - loss: 3.8618 - mean_squared_error: 2.6598 - root_mean_squared_error: 1.6309 - val_loss: 9.7641 - val_mean_squared_error: 8.8057 - val_root_mean_squared_error: 2.9674 - lr: 0.0010\n",
      "Epoch 3/100\n",
      "151/151 [==============================] - 4s 27ms/step - loss: 3.3417 - mean_squared_error: 2.5331 - root_mean_squared_error: 1.5916 - val_loss: 3.2814 - val_mean_squared_error: 2.5979 - val_root_mean_squared_error: 1.6118 - lr: 0.0010\n",
      "Epoch 4/100\n",
      "151/151 [==============================] - 3s 21ms/step - loss: 3.0050 - mean_squared_error: 2.4078 - root_mean_squared_error: 1.5517 - val_loss: 5.4408 - val_mean_squared_error: 4.9182 - val_root_mean_squared_error: 2.2177 - lr: 0.0010\n",
      "Epoch 5/100\n",
      "151/151 [==============================] - 3s 19ms/step - loss: 2.7232 - mean_squared_error: 2.2600 - root_mean_squared_error: 1.5033 - val_loss: 2.5837 - val_mean_squared_error: 2.1684 - val_root_mean_squared_error: 1.4726 - lr: 0.0010\n",
      "Epoch 6/100\n",
      "151/151 [==============================] - 3s 20ms/step - loss: 2.6253 - mean_squared_error: 2.2486 - root_mean_squared_error: 1.4995 - val_loss: 2.3656 - val_mean_squared_error: 2.0246 - val_root_mean_squared_error: 1.4229 - lr: 0.0010\n",
      "Epoch 7/100\n",
      "151/151 [==============================] - 4s 26ms/step - loss: 2.4784 - mean_squared_error: 2.1570 - root_mean_squared_error: 1.4687 - val_loss: 2.4909 - val_mean_squared_error: 2.1934 - val_root_mean_squared_error: 1.4810 - lr: 0.0010\n",
      "Epoch 8/100\n",
      "151/151 [==============================] - 3s 20ms/step - loss: 2.3757 - mean_squared_error: 2.0973 - root_mean_squared_error: 1.4482 - val_loss: 2.7413 - val_mean_squared_error: 2.4761 - val_root_mean_squared_error: 1.5735 - lr: 0.0010\n",
      "Epoch 9/100\n",
      "151/151 [==============================] - 3s 19ms/step - loss: 2.3112 - mean_squared_error: 2.0563 - root_mean_squared_error: 1.4340 - val_loss: 2.7094 - val_mean_squared_error: 2.4647 - val_root_mean_squared_error: 1.5699 - lr: 0.0010\n",
      "Epoch 10/100\n",
      "151/151 [==============================] - 3s 19ms/step - loss: 2.2387 - mean_squared_error: 2.0009 - root_mean_squared_error: 1.4145 - val_loss: 2.9330 - val_mean_squared_error: 2.7032 - val_root_mean_squared_error: 1.6441 - lr: 0.0010\n",
      "Epoch 11/100\n",
      "151/151 [==============================] - 3s 22ms/step - loss: 2.1770 - mean_squared_error: 1.9599 - root_mean_squared_error: 1.4000 - val_loss: 2.7193 - val_mean_squared_error: 2.5066 - val_root_mean_squared_error: 1.5832 - lr: 0.0010\n",
      "Epoch 12/100\n",
      "151/151 [==============================] - 3s 23ms/step - loss: 1.9555 - mean_squared_error: 1.7538 - root_mean_squared_error: 1.3243 - val_loss: 2.3024 - val_mean_squared_error: 2.1099 - val_root_mean_squared_error: 1.4525 - lr: 5.0000e-04\n",
      "Epoch 13/100\n",
      "149/151 [============================>.] - ETA: 0s - loss: 1.9310 - mean_squared_error: 1.7453 - root_mean_squared_error: 1.3211"
     ]
    },
    {
     "name": "stderr",
     "output_type": "stream",
     "text": [
      "WARNING:absl:Found untraced functions such as lstm_cell_4_layer_call_fn, lstm_cell_4_layer_call_and_return_conditional_losses, lstm_cell_5_layer_call_fn, lstm_cell_5_layer_call_and_return_conditional_losses while saving (showing 4 of 4). These functions will not be directly callable after loading.\n"
     ]
    },
    {
     "name": "stdout",
     "output_type": "stream",
     "text": [
      "151/151 [==============================] - 14s 96ms/step - loss: 1.9257 - mean_squared_error: 1.7400 - root_mean_squared_error: 1.3191 - val_loss: 2.0963 - val_mean_squared_error: 1.9150 - val_root_mean_squared_error: 1.3838 - lr: 5.0000e-04\n",
      "Epoch 14/100\n",
      "149/151 [============================>.] - ETA: 0s - loss: 1.9179 - mean_squared_error: 1.7403 - root_mean_squared_error: 1.3192"
     ]
    },
    {
     "name": "stderr",
     "output_type": "stream",
     "text": [
      "WARNING:absl:Found untraced functions such as lstm_cell_4_layer_call_fn, lstm_cell_4_layer_call_and_return_conditional_losses, lstm_cell_5_layer_call_fn, lstm_cell_5_layer_call_and_return_conditional_losses while saving (showing 4 of 4). These functions will not be directly callable after loading.\n"
     ]
    },
    {
     "name": "stdout",
     "output_type": "stream",
     "text": [
      "151/151 [==============================] - 15s 98ms/step - loss: 1.9163 - mean_squared_error: 1.7387 - root_mean_squared_error: 1.3186 - val_loss: 2.0846 - val_mean_squared_error: 1.9108 - val_root_mean_squared_error: 1.3823 - lr: 5.0000e-04\n",
      "Epoch 15/100\n",
      "151/151 [==============================] - 3s 20ms/step - loss: 1.8068 - mean_squared_error: 1.6367 - root_mean_squared_error: 1.2794 - val_loss: 2.0861 - val_mean_squared_error: 1.9197 - val_root_mean_squared_error: 1.3855 - lr: 5.0000e-04\n",
      "Epoch 16/100\n",
      "151/151 [==============================] - 3s 19ms/step - loss: 1.8092 - mean_squared_error: 1.6460 - root_mean_squared_error: 1.2830 - val_loss: 2.1855 - val_mean_squared_error: 2.0242 - val_root_mean_squared_error: 1.4227 - lr: 5.0000e-04\n",
      "Epoch 17/100\n",
      "151/151 [==============================] - 4s 28ms/step - loss: 1.7880 - mean_squared_error: 1.6302 - root_mean_squared_error: 1.2768 - val_loss: 2.1872 - val_mean_squared_error: 2.0300 - val_root_mean_squared_error: 1.4248 - lr: 5.0000e-04\n",
      "Epoch 18/100\n",
      "151/151 [==============================] - ETA: 0s - loss: 1.7911 - mean_squared_error: 1.6367 - root_mean_squared_error: 1.2793"
     ]
    },
    {
     "name": "stderr",
     "output_type": "stream",
     "text": [
      "WARNING:absl:Found untraced functions such as lstm_cell_4_layer_call_fn, lstm_cell_4_layer_call_and_return_conditional_losses, lstm_cell_5_layer_call_fn, lstm_cell_5_layer_call_and_return_conditional_losses while saving (showing 4 of 4). These functions will not be directly callable after loading.\n"
     ]
    },
    {
     "name": "stdout",
     "output_type": "stream",
     "text": [
      "151/151 [==============================] - 15s 103ms/step - loss: 1.7911 - mean_squared_error: 1.6367 - root_mean_squared_error: 1.2793 - val_loss: 1.8657 - val_mean_squared_error: 1.7143 - val_root_mean_squared_error: 1.3093 - lr: 5.0000e-04\n",
      "Epoch 19/100\n",
      "151/151 [==============================] - 3s 20ms/step - loss: 1.7307 - mean_squared_error: 1.5805 - root_mean_squared_error: 1.2572 - val_loss: 2.7105 - val_mean_squared_error: 2.5600 - val_root_mean_squared_error: 1.6000 - lr: 5.0000e-04\n",
      "Epoch 20/100\n",
      "151/151 [==============================] - 3s 19ms/step - loss: 1.7070 - mean_squared_error: 1.5573 - root_mean_squared_error: 1.2479 - val_loss: 1.9514 - val_mean_squared_error: 1.8046 - val_root_mean_squared_error: 1.3433 - lr: 5.0000e-04\n",
      "Epoch 21/100\n",
      "151/151 [==============================] - 3s 19ms/step - loss: 1.7015 - mean_squared_error: 1.5549 - root_mean_squared_error: 1.2470 - val_loss: 2.6256 - val_mean_squared_error: 2.4802 - val_root_mean_squared_error: 1.5749 - lr: 5.0000e-04\n",
      "Epoch 22/100\n",
      "151/151 [==============================] - 4s 26ms/step - loss: 1.6669 - mean_squared_error: 1.5207 - root_mean_squared_error: 1.2332 - val_loss: 1.9126 - val_mean_squared_error: 1.7669 - val_root_mean_squared_error: 1.3292 - lr: 5.0000e-04\n",
      "Epoch 23/100\n",
      "149/151 [============================>.] - ETA: 0s - loss: 1.6360 - mean_squared_error: 1.4895 - root_mean_squared_error: 1.2204"
     ]
    },
    {
     "name": "stderr",
     "output_type": "stream",
     "text": [
      "WARNING:absl:Found untraced functions such as lstm_cell_4_layer_call_fn, lstm_cell_4_layer_call_and_return_conditional_losses, lstm_cell_5_layer_call_fn, lstm_cell_5_layer_call_and_return_conditional_losses while saving (showing 4 of 4). These functions will not be directly callable after loading.\n"
     ]
    },
    {
     "name": "stdout",
     "output_type": "stream",
     "text": [
      "151/151 [==============================] - 15s 100ms/step - loss: 1.6288 - mean_squared_error: 1.4823 - root_mean_squared_error: 1.2175 - val_loss: 1.7517 - val_mean_squared_error: 1.6064 - val_root_mean_squared_error: 1.2674 - lr: 5.0000e-04\n",
      "Epoch 24/100\n",
      "151/151 [==============================] - 3s 21ms/step - loss: 1.6052 - mean_squared_error: 1.4586 - root_mean_squared_error: 1.2077 - val_loss: 1.9168 - val_mean_squared_error: 1.7705 - val_root_mean_squared_error: 1.3306 - lr: 5.0000e-04\n",
      "Epoch 25/100\n",
      "151/151 [==============================] - 3s 19ms/step - loss: 1.5721 - mean_squared_error: 1.4254 - root_mean_squared_error: 1.1939 - val_loss: 1.7617 - val_mean_squared_error: 1.6154 - val_root_mean_squared_error: 1.2710 - lr: 5.0000e-04\n",
      "Epoch 26/100\n",
      "151/151 [==============================] - 3s 21ms/step - loss: 1.5539 - mean_squared_error: 1.4074 - root_mean_squared_error: 1.1863 - val_loss: 1.7938 - val_mean_squared_error: 1.6458 - val_root_mean_squared_error: 1.2829 - lr: 5.0000e-04\n",
      "Epoch 27/100\n",
      "149/151 [============================>.] - ETA: 0s - loss: 1.5090 - mean_squared_error: 1.3608 - root_mean_squared_error: 1.1666"
     ]
    },
    {
     "name": "stderr",
     "output_type": "stream",
     "text": [
      "WARNING:absl:Found untraced functions such as lstm_cell_4_layer_call_fn, lstm_cell_4_layer_call_and_return_conditional_losses, lstm_cell_5_layer_call_fn, lstm_cell_5_layer_call_and_return_conditional_losses while saving (showing 4 of 4). These functions will not be directly callable after loading.\n"
     ]
    },
    {
     "name": "stdout",
     "output_type": "stream",
     "text": [
      "151/151 [==============================] - 16s 104ms/step - loss: 1.5142 - mean_squared_error: 1.3661 - root_mean_squared_error: 1.1688 - val_loss: 1.7517 - val_mean_squared_error: 1.6055 - val_root_mean_squared_error: 1.2671 - lr: 5.0000e-04\n",
      "Epoch 28/100\n",
      "149/151 [============================>.] - ETA: 0s - loss: 1.4778 - mean_squared_error: 1.3308 - root_mean_squared_error: 1.1536"
     ]
    },
    {
     "name": "stderr",
     "output_type": "stream",
     "text": [
      "WARNING:absl:Found untraced functions such as lstm_cell_4_layer_call_fn, lstm_cell_4_layer_call_and_return_conditional_losses, lstm_cell_5_layer_call_fn, lstm_cell_5_layer_call_and_return_conditional_losses while saving (showing 4 of 4). These functions will not be directly callable after loading.\n"
     ]
    },
    {
     "name": "stdout",
     "output_type": "stream",
     "text": [
      "151/151 [==============================] - 15s 103ms/step - loss: 1.4876 - mean_squared_error: 1.3405 - root_mean_squared_error: 1.1578 - val_loss: 1.7249 - val_mean_squared_error: 1.5793 - val_root_mean_squared_error: 1.2567 - lr: 5.0000e-04\n",
      "Epoch 29/100\n",
      "151/151 [==============================] - 4s 25ms/step - loss: 1.4743 - mean_squared_error: 1.3275 - root_mean_squared_error: 1.1522 - val_loss: 1.7897 - val_mean_squared_error: 1.6428 - val_root_mean_squared_error: 1.2817 - lr: 5.0000e-04\n",
      "Epoch 30/100\n",
      "148/151 [============================>.] - ETA: 0s - loss: 1.4288 - mean_squared_error: 1.2820 - root_mean_squared_error: 1.1322"
     ]
    },
    {
     "name": "stderr",
     "output_type": "stream",
     "text": [
      "WARNING:absl:Found untraced functions such as lstm_cell_4_layer_call_fn, lstm_cell_4_layer_call_and_return_conditional_losses, lstm_cell_5_layer_call_fn, lstm_cell_5_layer_call_and_return_conditional_losses while saving (showing 4 of 4). These functions will not be directly callable after loading.\n"
     ]
    },
    {
     "name": "stdout",
     "output_type": "stream",
     "text": [
      "151/151 [==============================] - 15s 100ms/step - loss: 1.4273 - mean_squared_error: 1.2806 - root_mean_squared_error: 1.1316 - val_loss: 1.5943 - val_mean_squared_error: 1.4485 - val_root_mean_squared_error: 1.2035 - lr: 5.0000e-04\n",
      "Epoch 31/100\n",
      "151/151 [==============================] - 3s 20ms/step - loss: 1.4392 - mean_squared_error: 1.2928 - root_mean_squared_error: 1.1370 - val_loss: 1.6230 - val_mean_squared_error: 1.4771 - val_root_mean_squared_error: 1.2154 - lr: 5.0000e-04\n",
      "Epoch 32/100\n",
      "151/151 [==============================] - 4s 27ms/step - loss: 1.4064 - mean_squared_error: 1.2604 - root_mean_squared_error: 1.1227 - val_loss: 1.8295 - val_mean_squared_error: 1.6829 - val_root_mean_squared_error: 1.2973 - lr: 5.0000e-04\n",
      "Epoch 33/100\n",
      "151/151 [==============================] - 3s 20ms/step - loss: 1.3852 - mean_squared_error: 1.2382 - root_mean_squared_error: 1.1127 - val_loss: 1.6661 - val_mean_squared_error: 1.5182 - val_root_mean_squared_error: 1.2322 - lr: 5.0000e-04\n",
      "Epoch 34/100\n",
      "151/151 [==============================] - 3s 19ms/step - loss: 1.3611 - mean_squared_error: 1.2137 - root_mean_squared_error: 1.1017 - val_loss: 1.6303 - val_mean_squared_error: 1.4840 - val_root_mean_squared_error: 1.2182 - lr: 5.0000e-04\n",
      "Epoch 35/100\n",
      "151/151 [==============================] - 3s 19ms/step - loss: 1.3363 - mean_squared_error: 1.1902 - root_mean_squared_error: 1.0909 - val_loss: 1.6635 - val_mean_squared_error: 1.5177 - val_root_mean_squared_error: 1.2319 - lr: 5.0000e-04\n",
      "Epoch 36/100\n",
      "151/151 [==============================] - 3s 23ms/step - loss: 1.2144 - mean_squared_error: 1.0696 - root_mean_squared_error: 1.0342 - val_loss: 1.6264 - val_mean_squared_error: 1.4834 - val_root_mean_squared_error: 1.2180 - lr: 2.5000e-04\n",
      "Epoch 37/100\n",
      "151/151 [==============================] - ETA: 0s - loss: 1.1796 - mean_squared_error: 1.0372 - root_mean_squared_error: 1.0184"
     ]
    },
    {
     "name": "stderr",
     "output_type": "stream",
     "text": [
      "WARNING:absl:Found untraced functions such as lstm_cell_4_layer_call_fn, lstm_cell_4_layer_call_and_return_conditional_losses, lstm_cell_5_layer_call_fn, lstm_cell_5_layer_call_and_return_conditional_losses while saving (showing 4 of 4). These functions will not be directly callable after loading.\n"
     ]
    },
    {
     "name": "stdout",
     "output_type": "stream",
     "text": [
      "151/151 [==============================] - 15s 99ms/step - loss: 1.1796 - mean_squared_error: 1.0372 - root_mean_squared_error: 1.0184 - val_loss: 1.5033 - val_mean_squared_error: 1.3612 - val_root_mean_squared_error: 1.1667 - lr: 2.5000e-04\n",
      "Epoch 38/100\n",
      "151/151 [==============================] - 3s 20ms/step - loss: 1.1755 - mean_squared_error: 1.0342 - root_mean_squared_error: 1.0170 - val_loss: 1.5038 - val_mean_squared_error: 1.3639 - val_root_mean_squared_error: 1.1679 - lr: 2.5000e-04\n",
      "Epoch 39/100\n",
      "150/151 [============================>.] - ETA: 0s - loss: 1.1378 - mean_squared_error: 0.9983 - root_mean_squared_error: 0.9992"
     ]
    },
    {
     "name": "stderr",
     "output_type": "stream",
     "text": [
      "WARNING:absl:Found untraced functions such as lstm_cell_4_layer_call_fn, lstm_cell_4_layer_call_and_return_conditional_losses, lstm_cell_5_layer_call_fn, lstm_cell_5_layer_call_and_return_conditional_losses while saving (showing 4 of 4). These functions will not be directly callable after loading.\n"
     ]
    },
    {
     "name": "stdout",
     "output_type": "stream",
     "text": [
      "151/151 [==============================] - 15s 101ms/step - loss: 1.1347 - mean_squared_error: 0.9953 - root_mean_squared_error: 0.9976 - val_loss: 1.4589 - val_mean_squared_error: 1.3205 - val_root_mean_squared_error: 1.1491 - lr: 2.5000e-04\n",
      "Epoch 40/100\n",
      "151/151 [==============================] - 3s 20ms/step - loss: 1.1522 - mean_squared_error: 1.0142 - root_mean_squared_error: 1.0071 - val_loss: 1.6211 - val_mean_squared_error: 1.4835 - val_root_mean_squared_error: 1.2180 - lr: 2.5000e-04\n",
      "Epoch 41/100\n",
      "151/151 [==============================] - 3s 22ms/step - loss: 1.1492 - mean_squared_error: 1.0125 - root_mean_squared_error: 1.0062 - val_loss: 1.6343 - val_mean_squared_error: 1.4980 - val_root_mean_squared_error: 1.2239 - lr: 2.5000e-04\n",
      "Epoch 42/100\n",
      "151/151 [==============================] - 4s 25ms/step - loss: 1.1195 - mean_squared_error: 0.9833 - root_mean_squared_error: 0.9916 - val_loss: 1.5197 - val_mean_squared_error: 1.3838 - val_root_mean_squared_error: 1.1764 - lr: 2.5000e-04\n",
      "Epoch 43/100\n",
      "151/151 [==============================] - 3s 19ms/step - loss: 1.0825 - mean_squared_error: 0.9472 - root_mean_squared_error: 0.9732 - val_loss: 1.6100 - val_mean_squared_error: 1.4755 - val_root_mean_squared_error: 1.2147 - lr: 2.5000e-04\n",
      "Epoch 44/100\n",
      "151/151 [==============================] - 3s 20ms/step - loss: 1.1015 - mean_squared_error: 0.9670 - root_mean_squared_error: 0.9834 - val_loss: 1.4856 - val_mean_squared_error: 1.3521 - val_root_mean_squared_error: 1.1628 - lr: 2.5000e-04\n",
      "Epoch 45/100\n",
      "149/151 [============================>.] - ETA: 0s - loss: 1.0224 - mean_squared_error: 0.8890 - root_mean_squared_error: 0.9429"
     ]
    },
    {
     "name": "stderr",
     "output_type": "stream",
     "text": [
      "WARNING:absl:Found untraced functions such as lstm_cell_4_layer_call_fn, lstm_cell_4_layer_call_and_return_conditional_losses, lstm_cell_5_layer_call_fn, lstm_cell_5_layer_call_and_return_conditional_losses while saving (showing 4 of 4). These functions will not be directly callable after loading.\n"
     ]
    },
    {
     "name": "stdout",
     "output_type": "stream",
     "text": [
      "151/151 [==============================] - 14s 95ms/step - loss: 1.0203 - mean_squared_error: 0.8869 - root_mean_squared_error: 0.9418 - val_loss: 1.3892 - val_mean_squared_error: 1.2562 - val_root_mean_squared_error: 1.1208 - lr: 1.2500e-04\n",
      "Epoch 46/100\n",
      "151/151 [==============================] - ETA: 0s - loss: 1.0060 - mean_squared_error: 0.8733 - root_mean_squared_error: 0.9345"
     ]
    },
    {
     "name": "stderr",
     "output_type": "stream",
     "text": [
      "WARNING:absl:Found untraced functions such as lstm_cell_4_layer_call_fn, lstm_cell_4_layer_call_and_return_conditional_losses, lstm_cell_5_layer_call_fn, lstm_cell_5_layer_call_and_return_conditional_losses while saving (showing 4 of 4). These functions will not be directly callable after loading.\n"
     ]
    },
    {
     "name": "stdout",
     "output_type": "stream",
     "text": [
      "151/151 [==============================] - 16s 104ms/step - loss: 1.0060 - mean_squared_error: 0.8733 - root_mean_squared_error: 0.9345 - val_loss: 1.3795 - val_mean_squared_error: 1.2471 - val_root_mean_squared_error: 1.1167 - lr: 1.2500e-04\n",
      "Epoch 47/100\n",
      "151/151 [==============================] - 4s 27ms/step - loss: 0.9829 - mean_squared_error: 0.8509 - root_mean_squared_error: 0.9224 - val_loss: 1.3832 - val_mean_squared_error: 1.2514 - val_root_mean_squared_error: 1.1187 - lr: 1.2500e-04\n",
      "Epoch 48/100\n",
      "151/151 [==============================] - 3s 20ms/step - loss: 0.9841 - mean_squared_error: 0.8525 - root_mean_squared_error: 0.9233 - val_loss: 1.4340 - val_mean_squared_error: 1.3031 - val_root_mean_squared_error: 1.1415 - lr: 1.2500e-04\n",
      "Epoch 49/100\n",
      "151/151 [==============================] - 3s 20ms/step - loss: 0.9626 - mean_squared_error: 0.8319 - root_mean_squared_error: 0.9121 - val_loss: 1.4138 - val_mean_squared_error: 1.2832 - val_root_mean_squared_error: 1.1328 - lr: 1.2500e-04\n",
      "Epoch 50/100\n",
      "149/151 [============================>.] - ETA: 0s - loss: 0.9805 - mean_squared_error: 0.8504 - root_mean_squared_error: 0.9222"
     ]
    },
    {
     "name": "stderr",
     "output_type": "stream",
     "text": [
      "WARNING:absl:Found untraced functions such as lstm_cell_4_layer_call_fn, lstm_cell_4_layer_call_and_return_conditional_losses, lstm_cell_5_layer_call_fn, lstm_cell_5_layer_call_and_return_conditional_losses while saving (showing 4 of 4). These functions will not be directly callable after loading.\n"
     ]
    },
    {
     "name": "stdout",
     "output_type": "stream",
     "text": [
      "151/151 [==============================] - 16s 104ms/step - loss: 0.9813 - mean_squared_error: 0.8512 - root_mean_squared_error: 0.9226 - val_loss: 1.3389 - val_mean_squared_error: 1.2093 - val_root_mean_squared_error: 1.0997 - lr: 1.2500e-04\n",
      "Epoch 51/100\n",
      "151/151 [==============================] - 4s 27ms/step - loss: 0.9636 - mean_squared_error: 0.8344 - root_mean_squared_error: 0.9135 - val_loss: 1.3802 - val_mean_squared_error: 1.2512 - val_root_mean_squared_error: 1.1186 - lr: 1.2500e-04\n",
      "Epoch 52/100\n",
      "151/151 [==============================] - 3s 20ms/step - loss: 0.9563 - mean_squared_error: 0.8277 - root_mean_squared_error: 0.9098 - val_loss: 1.3439 - val_mean_squared_error: 1.2157 - val_root_mean_squared_error: 1.1026 - lr: 1.2500e-04\n",
      "Epoch 53/100\n",
      "151/151 [==============================] - 3s 19ms/step - loss: 0.9601 - mean_squared_error: 0.8318 - root_mean_squared_error: 0.9120 - val_loss: 1.3672 - val_mean_squared_error: 1.2393 - val_root_mean_squared_error: 1.1132 - lr: 1.2500e-04\n",
      "Epoch 54/100\n",
      "151/151 [==============================] - 3s 19ms/step - loss: 0.9379 - mean_squared_error: 0.8102 - root_mean_squared_error: 0.9001 - val_loss: 1.3423 - val_mean_squared_error: 1.2148 - val_root_mean_squared_error: 1.1022 - lr: 1.2500e-04\n",
      "Epoch 55/100\n",
      "150/151 [============================>.] - ETA: 0s - loss: 0.9268 - mean_squared_error: 0.7995 - root_mean_squared_error: 0.8942"
     ]
    },
    {
     "name": "stderr",
     "output_type": "stream",
     "text": [
      "WARNING:absl:Found untraced functions such as lstm_cell_4_layer_call_fn, lstm_cell_4_layer_call_and_return_conditional_losses, lstm_cell_5_layer_call_fn, lstm_cell_5_layer_call_and_return_conditional_losses while saving (showing 4 of 4). These functions will not be directly callable after loading.\n"
     ]
    },
    {
     "name": "stdout",
     "output_type": "stream",
     "text": [
      "151/151 [==============================] - 14s 96ms/step - loss: 0.9252 - mean_squared_error: 0.7979 - root_mean_squared_error: 0.8933 - val_loss: 1.3092 - val_mean_squared_error: 1.1825 - val_root_mean_squared_error: 1.0874 - lr: 1.2500e-04\n",
      "Epoch 56/100\n",
      "151/151 [==============================] - 4s 28ms/step - loss: 0.9174 - mean_squared_error: 0.7908 - root_mean_squared_error: 0.8892 - val_loss: 1.3781 - val_mean_squared_error: 1.2515 - val_root_mean_squared_error: 1.1187 - lr: 1.2500e-04\n",
      "Epoch 57/100\n",
      "151/151 [==============================] - 3s 20ms/step - loss: 0.9073 - mean_squared_error: 0.7809 - root_mean_squared_error: 0.8837 - val_loss: 1.3255 - val_mean_squared_error: 1.1995 - val_root_mean_squared_error: 1.0952 - lr: 1.2500e-04\n",
      "Epoch 58/100\n",
      "151/151 [==============================] - 3s 20ms/step - loss: 0.9069 - mean_squared_error: 0.7810 - root_mean_squared_error: 0.8837 - val_loss: 1.3206 - val_mean_squared_error: 1.1950 - val_root_mean_squared_error: 1.0932 - lr: 1.2500e-04\n",
      "Epoch 59/100\n",
      "151/151 [==============================] - 3s 19ms/step - loss: 0.9013 - mean_squared_error: 0.7758 - root_mean_squared_error: 0.8808 - val_loss: 1.3299 - val_mean_squared_error: 1.2047 - val_root_mean_squared_error: 1.0976 - lr: 1.2500e-04\n",
      "Epoch 60/100\n",
      "151/151 [==============================] - 4s 26ms/step - loss: 0.9019 - mean_squared_error: 0.7771 - root_mean_squared_error: 0.8815 - val_loss: 1.3254 - val_mean_squared_error: 1.2007 - val_root_mean_squared_error: 1.0958 - lr: 1.2500e-04\n",
      "Epoch 61/100\n",
      "149/151 [============================>.] - ETA: 0s - loss: 0.8508 - mean_squared_error: 0.7263 - root_mean_squared_error: 0.8522"
     ]
    },
    {
     "name": "stderr",
     "output_type": "stream",
     "text": [
      "WARNING:absl:Found untraced functions such as lstm_cell_4_layer_call_fn, lstm_cell_4_layer_call_and_return_conditional_losses, lstm_cell_5_layer_call_fn, lstm_cell_5_layer_call_and_return_conditional_losses while saving (showing 4 of 4). These functions will not be directly callable after loading.\n"
     ]
    },
    {
     "name": "stdout",
     "output_type": "stream",
     "text": [
      "151/151 [==============================] - 15s 98ms/step - loss: 0.8511 - mean_squared_error: 0.7266 - root_mean_squared_error: 0.8524 - val_loss: 1.3062 - val_mean_squared_error: 1.1820 - val_root_mean_squared_error: 1.0872 - lr: 6.2500e-05\n",
      "Epoch 62/100\n",
      "151/151 [==============================] - 3s 20ms/step - loss: 0.8434 - mean_squared_error: 0.7193 - root_mean_squared_error: 0.8481 - val_loss: 1.3239 - val_mean_squared_error: 1.1999 - val_root_mean_squared_error: 1.0954 - lr: 6.2500e-05\n",
      "Epoch 63/100\n",
      "151/151 [==============================] - 3s 20ms/step - loss: 0.8375 - mean_squared_error: 0.7139 - root_mean_squared_error: 0.8449 - val_loss: 1.3108 - val_mean_squared_error: 1.1871 - val_root_mean_squared_error: 1.0895 - lr: 6.2500e-05\n",
      "Epoch 64/100\n",
      "150/151 [============================>.] - ETA: 0s - loss: 0.8346 - mean_squared_error: 0.7110 - root_mean_squared_error: 0.8432"
     ]
    },
    {
     "name": "stderr",
     "output_type": "stream",
     "text": [
      "WARNING:absl:Found untraced functions such as lstm_cell_4_layer_call_fn, lstm_cell_4_layer_call_and_return_conditional_losses, lstm_cell_5_layer_call_fn, lstm_cell_5_layer_call_and_return_conditional_losses while saving (showing 4 of 4). These functions will not be directly callable after loading.\n"
     ]
    },
    {
     "name": "stdout",
     "output_type": "stream",
     "text": [
      "151/151 [==============================] - 16s 104ms/step - loss: 0.8336 - mean_squared_error: 0.7100 - root_mean_squared_error: 0.8426 - val_loss: 1.2910 - val_mean_squared_error: 1.1676 - val_root_mean_squared_error: 1.0805 - lr: 6.2500e-05\n",
      "Epoch 65/100\n",
      "151/151 [==============================] - ETA: 0s - loss: 0.8215 - mean_squared_error: 0.6983 - root_mean_squared_error: 0.8356"
     ]
    },
    {
     "name": "stderr",
     "output_type": "stream",
     "text": [
      "WARNING:absl:Found untraced functions such as lstm_cell_4_layer_call_fn, lstm_cell_4_layer_call_and_return_conditional_losses, lstm_cell_5_layer_call_fn, lstm_cell_5_layer_call_and_return_conditional_losses while saving (showing 4 of 4). These functions will not be directly callable after loading.\n"
     ]
    },
    {
     "name": "stdout",
     "output_type": "stream",
     "text": [
      "151/151 [==============================] - 14s 96ms/step - loss: 0.8215 - mean_squared_error: 0.6983 - root_mean_squared_error: 0.8356 - val_loss: 1.2580 - val_mean_squared_error: 1.1350 - val_root_mean_squared_error: 1.0654 - lr: 6.2500e-05\n",
      "Epoch 66/100\n",
      "151/151 [==============================] - 4s 27ms/step - loss: 0.8253 - mean_squared_error: 0.7023 - root_mean_squared_error: 0.8381 - val_loss: 1.2835 - val_mean_squared_error: 1.1606 - val_root_mean_squared_error: 1.0773 - lr: 6.2500e-05\n",
      "Epoch 67/100\n",
      "151/151 [==============================] - 3s 21ms/step - loss: 0.8087 - mean_squared_error: 0.6861 - root_mean_squared_error: 0.8283 - val_loss: 1.3125 - val_mean_squared_error: 1.1900 - val_root_mean_squared_error: 1.0909 - lr: 6.2500e-05\n",
      "Epoch 68/100\n",
      "151/151 [==============================] - 3s 19ms/step - loss: 0.8138 - mean_squared_error: 0.6915 - root_mean_squared_error: 0.8316 - val_loss: 1.2847 - val_mean_squared_error: 1.1625 - val_root_mean_squared_error: 1.0782 - lr: 6.2500e-05\n",
      "Epoch 69/100\n",
      "151/151 [==============================] - 3s 20ms/step - loss: 0.8153 - mean_squared_error: 0.6933 - root_mean_squared_error: 0.8326 - val_loss: 1.2916 - val_mean_squared_error: 1.1699 - val_root_mean_squared_error: 1.0816 - lr: 6.2500e-05\n",
      "Epoch 70/100\n",
      "151/151 [==============================] - 4s 26ms/step - loss: 0.8121 - mean_squared_error: 0.6905 - root_mean_squared_error: 0.8309 - val_loss: 1.3327 - val_mean_squared_error: 1.2114 - val_root_mean_squared_error: 1.1006 - lr: 6.2500e-05\n",
      "Epoch 71/100\n",
      "151/151 [==============================] - 3s 20ms/step - loss: 0.7768 - mean_squared_error: 0.6555 - root_mean_squared_error: 0.8097 - val_loss: 1.2680 - val_mean_squared_error: 1.1468 - val_root_mean_squared_error: 1.0709 - lr: 3.1250e-05\n",
      "Epoch 72/100\n",
      "151/151 [==============================] - 3s 21ms/step - loss: 0.7759 - mean_squared_error: 0.6547 - root_mean_squared_error: 0.8092 - val_loss: 1.2625 - val_mean_squared_error: 1.1415 - val_root_mean_squared_error: 1.0684 - lr: 3.1250e-05\n",
      "Epoch 73/100\n",
      "151/151 [==============================] - ETA: 0s - loss: 0.7915 - mean_squared_error: 0.6706 - root_mean_squared_error: 0.8189"
     ]
    },
    {
     "name": "stderr",
     "output_type": "stream",
     "text": [
      "WARNING:absl:Found untraced functions such as lstm_cell_4_layer_call_fn, lstm_cell_4_layer_call_and_return_conditional_losses, lstm_cell_5_layer_call_fn, lstm_cell_5_layer_call_and_return_conditional_losses while saving (showing 4 of 4). These functions will not be directly callable after loading.\n"
     ]
    },
    {
     "name": "stdout",
     "output_type": "stream",
     "text": [
      "151/151 [==============================] - 14s 96ms/step - loss: 0.7915 - mean_squared_error: 0.6706 - root_mean_squared_error: 0.8189 - val_loss: 1.2534 - val_mean_squared_error: 1.1326 - val_root_mean_squared_error: 1.0642 - lr: 3.1250e-05\n",
      "Epoch 74/100\n",
      "151/151 [==============================] - 3s 20ms/step - loss: 0.7817 - mean_squared_error: 0.6609 - root_mean_squared_error: 0.8130 - val_loss: 1.2571 - val_mean_squared_error: 1.1364 - val_root_mean_squared_error: 1.0660 - lr: 3.1250e-05\n",
      "Epoch 75/100\n",
      "151/151 [==============================] - 4s 28ms/step - loss: 0.7763 - mean_squared_error: 0.6556 - root_mean_squared_error: 0.8097 - val_loss: 1.2614 - val_mean_squared_error: 1.1408 - val_root_mean_squared_error: 1.0681 - lr: 3.1250e-05\n",
      "Epoch 76/100\n",
      "151/151 [==============================] - 3s 19ms/step - loss: 0.7704 - mean_squared_error: 0.6499 - root_mean_squared_error: 0.8062 - val_loss: 1.2848 - val_mean_squared_error: 1.1644 - val_root_mean_squared_error: 1.0791 - lr: 3.1250e-05\n",
      "Epoch 77/100\n",
      "151/151 [==============================] - 3s 20ms/step - loss: 0.7694 - mean_squared_error: 0.6491 - root_mean_squared_error: 0.8057 - val_loss: 1.2605 - val_mean_squared_error: 1.1403 - val_root_mean_squared_error: 1.0679 - lr: 3.1250e-05\n",
      "Epoch 78/100\n",
      "151/151 [==============================] - 4s 26ms/step - loss: 0.7710 - mean_squared_error: 0.6508 - root_mean_squared_error: 0.8067 - val_loss: 1.2579 - val_mean_squared_error: 1.1379 - val_root_mean_squared_error: 1.0667 - lr: 3.1250e-05\n",
      "Epoch 79/100\n",
      "151/151 [==============================] - 5s 30ms/step - loss: 0.7581 - mean_squared_error: 0.6382 - root_mean_squared_error: 0.7989 - val_loss: 1.2567 - val_mean_squared_error: 1.1368 - val_root_mean_squared_error: 1.0662 - lr: 1.5625e-05\n",
      "Epoch 80/100\n",
      "151/151 [==============================] - 3s 18ms/step - loss: 0.7502 - mean_squared_error: 0.6303 - root_mean_squared_error: 0.7939 - val_loss: 1.2563 - val_mean_squared_error: 1.1365 - val_root_mean_squared_error: 1.0661 - lr: 1.5625e-05\n",
      "Epoch 81/100\n",
      "151/151 [==============================] - ETA: 0s - loss: 0.7458 - mean_squared_error: 0.6260 - root_mean_squared_error: 0.7912"
     ]
    },
    {
     "name": "stderr",
     "output_type": "stream",
     "text": [
      "WARNING:absl:Found untraced functions such as lstm_cell_4_layer_call_fn, lstm_cell_4_layer_call_and_return_conditional_losses, lstm_cell_5_layer_call_fn, lstm_cell_5_layer_call_and_return_conditional_losses while saving (showing 4 of 4). These functions will not be directly callable after loading.\n"
     ]
    },
    {
     "name": "stdout",
     "output_type": "stream",
     "text": [
      "151/151 [==============================] - 14s 94ms/step - loss: 0.7458 - mean_squared_error: 0.6260 - root_mean_squared_error: 0.7912 - val_loss: 1.2523 - val_mean_squared_error: 1.1326 - val_root_mean_squared_error: 1.0642 - lr: 1.5625e-05\n",
      "Epoch 82/100\n",
      "151/151 [==============================] - 3s 20ms/step - loss: 0.7510 - mean_squared_error: 0.6312 - root_mean_squared_error: 0.7945 - val_loss: 1.2542 - val_mean_squared_error: 1.1346 - val_root_mean_squared_error: 1.0652 - lr: 1.5625e-05\n",
      "Epoch 83/100\n",
      "151/151 [==============================] - 3s 18ms/step - loss: 0.7469 - mean_squared_error: 0.6274 - root_mean_squared_error: 0.7921 - val_loss: 1.2742 - val_mean_squared_error: 1.1547 - val_root_mean_squared_error: 1.0746 - lr: 1.5625e-05\n",
      "Epoch 84/100\n",
      "151/151 [==============================] - ETA: 0s - loss: 0.7479 - mean_squared_error: 0.6284 - root_mean_squared_error: 0.7927"
     ]
    },
    {
     "name": "stderr",
     "output_type": "stream",
     "text": [
      "WARNING:absl:Found untraced functions such as lstm_cell_4_layer_call_fn, lstm_cell_4_layer_call_and_return_conditional_losses, lstm_cell_5_layer_call_fn, lstm_cell_5_layer_call_and_return_conditional_losses while saving (showing 4 of 4). These functions will not be directly callable after loading.\n"
     ]
    },
    {
     "name": "stdout",
     "output_type": "stream",
     "text": [
      "151/151 [==============================] - 17s 115ms/step - loss: 0.7479 - mean_squared_error: 0.6284 - root_mean_squared_error: 0.7927 - val_loss: 1.2500 - val_mean_squared_error: 1.1306 - val_root_mean_squared_error: 1.0633 - lr: 1.5625e-05\n",
      "Epoch 85/100\n",
      "151/151 [==============================] - 3s 20ms/step - loss: 0.7435 - mean_squared_error: 0.6240 - root_mean_squared_error: 0.7900 - val_loss: 1.2613 - val_mean_squared_error: 1.1419 - val_root_mean_squared_error: 1.0686 - lr: 1.5625e-05\n",
      "Epoch 86/100\n",
      "151/151 [==============================] - 3s 19ms/step - loss: 0.7511 - mean_squared_error: 0.6319 - root_mean_squared_error: 0.7949 - val_loss: 1.2573 - val_mean_squared_error: 1.1380 - val_root_mean_squared_error: 1.0668 - lr: 1.5625e-05\n",
      "Epoch 87/100\n",
      "151/151 [==============================] - 3s 20ms/step - loss: 0.7480 - mean_squared_error: 0.6287 - root_mean_squared_error: 0.7929 - val_loss: 1.2525 - val_mean_squared_error: 1.1333 - val_root_mean_squared_error: 1.0646 - lr: 1.5625e-05\n",
      "Epoch 88/100\n",
      "151/151 [==============================] - 4s 27ms/step - loss: 0.7430 - mean_squared_error: 0.6239 - root_mean_squared_error: 0.7898 - val_loss: 1.2538 - val_mean_squared_error: 1.1347 - val_root_mean_squared_error: 1.0652 - lr: 1.5625e-05\n",
      "Epoch 89/100\n",
      "151/151 [==============================] - 3s 22ms/step - loss: 0.7332 - mean_squared_error: 0.6142 - root_mean_squared_error: 0.7837 - val_loss: 1.2627 - val_mean_squared_error: 1.1437 - val_root_mean_squared_error: 1.0694 - lr: 1.5625e-05\n",
      "Epoch 90/100\n",
      "151/151 [==============================] - 3s 20ms/step - loss: 0.7276 - mean_squared_error: 0.6086 - root_mean_squared_error: 0.7802 - val_loss: 1.2561 - val_mean_squared_error: 1.1371 - val_root_mean_squared_error: 1.0664 - lr: 7.8125e-06\n",
      "Epoch 91/100\n",
      "151/151 [==============================] - 3s 22ms/step - loss: 0.7438 - mean_squared_error: 0.6249 - root_mean_squared_error: 0.7905 - val_loss: 1.2514 - val_mean_squared_error: 1.1325 - val_root_mean_squared_error: 1.0642 - lr: 7.8125e-06\n",
      "Epoch 92/100\n",
      "151/151 [==============================] - 5s 30ms/step - loss: 0.7364 - mean_squared_error: 0.6176 - root_mean_squared_error: 0.7859 - val_loss: 1.2566 - val_mean_squared_error: 1.1377 - val_root_mean_squared_error: 1.0666 - lr: 7.8125e-06\n",
      "Epoch 93/100\n",
      "151/151 [==============================] - 3s 20ms/step - loss: 0.7367 - mean_squared_error: 0.6178 - root_mean_squared_error: 0.7860 - val_loss: 1.2552 - val_mean_squared_error: 1.1364 - val_root_mean_squared_error: 1.0660 - lr: 7.8125e-06\n",
      "Epoch 94/100\n",
      "151/151 [==============================] - 3s 20ms/step - loss: 0.7399 - mean_squared_error: 0.6211 - root_mean_squared_error: 0.7881 - val_loss: 1.2581 - val_mean_squared_error: 1.1394 - val_root_mean_squared_error: 1.0674 - lr: 7.8125e-06\n"
     ]
    }
   ],
   "source": [
    "#history = model.fit(X_train, y_train, epochs=100, batch_size=128, validation_data=(X_test, y_test), callbacks=[mcp])\n",
    "history = model.fit(X_train, y_train, epochs=100, batch_size=32, validation_data=(X_test, y_test), callbacks=[lr_scheduler, early_stopping,mcp])"
   ]
  },
  {
   "cell_type": "code",
   "execution_count": 32,
   "id": "0084fbb1-e83e-4808-99bf-1458f3ea3076",
   "metadata": {
    "colab": {
     "base_uri": "https://localhost:8080/"
    },
    "id": "0084fbb1-e83e-4808-99bf-1458f3ea3076",
    "outputId": "b6604332-2f78-4d8b-ffd6-1f5e378206a4"
   },
   "outputs": [
    {
     "name": "stdout",
     "output_type": "stream",
     "text": [
      "39/39 [==============================] - 3s 19ms/step\n"
     ]
    }
   ],
   "source": [
    "y_pred = model.predict(X_test)"
   ]
  },
  {
   "cell_type": "markdown",
   "id": "382979a3-f299-4762-8b6d-10a6ea4d3c70",
   "metadata": {
    "id": "382979a3-f299-4762-8b6d-10a6ea4d3c70"
   },
   "source": [
    "# Score"
   ]
  },
  {
   "cell_type": "code",
   "execution_count": 33,
   "id": "f9fd5d60-841f-46c3-94b6-5755b4d548cd",
   "metadata": {
    "id": "f9fd5d60-841f-46c3-94b6-5755b4d548cd"
   },
   "outputs": [],
   "source": [
    "r2 = 1 - ((y_test - y_pred.reshape(-1)) ** 2).sum() / ((y_test - y_test.mean()) ** 2).sum()"
   ]
  },
  {
   "cell_type": "code",
   "execution_count": 34,
   "id": "4d2bfabe-2e3e-40cf-a1e8-2d458ee7f328",
   "metadata": {
    "colab": {
     "base_uri": "https://localhost:8080/"
    },
    "id": "4d2bfabe-2e3e-40cf-a1e8-2d458ee7f328",
    "outputId": "bdd0b29a-4620-476d-fb4e-7fc1f22ce323"
   },
   "outputs": [
    {
     "data": {
      "text/plain": [
       "0.5605206361532766"
      ]
     },
     "execution_count": 34,
     "metadata": {},
     "output_type": "execute_result"
    }
   ],
   "source": [
    "r2\n",
    "# 0.4984533246797399"
   ]
  },
  {
   "cell_type": "code",
   "execution_count": 35,
   "id": "85262541-e04a-4ff2-b3e6-a47643db66f6",
   "metadata": {
    "id": "85262541-e04a-4ff2-b3e6-a47643db66f6"
   },
   "outputs": [],
   "source": [
    "model.save('models/final_v1.h5', )"
   ]
  },
  {
   "cell_type": "markdown",
   "id": "5f683e18-c876-4f7c-93ea-a33d495dcdaa",
   "metadata": {
    "id": "5f683e18-c876-4f7c-93ea-a33d495dcdaa"
   },
   "source": [
    "# Load model (solo si se grabo el modelo)"
   ]
  },
  {
   "cell_type": "code",
   "execution_count": 36,
   "id": "285c8740-f0bb-4237-8593-ff9b815de0e3",
   "metadata": {
    "id": "285c8740-f0bb-4237-8593-ff9b815de0e3"
   },
   "outputs": [],
   "source": [
    "from tensorflow.keras.models import load_model"
   ]
  },
  {
   "cell_type": "code",
   "execution_count": 37,
   "id": "2168984f-770c-436e-92da-c1344b1d3abc",
   "metadata": {
    "id": "2168984f-770c-436e-92da-c1344b1d3abc"
   },
   "outputs": [],
   "source": [
    "model_loaded = load_model('models/final_v1.h5', custom_objects={'R2': R2})"
   ]
  },
  {
   "cell_type": "code",
   "execution_count": 38,
   "id": "13a9d7d8-41e0-44a0-a8b9-02157a11f8f2",
   "metadata": {
    "colab": {
     "base_uri": "https://localhost:8080/"
    },
    "id": "13a9d7d8-41e0-44a0-a8b9-02157a11f8f2",
    "outputId": "7df1caa7-fa44-4cb2-9092-e69a85d4b8dd"
   },
   "outputs": [
    {
     "name": "stdout",
     "output_type": "stream",
     "text": [
      "39/39 [==============================] - 1s 11ms/step\n"
     ]
    }
   ],
   "source": [
    "y_pred = model_loaded.predict(X_test)"
   ]
  },
  {
   "cell_type": "markdown",
   "id": "c8ab60bf-7b98-4f46-b1dd-b08b5fbf8bed",
   "metadata": {
    "id": "c8ab60bf-7b98-4f46-b1dd-b08b5fbf8bed"
   },
   "source": [
    "¿Hasta que valores de r2 logró?"
   ]
  },
  {
   "cell_type": "code",
   "execution_count": 39,
   "id": "64c07210-469b-47a5-a86c-d413a55f9fe6",
   "metadata": {
    "colab": {
     "base_uri": "https://localhost:8080/"
    },
    "id": "64c07210-469b-47a5-a86c-d413a55f9fe6",
    "outputId": "9c5fd906-0944-45de-c51c-5956f6da289c"
   },
   "outputs": [
    {
     "data": {
      "text/plain": [
       "0.5605206361532766"
      ]
     },
     "execution_count": 39,
     "metadata": {},
     "output_type": "execute_result"
    }
   ],
   "source": [
    "r2 = 1 - ((y_test - y_pred.reshape(-1)) ** 2).sum() / ((y_test - y_test.mean()) ** 2).sum()\n",
    "r2"
   ]
  },
  {
   "cell_type": "markdown",
   "id": "7f1a6260-e31f-4e5e-a923-ce67bf31152f",
   "metadata": {
    "id": "7f1a6260-e31f-4e5e-a923-ce67bf31152f"
   },
   "source": [
    "# Evaluación"
   ]
  },
  {
   "cell_type": "code",
   "execution_count": 40,
   "id": "7dd9d7e6-2789-459e-b9dd-593e10847fc4",
   "metadata": {
    "colab": {
     "base_uri": "https://localhost:8080/",
     "height": 498
    },
    "id": "7dd9d7e6-2789-459e-b9dd-593e10847fc4",
    "outputId": "c0d32a66-23bb-4f0b-bf4e-b6ea3932de04"
   },
   "outputs": [
    {
     "data": {
      "text/plain": [
       "<function matplotlib.pyplot.show(close=None, block=None)>"
      ]
     },
     "execution_count": 40,
     "metadata": {},
     "output_type": "execute_result"
    },
    {
     "data": {
      "image/png": "[encoded data removed]",
      "text/plain": [
       "<Figure size 500x500 with 1 Axes>"
      ]
     },
     "metadata": {},
     "output_type": "display_data"
    }
   ],
   "source": [
    "import seaborn as sns\n",
    "import matplotlib.pyplot as plt\n",
    "\n",
    "sns.set(color_codes=True)\n",
    "sns.set_style(\"white\")\n",
    "\n",
    "ax = sns.regplot(x=y_test, y=y_pred, scatter_kws={'alpha':0.4})\n",
    "ax.set_xlabel('Experimental pIC50', fontsize='large', fontweight='bold')\n",
    "ax.set_ylabel('Predicted pIC50', fontsize='large', fontweight='bold')\n",
    "ax.set_xlim(0, 12)\n",
    "ax.set_ylim(0, 12)\n",
    "ax.figure.set_size_inches(5, 5)\n",
    "plt.show"
   ]
  },
  {
   "cell_type": "code",
   "execution_count": 40,
   "id": "58e62ebf-0bd6-4c06-9585-7674dfce89a7",
   "metadata": {
    "id": "58e62ebf-0bd6-4c06-9585-7674dfce89a7"
   },
   "outputs": [],
   "source": []
  }
 ],
 "metadata": {
  "accelerator": "GPU",
  "colab": {
   "gpuType": "T4",
   "provenance": []
  },
  "kernelspec": {
   "display_name": "Python 3",
   "language": "python",
   "name": "python3"
  },
  "language_info": {
   "codemirror_mode": {
    "name": "ipython",
    "version": 3
   },
   "file_extension": ".py",
   "mimetype": "text/x-python",
   "name": "python",
   "nbconvert_exporter": "python",
   "pygments_lexer": "ipython3",
   "version": "3.7.10"
  }
 },
 "nbformat": 4,
 "nbformat_minor": 5
}
