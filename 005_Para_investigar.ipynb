{
 "cells": [
  {
   "cell_type": "markdown",
   "id": "1a3ea166-2dda-482f-9249-9e9cf2debbb1",
   "metadata": {},
   "source": [
    "# ¿Que más se podría hacer?"
   ]
  },
  {
   "cell_type": "markdown",
   "id": "ffbbf61f-99b0-4d87-a38d-2715ed034240",
   "metadata": {},
   "source": [
    "- Test con data augmentation y la LSTM\n",
    "- Usar los tokenizadores usados en los transformers para ver como funcionan\n",
    "- TSNE de embeddings y analizar si hay interpretación\n",
    "- Probar con otras encimas o proteinas\n",
    "- Usar los embeddings entrenados para analizar resultados de proteinas o encimas con menos data\n",
    "- Entrenar una red neuronal con los features (fingerprints por ejemplo) y comparar los resultados con los embeddings"
   ]
  },
  {
   "cell_type": "markdown",
   "id": "33724a54-6fd8-4d50-9f41-1500e17406e2",
   "metadata": {},
   "source": [
    "# Realizo la primera Test con data augmentation y la LSTM"
   ]
  },
  {
   "cell_type": "code",
   "execution_count": 43,
   "id": "a1fe31c6-58d6-44a7-94fa-92265d6ac94d",
   "metadata": {},
   "outputs": [
    {
     "name": "stdout",
     "output_type": "stream",
     "text": [
      "The autoreload extension is already loaded. To reload it, use:\n",
      "  %reload_ext autoreload\n"
     ]
    }
   ],
   "source": [
    "%load_ext autoreload\n",
    "%autoreload 2"
   ]
  },
  {
   "cell_type": "markdown",
   "id": "9dab7de8-eb23-47d7-a771-28a2397d0a54",
   "metadata": {},
   "source": [
    "# Modelo LSTM con generador, embedings de smiles y data-augmentation"
   ]
  },
  {
   "cell_type": "code",
   "execution_count": 44,
   "id": "ae9c6293-11f8-4e53-9e2b-98c95ea6c3f1",
   "metadata": {},
   "outputs": [],
   "source": [
    "#!pip install rdkit-pypi"
   ]
  },
  {
   "cell_type": "code",
   "execution_count": 45,
   "id": "21bee0a3-79a7-43b2-9ac2-15cad5630e22",
   "metadata": {},
   "outputs": [],
   "source": [
    "import pandas as pd\n",
    "import numpy as np\n",
    "from datagen import smiles_dict, smiles_to_seq"
   ]
  },
  {
   "cell_type": "markdown",
   "id": "20aa799f-b75c-4d23-869b-fea6d041a6e9",
   "metadata": {},
   "source": [
    "### smiles_dict"
   ]
  },
  {
   "cell_type": "code",
   "execution_count": 46,
   "id": "628a3149-eabe-4de3-8404-d86eb6ad3baf",
   "metadata": {},
   "outputs": [
    {
     "data": {
      "text/plain": [
       "42"
      ]
     },
     "execution_count": 46,
     "metadata": {},
     "output_type": "execute_result"
    }
   ],
   "source": [
    "len(smiles_dict)"
   ]
  },
  {
   "cell_type": "markdown",
   "id": "b9c9312c-4232-414c-b0ff-1e6fb6dba1a6",
   "metadata": {},
   "source": [
    "smiles_dict nos da un tokenizador para simplificar el problema. Puede ver como se construyó en la notebook **deep_chem**.\n",
    "Si al momento de correr el modelo con este diccionario encuentra problemas de key_error, puede agregar los faltantes al diccionario\n",
    "\n",
    "Mirar dentro de **datagen.py** como se usa este diccionario con la función **smiles_to_seq** para tokenizar. El código es muy sencillo"
   ]
  },
  {
   "cell_type": "code",
   "execution_count": 47,
   "id": "e29ef48f-4b67-42a4-83af-e7d0bb980c4b",
   "metadata": {},
   "outputs": [
    {
     "name": "stdout",
     "output_type": "stream",
     "text": [
      "{'#': 1, '(': 2, ')': 3, '+': 4, '-': 5, '/': 6, '1': 7, '2': 8, '3': 9, '4': 10, '5': 11, '6': 12, '7': 13, '8': 14, '=': 15, 'C': 16, 'F': 17, 'H': 18, 'I': 19, 'N': 20, 'O': 21, 'P': 22, 'S': 23, '[': 24, '\\\\': 25, ']': 26, '_': 27, 'c': 28, 'Cl': 29, 'Br': 30, 'n': 31, 'o': 32, 's': 33, '@': 34, '.': 35, 'a': 36, 'B': 37, 'e': 38, 'i': 39, '9': 40, '10': 41, '11': 42}\n"
     ]
    }
   ],
   "source": [
    "print(smiles_dict)"
   ]
  },
  {
   "cell_type": "markdown",
   "id": "b103a4e0-038d-406b-aab8-5c9452ede04e",
   "metadata": {},
   "source": [
    "# Carga de los datos"
   ]
  },
  {
   "cell_type": "code",
   "execution_count": 48,
   "id": "353a2d75-f0f4-4563-9842-c68d77118161",
   "metadata": {},
   "outputs": [],
   "source": [
    "df = pd.read_csv('data/acetylcholinesterase_02_bioactivity_data_preprocessed.csv')"
   ]
  },
  {
   "cell_type": "code",
   "execution_count": 49,
   "id": "4e7fcdcb-ad53-4ebf-bc17-a241c79269da",
   "metadata": {},
   "outputs": [],
   "source": [
    "max_len_idx = df['canonical_smiles'].apply(len).argmax()\n",
    "min_len_idx = df['canonical_smiles'].apply(len).argmin()\n",
    "max_sequence_len = len(df['canonical_smiles'].iloc[max_len_idx]) + 20"
   ]
  },
  {
   "cell_type": "code",
   "execution_count": 50,
   "id": "d1554fa5-d9ee-456c-be20-80571e319fc6",
   "metadata": {},
   "outputs": [
    {
     "data": {
      "text/html": [
       "<div>\n",
       "<style scoped>\n",
       "    .dataframe tbody tr th:only-of-type {\n",
       "        vertical-align: middle;\n",
       "    }\n",
       "\n",
       "    .dataframe tbody tr th {\n",
       "        vertical-align: top;\n",
       "    }\n",
       "\n",
       "    .dataframe thead th {\n",
       "        text-align: right;\n",
       "    }\n",
       "</style>\n",
       "<table border=\"1\" class=\"dataframe\">\n",
       "  <thead>\n",
       "    <tr style=\"text-align: right;\">\n",
       "      <th></th>\n",
       "      <th>molecule_chembl_id</th>\n",
       "      <th>canonical_smiles</th>\n",
       "      <th>standard_value</th>\n",
       "      <th>standard_value_norm</th>\n",
       "      <th>pIC50</th>\n",
       "    </tr>\n",
       "  </thead>\n",
       "  <tbody>\n",
       "    <tr>\n",
       "      <th>0</th>\n",
       "      <td>CHEMBL133897</td>\n",
       "      <td>CCOc1nn(-c2cccc(OCc3ccccc3)c2)c(=O)o1</td>\n",
       "      <td>750.0</td>\n",
       "      <td>750.0</td>\n",
       "      <td>6.124939</td>\n",
       "    </tr>\n",
       "    <tr>\n",
       "      <th>1</th>\n",
       "      <td>CHEMBL336398</td>\n",
       "      <td>O=C(N1CCCCC1)n1nc(-c2ccc(Cl)cc2)nc1SCC1CC1</td>\n",
       "      <td>100.0</td>\n",
       "      <td>100.0</td>\n",
       "      <td>7.000000</td>\n",
       "    </tr>\n",
       "    <tr>\n",
       "      <th>2</th>\n",
       "      <td>CHEMBL131588</td>\n",
       "      <td>CN(C(=O)n1nc(-c2ccc(Cl)cc2)nc1SCC(F)(F)F)c1ccccc1</td>\n",
       "      <td>50000.0</td>\n",
       "      <td>50000.0</td>\n",
       "      <td>4.301030</td>\n",
       "    </tr>\n",
       "    <tr>\n",
       "      <th>3</th>\n",
       "      <td>CHEMBL130628</td>\n",
       "      <td>O=C(N1CCCCC1)n1nc(-c2ccc(Cl)cc2)nc1SCC(F)(F)F</td>\n",
       "      <td>300.0</td>\n",
       "      <td>300.0</td>\n",
       "      <td>6.522879</td>\n",
       "    </tr>\n",
       "    <tr>\n",
       "      <th>4</th>\n",
       "      <td>CHEMBL130478</td>\n",
       "      <td>CSc1nc(-c2ccc(OC(F)(F)F)cc2)nn1C(=O)N(C)C</td>\n",
       "      <td>800.0</td>\n",
       "      <td>800.0</td>\n",
       "      <td>6.096910</td>\n",
       "    </tr>\n",
       "  </tbody>\n",
       "</table>\n",
       "</div>"
      ],
      "text/plain": [
       "  molecule_chembl_id                                   canonical_smiles  \\\n",
       "0       CHEMBL133897              CCOc1nn(-c2cccc(OCc3ccccc3)c2)c(=O)o1   \n",
       "1       CHEMBL336398         O=C(N1CCCCC1)n1nc(-c2ccc(Cl)cc2)nc1SCC1CC1   \n",
       "2       CHEMBL131588  CN(C(=O)n1nc(-c2ccc(Cl)cc2)nc1SCC(F)(F)F)c1ccccc1   \n",
       "3       CHEMBL130628      O=C(N1CCCCC1)n1nc(-c2ccc(Cl)cc2)nc1SCC(F)(F)F   \n",
       "4       CHEMBL130478          CSc1nc(-c2ccc(OC(F)(F)F)cc2)nn1C(=O)N(C)C   \n",
       "\n",
       "   standard_value  standard_value_norm     pIC50  \n",
       "0           750.0                750.0  6.124939  \n",
       "1           100.0                100.0  7.000000  \n",
       "2         50000.0              50000.0  4.301030  \n",
       "3           300.0                300.0  6.522879  \n",
       "4           800.0                800.0  6.096910  "
      ]
     },
     "execution_count": 50,
     "metadata": {},
     "output_type": "execute_result"
    }
   ],
   "source": [
    "df.head()"
   ]
  },
  {
   "cell_type": "code",
   "execution_count": 51,
   "id": "9675f7e8-a8e6-44ff-b1c5-b229cbbeb2e9",
   "metadata": {},
   "outputs": [],
   "source": [
    "X = df['canonical_smiles'].values\n",
    "y = df['pIC50'].values"
   ]
  },
  {
   "cell_type": "markdown",
   "id": "dd87900d-dca2-4f0e-a5c2-58fef4266a67",
   "metadata": {},
   "source": [
    "# Data augmentation:\n",
    "\n",
    "https://arxiv.org/pdf/1703.07076.pdf\n",
    "\n",
    "https://github.com/EBjerrum/molvecgen\n",
    "\n",
    "https://github.com/Ebjerrum/SMILES-enumeration"
   ]
  },
  {
   "cell_type": "markdown",
   "id": "605fb205-e7e7-45fb-99bd-2e6f490977a8",
   "metadata": {},
   "source": [
    "En la publicación de arriba se describe una técnica de aumentación de datos para los smiles. Leerla si es de su interes (Opcional)\n",
    "\n",
    "En el módulo **dataug.py**, tomando como referencia los repositorios arriba citados se implementó la aumentación de datos"
   ]
  },
  {
   "cell_type": "code",
   "execution_count": 52,
   "id": "cd51b313-2eda-4b2f-b876-7ddf27fae055",
   "metadata": {},
   "outputs": [
    {
     "name": "stdout",
     "output_type": "stream",
     "text": [
      "c1cccc(COc2cccc(-n3nc(OCC)oc3=O)c2)c1\n",
      "c1c(-n2nc(OCC)oc2=O)cc(OCc2ccccc2)cc1\n",
      "c1c(-n2c(=O)oc(OCC)n2)cccc1OCc1ccccc1\n",
      "c1c(-n2nc(OCC)oc2=O)cccc1OCc1ccccc1\n",
      "c1(OCc2ccccc2)cc(-n2nc(OCC)oc2=O)ccc1\n",
      "n1(-c2cccc(OCc3ccccc3)c2)nc(OCC)oc1=O\n",
      "c1(OCc2ccccc2)cc(-n2nc(OCC)oc2=O)ccc1\n",
      "n1(-c2cc(OCc3ccccc3)ccc2)c(=O)oc(OCC)n1\n",
      "c1ccc(-n2c(=O)oc(OCC)n2)cc1OCc1ccccc1\n",
      "c1cccc(COc2cccc(-n3c(=O)oc(OCC)n3)c2)c1\n"
     ]
    }
   ],
   "source": [
    "seq = 'CCOc1nn(-c2cccc(OCc3ccccc3)c2)c(=O)o1'\n",
    "\n",
    "from dataaug import SmilesEnumerator\n",
    "sme = SmilesEnumerator()\n",
    "for i in range(10):\n",
    "    print(sme.randomize_smiles('CCOc1nn(-c2cccc(OCc3ccccc3)c2)c(=O)o1'))"
   ]
  },
  {
   "cell_type": "code",
   "execution_count": 53,
   "id": "d4733af9-9c49-4c2f-bb1d-dc7f180cc66f",
   "metadata": {},
   "outputs": [
    {
     "name": "stdout",
     "output_type": "stream",
     "text": [
      "c1ccccc1COc1cc(-n2nc(OCC)oc2=O)ccc1\n",
      "C(C)Oc1oc(=O)n(-c2cc(OCc3ccccc3)ccc2)n1\n",
      "c1cc(OCc2ccccc2)cc(-n2c(=O)oc(OCC)n2)c1\n",
      "CCOc1oc(=O)n(-c2cccc(OCc3ccccc3)c2)n1\n",
      "c1(-n2nc(OCC)oc2=O)cccc(OCc2ccccc2)c1\n",
      "C(c1ccccc1)Oc1cc(-n2c(=O)oc(OCC)n2)ccc1\n",
      "o1c(OCC)nn(-c2cccc(OCc3ccccc3)c2)c1=O\n",
      "c1(=O)oc(OCC)nn1-c1cccc(OCc2ccccc2)c1\n",
      "c1ccccc1COc1cc(-n2c(=O)oc(OCC)n2)ccc1\n",
      "c1(-n2nc(OCC)oc2=O)cc(OCc2ccccc2)ccc1\n"
     ]
    }
   ],
   "source": [
    "from dataaug import SmilesEnumerator\n",
    "sme = SmilesEnumerator()\n",
    "for i in range(10):\n",
    "    print(sme.randomize_smiles('CCOc1nn(-c2cccc(OCc3ccccc3)c2)c(=O)o1'))\n",
    "    "
   ]
  },
  {
   "cell_type": "markdown",
   "id": "7a1923d3-1df0-4df1-a43c-ec30eff6fe4d",
   "metadata": {},
   "source": [
    "# DataGenerator"
   ]
  },
  {
   "cell_type": "markdown",
   "id": "fc6a3c67-9f44-4052-9e93-9e274f08c1b5",
   "metadata": {},
   "source": [
    "Construir un generador al que se le pase al instanciarlo:\n",
    "- X: smiles (formula química)\n",
    "- y: pIC50\n",
    "- batch_size\n",
    "- max_sequence_len (int): La máxima longitud de las secuencias (para hacer el padding)\n",
    "- data_augmentation (boolean): si quiero hacer o no data-augmentation. \n",
    "- shuffle (boolean)\n",
    "\n",
    "Guardarlo en el módulo **datagen.py** con el nombre de la clase **DataGenerator**\n",
    "\n",
    "Notar que el módulo **datagen.py** ya tiene una estructura para completar"
   ]
  },
  {
   "cell_type": "markdown",
   "id": "f602f3e4-24aa-41ee-9f83-89ec3acc96f1",
   "metadata": {},
   "source": [
    "### Importamos el módulo y lo probamos"
   ]
  },
  {
   "cell_type": "code",
   "execution_count": 54,
   "id": "413bce05-2685-4c84-8a43-c3dd8ed74e11",
   "metadata": {},
   "outputs": [],
   "source": [
    "from datagen import DataGenerator"
   ]
  },
  {
   "cell_type": "code",
   "execution_count": 55,
   "id": "fa46e729-47d1-40db-a9a1-db85c25c3c09",
   "metadata": {},
   "outputs": [
    {
     "data": {
      "text/plain": [
       "224"
      ]
     },
     "execution_count": 55,
     "metadata": {},
     "output_type": "execute_result"
    }
   ],
   "source": [
    "max_sequence_len"
   ]
  },
  {
   "cell_type": "code",
   "execution_count": 56,
   "id": "52aa520a-a84b-4d8b-a22e-6b4a5cc7e65a",
   "metadata": {},
   "outputs": [],
   "source": [
    "dgen = DataGenerator(X, y, max_sequence_len, batch_size=16)"
   ]
  },
  {
   "cell_type": "code",
   "execution_count": 57,
   "id": "b3212e31-dd2c-4ebc-b9a0-78ed4bb5d78d",
   "metadata": {},
   "outputs": [
    {
     "data": {
      "text/plain": [
       "6160"
      ]
     },
     "execution_count": 57,
     "metadata": {},
     "output_type": "execute_result"
    }
   ],
   "source": [
    "len(dgen) * dgen.batch_size"
   ]
  },
  {
   "cell_type": "code",
   "execution_count": 58,
   "id": "133033ed-a3b1-4572-aaaf-f4cb2a055724",
   "metadata": {},
   "outputs": [
    {
     "name": "stdout",
     "output_type": "stream",
     "text": [
      "384\r"
     ]
    }
   ],
   "source": [
    "for i, (X_b, y_b) in enumerate(dgen):\n",
    "    print(f'{i}\\r', end='')"
   ]
  },
  {
   "cell_type": "code",
   "execution_count": 59,
   "id": "d010f566-c375-4518-879f-d087fc2cb7ef",
   "metadata": {},
   "outputs": [
    {
     "data": {
      "text/plain": [
       "array([[21, 15, 16, ...,  0,  0,  0],\n",
       "       [28,  7, 28, ...,  0,  0,  0],\n",
       "       [16,  7, 16, ...,  0,  0,  0],\n",
       "       ...,\n",
       "       [28,  7, 28, ...,  0,  0,  0],\n",
       "       [16, 16, 16, ...,  0,  0,  0],\n",
       "       [16,  2, 16, ...,  0,  0,  0]])"
      ]
     },
     "execution_count": 59,
     "metadata": {},
     "output_type": "execute_result"
    }
   ],
   "source": [
    "X_b"
   ]
  },
  {
   "cell_type": "markdown",
   "id": "4233710d-9274-4dae-b22d-cf42b57ad862",
   "metadata": {},
   "source": [
    "# Split"
   ]
  },
  {
   "cell_type": "code",
   "execution_count": 60,
   "id": "ce7a95e6-2486-42fb-97fb-865e3fd6a561",
   "metadata": {},
   "outputs": [],
   "source": [
    "from sklearn.model_selection import train_test_split"
   ]
  },
  {
   "cell_type": "code",
   "execution_count": 61,
   "id": "fcb9840f-2f41-45be-99a5-f05f3ab73ed8",
   "metadata": {},
   "outputs": [],
   "source": [
    "X_train, X_test, y_train, y_test = train_test_split(X, y, test_size=0.2, random_state=42)"
   ]
  },
  {
   "cell_type": "code",
   "execution_count": 62,
   "id": "eb13b9d2-cd84-4015-a5f4-cf51e8449f2e",
   "metadata": {},
   "outputs": [
    {
     "data": {
      "text/plain": [
       "(4925,)"
      ]
     },
     "execution_count": 62,
     "metadata": {},
     "output_type": "execute_result"
    }
   ],
   "source": [
    "X_train.shape"
   ]
  },
  {
   "cell_type": "code",
   "execution_count": 63,
   "id": "649277c5-fda5-457c-985d-51a426882c09",
   "metadata": {},
   "outputs": [],
   "source": [
    "X_train = X_train[:4500]\n",
    "y_train = y_train[:4500]"
   ]
  },
  {
   "cell_type": "code",
   "execution_count": 64,
   "id": "4ad17134-3e15-42d1-b8c9-0c793169e145",
   "metadata": {},
   "outputs": [
    {
     "data": {
      "text/plain": [
       "(4500, 4500, 1232)"
      ]
     },
     "execution_count": 64,
     "metadata": {},
     "output_type": "execute_result"
    }
   ],
   "source": [
    "len(X_train), len(y_train), len(X_test)"
   ]
  },
  {
   "cell_type": "code",
   "execution_count": 65,
   "id": "929de60c-7128-4e35-8efc-4b5f9ee9471c",
   "metadata": {},
   "outputs": [
    {
     "data": {
      "text/plain": [
       "array(['COc1cc(/C=C/c2ccc3ccccc3[n+]2C)ccc1N1CCOCC1.[I-]',\n",
       "       'CCCCCCCNC(=O)Oc1ccc2c(c1)C1(C)CCN(CC)C2C1',\n",
       "       'c1ccc2c(COc3nn(CCN4CCCC4)c4ccccc34)cccc2c1', ...,\n",
       "       'Cl.Nc1c2c(nc3ccc(F)cc13)CCC2',\n",
       "       'CCN(CC)CCCCCOc1ccc(C(=O)/C=C/c2ccccc2)cc1',\n",
       "       'COc1ccccc1/C=C1\\\\CN(C(=O)C[C@H]2C[C@H]3CCCN3[C@]23C(=O)Nc2ccccc23)C/C(=C\\\\c2ccccc2OC)C1=O'],\n",
       "      dtype=object)"
      ]
     },
     "execution_count": 65,
     "metadata": {},
     "output_type": "execute_result"
    }
   ],
   "source": [
    "X_train"
   ]
  },
  {
   "cell_type": "code",
   "execution_count": 66,
   "id": "dd72855a-8310-4a5e-b5c8-7fe181ea8edd",
   "metadata": {},
   "outputs": [],
   "source": [
    "dgen_train = DataGenerator(X_train, y_train, seq_length=max_sequence_len, batch_size=128, data_augmentation=True)\n",
    "dgen_test = DataGenerator(X_test, y_test, seq_length=max_sequence_len, batch_size=128, data_augmentation=False)"
   ]
  },
  {
   "cell_type": "code",
   "execution_count": 67,
   "id": "8d580353-ccfc-4b41-898d-2eaae3c5f8a4",
   "metadata": {},
   "outputs": [
    {
     "data": {
      "text/plain": [
       "<datagen.DataGenerator at 0xffff1db97590>"
      ]
     },
     "execution_count": 67,
     "metadata": {},
     "output_type": "execute_result"
    }
   ],
   "source": [
    "dgen_train"
   ]
  },
  {
   "cell_type": "code",
   "execution_count": 68,
   "id": "1bf28e8f-b29e-4b60-b7a2-4f08ff5a547b",
   "metadata": {},
   "outputs": [
    {
     "name": "stdout",
     "output_type": "stream",
     "text": [
      "9\r"
     ]
    }
   ],
   "source": [
    "for i, (X_b, y_b) in enumerate(dgen_test):\n",
    "    print(f'{i}\\r', end='')"
   ]
  },
  {
   "cell_type": "markdown",
   "id": "85941430-2534-4d7d-ba52-d934a31c1bf6",
   "metadata": {},
   "source": [
    "# Network Model"
   ]
  },
  {
   "cell_type": "code",
   "execution_count": 69,
   "id": "b6a49020-ce69-4e17-b4e1-f4bd68317fee",
   "metadata": {},
   "outputs": [
    {
     "name": "stdout",
     "output_type": "stream",
     "text": [
      "Model: \"sequential_3\"\n",
      "_________________________________________________________________\n",
      " Layer (type)                Output Shape              Param #   \n",
      "=================================================================\n",
      " embedding_1 (Embedding)     (None, 204, 64)           2752      \n",
      "                                                                 \n",
      " bidirectional_1 (Bidirectio  (None, 256)              197632    \n",
      " nal)                                                            \n",
      "                                                                 \n",
      " dense_2 (Dense)             (None, 256)               65792     \n",
      "                                                                 \n",
      " batch_normalization_1 (Batc  (None, 256)              1024      \n",
      " hNormalization)                                                 \n",
      "                                                                 \n",
      " activation_1 (Activation)   (None, 256)               0         \n",
      "                                                                 \n",
      " dense_3 (Dense)             (None, 1)                 257       \n",
      "                                                                 \n",
      "=================================================================\n",
      "Total params: 267,457\n",
      "Trainable params: 266,945\n",
      "Non-trainable params: 512\n",
      "_________________________________________________________________\n",
      "Epoch 1/100\n",
      "36/36 [==============================] - 16s 401ms/step - loss: 11.8878 - mean_squared_error: 8.5899 - root_mean_squared_error: 2.9308 - val_loss: 28.7618 - val_mean_squared_error: 26.4005 - val_root_mean_squared_error: 5.1381 - lr: 0.0010\n",
      "Epoch 2/100\n",
      "36/36 [==============================] - 14s 379ms/step - loss: 4.8236 - mean_squared_error: 2.9300 - root_mean_squared_error: 1.7117 - val_loss: 25.4623 - val_mean_squared_error: 23.9460 - val_root_mean_squared_error: 4.8935 - lr: 0.0010\n",
      "Epoch 3/100\n",
      "36/36 [==============================] - 14s 379ms/step - loss: 4.0406 - mean_squared_error: 2.6874 - root_mean_squared_error: 1.6393 - val_loss: 22.5594 - val_mean_squared_error: 21.3332 - val_root_mean_squared_error: 4.6188 - lr: 0.0010\n",
      "Epoch 4/100\n",
      "36/36 [==============================] - 14s 385ms/step - loss: 3.6409 - mean_squared_error: 2.4984 - root_mean_squared_error: 1.5806 - val_loss: 21.7868 - val_mean_squared_error: 20.7198 - val_root_mean_squared_error: 4.5519 - lr: 0.0010\n",
      "Epoch 5/100\n",
      "36/36 [==============================] - 14s 385ms/step - loss: 3.3399 - mean_squared_error: 2.3360 - root_mean_squared_error: 1.5284 - val_loss: 19.0031 - val_mean_squared_error: 18.0633 - val_root_mean_squared_error: 4.2501 - lr: 0.0010\n",
      "Epoch 6/100\n",
      "36/36 [==============================] - 14s 380ms/step - loss: 3.2748 - mean_squared_error: 2.3842 - root_mean_squared_error: 1.5441 - val_loss: 21.4525 - val_mean_squared_error: 20.6109 - val_root_mean_squared_error: 4.5399 - lr: 0.0010\n",
      "Epoch 7/100\n",
      "36/36 [==============================] - 14s 377ms/step - loss: 3.0377 - mean_squared_error: 2.2388 - root_mean_squared_error: 1.4963 - val_loss: 19.5635 - val_mean_squared_error: 18.8101 - val_root_mean_squared_error: 4.3371 - lr: 0.0010\n",
      "Epoch 8/100\n",
      "36/36 [==============================] - 14s 379ms/step - loss: 2.9284 - mean_squared_error: 2.2122 - root_mean_squared_error: 1.4873 - val_loss: 18.9302 - val_mean_squared_error: 18.2503 - val_root_mean_squared_error: 4.2720 - lr: 0.0010\n",
      "Epoch 9/100\n",
      "36/36 [==============================] - 14s 385ms/step - loss: 2.7880 - mean_squared_error: 2.1442 - root_mean_squared_error: 1.4643 - val_loss: 17.6046 - val_mean_squared_error: 16.9946 - val_root_mean_squared_error: 4.1225 - lr: 0.0010\n",
      "Epoch 10/100\n",
      "36/36 [==============================] - 14s 383ms/step - loss: 2.7185 - mean_squared_error: 2.1350 - root_mean_squared_error: 1.4612 - val_loss: 15.1897 - val_mean_squared_error: 14.6305 - val_root_mean_squared_error: 3.8250 - lr: 0.0010\n",
      "Epoch 11/100\n",
      "36/36 [==============================] - 14s 377ms/step - loss: 2.7207 - mean_squared_error: 2.1866 - root_mean_squared_error: 1.4787 - val_loss: 14.7329 - val_mean_squared_error: 14.2224 - val_root_mean_squared_error: 3.7713 - lr: 0.0010\n",
      "Epoch 12/100\n",
      "36/36 [==============================] - 14s 380ms/step - loss: 2.6370 - mean_squared_error: 2.1457 - root_mean_squared_error: 1.4648 - val_loss: 11.1115 - val_mean_squared_error: 10.6368 - val_root_mean_squared_error: 3.2614 - lr: 0.0010\n",
      "Epoch 13/100\n",
      "36/36 [==============================] - 14s 383ms/step - loss: 2.5225 - mean_squared_error: 2.0670 - root_mean_squared_error: 1.4377 - val_loss: 9.8296 - val_mean_squared_error: 9.3916 - val_root_mean_squared_error: 3.0646 - lr: 0.0010\n",
      "Epoch 14/100\n",
      "36/36 [==============================] - 14s 383ms/step - loss: 2.5095 - mean_squared_error: 2.0908 - root_mean_squared_error: 1.4459 - val_loss: 10.2631 - val_mean_squared_error: 9.8634 - val_root_mean_squared_error: 3.1406 - lr: 0.0010\n",
      "Epoch 15/100\n",
      "36/36 [==============================] - 14s 382ms/step - loss: 2.4858 - mean_squared_error: 2.0971 - root_mean_squared_error: 1.4481 - val_loss: 6.4357 - val_mean_squared_error: 6.0591 - val_root_mean_squared_error: 2.4615 - lr: 0.0010\n",
      "Epoch 16/100\n",
      "36/36 [==============================] - 14s 381ms/step - loss: 2.4068 - mean_squared_error: 2.0480 - root_mean_squared_error: 1.4311 - val_loss: 6.1673 - val_mean_squared_error: 5.8203 - val_root_mean_squared_error: 2.4125 - lr: 0.0010\n",
      "Epoch 17/100\n",
      "36/36 [==============================] - 14s 383ms/step - loss: 2.3877 - mean_squared_error: 2.0502 - root_mean_squared_error: 1.4319 - val_loss: 4.5562 - val_mean_squared_error: 4.2318 - val_root_mean_squared_error: 2.0571 - lr: 0.0010\n",
      "Epoch 18/100\n",
      "36/36 [==============================] - 14s 384ms/step - loss: 2.4513 - mean_squared_error: 2.1338 - root_mean_squared_error: 1.4608 - val_loss: 4.0158 - val_mean_squared_error: 3.7064 - val_root_mean_squared_error: 1.9252 - lr: 0.0010\n",
      "Epoch 19/100\n",
      "36/36 [==============================] - 14s 386ms/step - loss: 2.2633 - mean_squared_error: 1.9629 - root_mean_squared_error: 1.4010 - val_loss: 2.9503 - val_mean_squared_error: 2.6584 - val_root_mean_squared_error: 1.6305 - lr: 0.0010\n",
      "Epoch 20/100\n",
      "36/36 [==============================] - 14s 385ms/step - loss: 2.2969 - mean_squared_error: 2.0137 - root_mean_squared_error: 1.4190 - val_loss: 2.7855 - val_mean_squared_error: 2.5105 - val_root_mean_squared_error: 1.5845 - lr: 0.0010\n",
      "Epoch 21/100\n",
      "36/36 [==============================] - 14s 384ms/step - loss: 2.2938 - mean_squared_error: 2.0257 - root_mean_squared_error: 1.4233 - val_loss: 2.9083 - val_mean_squared_error: 2.6458 - val_root_mean_squared_error: 1.6266 - lr: 0.0010\n",
      "Epoch 22/100\n",
      "36/36 [==============================] - 14s 385ms/step - loss: 2.2731 - mean_squared_error: 2.0183 - root_mean_squared_error: 1.4207 - val_loss: 2.6715 - val_mean_squared_error: 2.4228 - val_root_mean_squared_error: 1.5565 - lr: 0.0010\n",
      "Epoch 23/100\n",
      "36/36 [==============================] - 14s 382ms/step - loss: 2.2537 - mean_squared_error: 2.0111 - root_mean_squared_error: 1.4181 - val_loss: 2.2537 - val_mean_squared_error: 2.0161 - val_root_mean_squared_error: 1.4199 - lr: 0.0010\n",
      "Epoch 24/100\n",
      "36/36 [==============================] - 14s 387ms/step - loss: 2.1764 - mean_squared_error: 1.9445 - root_mean_squared_error: 1.3944 - val_loss: 2.0887 - val_mean_squared_error: 1.8637 - val_root_mean_squared_error: 1.3652 - lr: 0.0010\n",
      "Epoch 25/100\n",
      "36/36 [==============================] - 14s 384ms/step - loss: 2.1797 - mean_squared_error: 1.9581 - root_mean_squared_error: 1.3993 - val_loss: 2.0569 - val_mean_squared_error: 1.8381 - val_root_mean_squared_error: 1.3558 - lr: 0.0010\n",
      "Epoch 26/100\n",
      "36/36 [==============================] - 14s 385ms/step - loss: 2.1787 - mean_squared_error: 1.9663 - root_mean_squared_error: 1.4022 - val_loss: 2.7543 - val_mean_squared_error: 2.5457 - val_root_mean_squared_error: 1.5955 - lr: 0.0010\n",
      "Epoch 27/100\n",
      "36/36 [==============================] - 14s 385ms/step - loss: 2.1482 - mean_squared_error: 1.9441 - root_mean_squared_error: 1.3943 - val_loss: 2.3421 - val_mean_squared_error: 2.1421 - val_root_mean_squared_error: 1.4636 - lr: 0.0010\n",
      "Epoch 28/100\n",
      "36/36 [==============================] - 14s 383ms/step - loss: 2.1380 - mean_squared_error: 1.9419 - root_mean_squared_error: 1.3935 - val_loss: 2.0492 - val_mean_squared_error: 1.8565 - val_root_mean_squared_error: 1.3625 - lr: 0.0010\n",
      "Epoch 29/100\n",
      "36/36 [==============================] - 14s 384ms/step - loss: 2.0971 - mean_squared_error: 1.9086 - root_mean_squared_error: 1.3815 - val_loss: 2.0122 - val_mean_squared_error: 1.8282 - val_root_mean_squared_error: 1.3521 - lr: 0.0010\n",
      "Epoch 30/100\n",
      "36/36 [==============================] - 14s 388ms/step - loss: 2.0549 - mean_squared_error: 1.8726 - root_mean_squared_error: 1.3684 - val_loss: 3.6703 - val_mean_squared_error: 3.4906 - val_root_mean_squared_error: 1.8683 - lr: 0.0010\n",
      "Epoch 31/100\n",
      "36/36 [==============================] - 14s 396ms/step - loss: 2.0822 - mean_squared_error: 1.9049 - root_mean_squared_error: 1.3802 - val_loss: 2.9023 - val_mean_squared_error: 2.7270 - val_root_mean_squared_error: 1.6514 - lr: 0.0010\n",
      "Epoch 32/100\n",
      "36/36 [==============================] - 14s 387ms/step - loss: 2.0618 - mean_squared_error: 1.8896 - root_mean_squared_error: 1.3746 - val_loss: 2.0306 - val_mean_squared_error: 1.8628 - val_root_mean_squared_error: 1.3649 - lr: 0.0010\n",
      "Epoch 33/100\n",
      "36/36 [==============================] - 14s 389ms/step - loss: 2.0234 - mean_squared_error: 1.8562 - root_mean_squared_error: 1.3624 - val_loss: 1.9710 - val_mean_squared_error: 1.8067 - val_root_mean_squared_error: 1.3441 - lr: 0.0010\n",
      "Epoch 34/100\n",
      "36/36 [==============================] - 14s 385ms/step - loss: 2.0408 - mean_squared_error: 1.8776 - root_mean_squared_error: 1.3703 - val_loss: 1.9580 - val_mean_squared_error: 1.7966 - val_root_mean_squared_error: 1.3404 - lr: 0.0010\n",
      "Epoch 35/100\n",
      "36/36 [==============================] - 14s 384ms/step - loss: 1.9859 - mean_squared_error: 1.8269 - root_mean_squared_error: 1.3516 - val_loss: 2.0767 - val_mean_squared_error: 1.9211 - val_root_mean_squared_error: 1.3860 - lr: 0.0010\n",
      "Epoch 36/100\n",
      "36/36 [==============================] - 14s 390ms/step - loss: 2.0322 - mean_squared_error: 1.8755 - root_mean_squared_error: 1.3695 - val_loss: 2.0389 - val_mean_squared_error: 1.8837 - val_root_mean_squared_error: 1.3725 - lr: 0.0010\n",
      "Epoch 37/100\n",
      "36/36 [==============================] - 14s 387ms/step - loss: 1.9865 - mean_squared_error: 1.8323 - root_mean_squared_error: 1.3536 - val_loss: 2.3520 - val_mean_squared_error: 2.1990 - val_root_mean_squared_error: 1.4829 - lr: 0.0010\n",
      "Epoch 38/100\n",
      "36/36 [==============================] - 14s 387ms/step - loss: 1.9875 - mean_squared_error: 1.8367 - root_mean_squared_error: 1.3553 - val_loss: 2.0860 - val_mean_squared_error: 1.9365 - val_root_mean_squared_error: 1.3916 - lr: 0.0010\n",
      "Epoch 39/100\n",
      "36/36 [==============================] - 14s 387ms/step - loss: 1.9488 - mean_squared_error: 1.8008 - root_mean_squared_error: 1.3419 - val_loss: 1.9649 - val_mean_squared_error: 1.8197 - val_root_mean_squared_error: 1.3490 - lr: 0.0010\n",
      "Epoch 40/100\n",
      "36/36 [==============================] - 14s 392ms/step - loss: 1.8492 - mean_squared_error: 1.7054 - root_mean_squared_error: 1.3059 - val_loss: 1.8202 - val_mean_squared_error: 1.6790 - val_root_mean_squared_error: 1.2958 - lr: 5.0000e-04\n",
      "Epoch 41/100\n",
      "36/36 [==============================] - 14s 391ms/step - loss: 1.7991 - mean_squared_error: 1.6579 - root_mean_squared_error: 1.2876 - val_loss: 2.0778 - val_mean_squared_error: 1.9376 - val_root_mean_squared_error: 1.3920 - lr: 5.0000e-04\n",
      "Epoch 42/100\n",
      "36/36 [==============================] - 14s 384ms/step - loss: 1.7952 - mean_squared_error: 1.6569 - root_mean_squared_error: 1.2872 - val_loss: 1.7950 - val_mean_squared_error: 1.6585 - val_root_mean_squared_error: 1.2878 - lr: 5.0000e-04\n",
      "Epoch 43/100\n",
      "36/36 [==============================] - 14s 389ms/step - loss: 1.8132 - mean_squared_error: 1.6777 - root_mean_squared_error: 1.2953 - val_loss: 1.8327 - val_mean_squared_error: 1.6975 - val_root_mean_squared_error: 1.3029 - lr: 5.0000e-04\n",
      "Epoch 44/100\n",
      "36/36 [==============================] - 14s 398ms/step - loss: 1.7951 - mean_squared_error: 1.6613 - root_mean_squared_error: 1.2889 - val_loss: 1.7873 - val_mean_squared_error: 1.6550 - val_root_mean_squared_error: 1.2865 - lr: 5.0000e-04\n",
      "Epoch 45/100\n",
      "36/36 [==============================] - 14s 390ms/step - loss: 1.7793 - mean_squared_error: 1.6475 - root_mean_squared_error: 1.2836 - val_loss: 1.7426 - val_mean_squared_error: 1.6119 - val_root_mean_squared_error: 1.2696 - lr: 5.0000e-04\n",
      "Epoch 46/100\n",
      "36/36 [==============================] - 14s 388ms/step - loss: 1.7842 - mean_squared_error: 1.6540 - root_mean_squared_error: 1.2861 - val_loss: 1.7502 - val_mean_squared_error: 1.6204 - val_root_mean_squared_error: 1.2729 - lr: 5.0000e-04\n",
      "Epoch 47/100\n",
      "36/36 [==============================] - 14s 387ms/step - loss: 1.7969 - mean_squared_error: 1.6685 - root_mean_squared_error: 1.2917 - val_loss: 1.7115 - val_mean_squared_error: 1.5838 - val_root_mean_squared_error: 1.2585 - lr: 5.0000e-04\n",
      "Epoch 48/100\n",
      "36/36 [==============================] - 14s 392ms/step - loss: 1.7497 - mean_squared_error: 1.6228 - root_mean_squared_error: 1.2739 - val_loss: 1.6876 - val_mean_squared_error: 1.5612 - val_root_mean_squared_error: 1.2495 - lr: 5.0000e-04\n",
      "Epoch 49/100\n",
      "36/36 [==============================] - 14s 388ms/step - loss: 1.7520 - mean_squared_error: 1.6262 - root_mean_squared_error: 1.2752 - val_loss: 1.7464 - val_mean_squared_error: 1.6214 - val_root_mean_squared_error: 1.2733 - lr: 5.0000e-04\n",
      "Epoch 50/100\n",
      "36/36 [==============================] - 14s 388ms/step - loss: 1.7616 - mean_squared_error: 1.6368 - root_mean_squared_error: 1.2794 - val_loss: 1.7247 - val_mean_squared_error: 1.6006 - val_root_mean_squared_error: 1.2652 - lr: 5.0000e-04\n",
      "Epoch 51/100\n",
      "36/36 [==============================] - 14s 387ms/step - loss: 1.7435 - mean_squared_error: 1.6201 - root_mean_squared_error: 1.2728 - val_loss: 1.8285 - val_mean_squared_error: 1.7062 - val_root_mean_squared_error: 1.3062 - lr: 5.0000e-04\n",
      "Epoch 52/100\n",
      "36/36 [==============================] - 14s 392ms/step - loss: 1.7394 - mean_squared_error: 1.6176 - root_mean_squared_error: 1.2719 - val_loss: 1.8287 - val_mean_squared_error: 1.7071 - val_root_mean_squared_error: 1.3065 - lr: 5.0000e-04\n",
      "Epoch 53/100\n",
      "36/36 [==============================] - 14s 391ms/step - loss: 1.7229 - mean_squared_error: 1.6015 - root_mean_squared_error: 1.2655 - val_loss: 1.8065 - val_mean_squared_error: 1.6865 - val_root_mean_squared_error: 1.2987 - lr: 5.0000e-04\n",
      "Epoch 54/100\n",
      "36/36 [==============================] - 14s 388ms/step - loss: 1.6797 - mean_squared_error: 1.5604 - root_mean_squared_error: 1.2492 - val_loss: 1.6502 - val_mean_squared_error: 1.5317 - val_root_mean_squared_error: 1.2376 - lr: 2.5000e-04\n",
      "Epoch 55/100\n",
      "36/36 [==============================] - 14s 392ms/step - loss: 1.6614 - mean_squared_error: 1.5432 - root_mean_squared_error: 1.2423 - val_loss: 1.6726 - val_mean_squared_error: 1.5551 - val_root_mean_squared_error: 1.2470 - lr: 2.5000e-04\n",
      "Epoch 56/100\n",
      "36/36 [==============================] - 14s 393ms/step - loss: 1.6556 - mean_squared_error: 1.5384 - root_mean_squared_error: 1.2403 - val_loss: 1.6679 - val_mean_squared_error: 1.5513 - val_root_mean_squared_error: 1.2455 - lr: 2.5000e-04\n",
      "Epoch 57/100\n",
      "36/36 [==============================] - 14s 393ms/step - loss: 1.6587 - mean_squared_error: 1.5422 - root_mean_squared_error: 1.2419 - val_loss: 1.7674 - val_mean_squared_error: 1.6516 - val_root_mean_squared_error: 1.2851 - lr: 2.5000e-04\n",
      "Epoch 58/100\n",
      "36/36 [==============================] - 14s 391ms/step - loss: 1.6427 - mean_squared_error: 1.5270 - root_mean_squared_error: 1.2357 - val_loss: 1.6859 - val_mean_squared_error: 1.5711 - val_root_mean_squared_error: 1.2534 - lr: 2.5000e-04\n",
      "Epoch 59/100\n",
      "36/36 [==============================] - 14s 391ms/step - loss: 1.6380 - mean_squared_error: 1.5229 - root_mean_squared_error: 1.2340 - val_loss: 1.6640 - val_mean_squared_error: 1.5494 - val_root_mean_squared_error: 1.2448 - lr: 2.5000e-04\n",
      "Epoch 60/100\n",
      "36/36 [==============================] - 14s 393ms/step - loss: 1.6154 - mean_squared_error: 1.5013 - root_mean_squared_error: 1.2253 - val_loss: 1.6205 - val_mean_squared_error: 1.5070 - val_root_mean_squared_error: 1.2276 - lr: 1.2500e-04\n",
      "Epoch 61/100\n",
      "36/36 [==============================] - 14s 391ms/step - loss: 1.6235 - mean_squared_error: 1.5100 - root_mean_squared_error: 1.2288 - val_loss: 1.5761 - val_mean_squared_error: 1.4628 - val_root_mean_squared_error: 1.2095 - lr: 1.2500e-04\n",
      "Epoch 62/100\n",
      "36/36 [==============================] - 14s 398ms/step - loss: 1.5838 - mean_squared_error: 1.4708 - root_mean_squared_error: 1.2127 - val_loss: 1.5998 - val_mean_squared_error: 1.4870 - val_root_mean_squared_error: 1.2194 - lr: 1.2500e-04\n",
      "Epoch 63/100\n",
      "36/36 [==============================] - 14s 388ms/step - loss: 1.6051 - mean_squared_error: 1.4925 - root_mean_squared_error: 1.2217 - val_loss: 1.5932 - val_mean_squared_error: 1.4810 - val_root_mean_squared_error: 1.2170 - lr: 1.2500e-04\n",
      "Epoch 64/100\n",
      "36/36 [==============================] - 14s 390ms/step - loss: 1.6172 - mean_squared_error: 1.5052 - root_mean_squared_error: 1.2269 - val_loss: 1.6134 - val_mean_squared_error: 1.5011 - val_root_mean_squared_error: 1.2252 - lr: 1.2500e-04\n",
      "Epoch 65/100\n",
      "36/36 [==============================] - 14s 397ms/step - loss: 1.6034 - mean_squared_error: 1.4916 - root_mean_squared_error: 1.2213 - val_loss: 1.5718 - val_mean_squared_error: 1.4604 - val_root_mean_squared_error: 1.2085 - lr: 1.2500e-04\n",
      "Epoch 66/100\n",
      "36/36 [==============================] - 14s 392ms/step - loss: 1.5723 - mean_squared_error: 1.4612 - root_mean_squared_error: 1.2088 - val_loss: 1.6329 - val_mean_squared_error: 1.5216 - val_root_mean_squared_error: 1.2335 - lr: 1.2500e-04\n",
      "Epoch 67/100\n",
      "36/36 [==============================] - 14s 390ms/step - loss: 1.6043 - mean_squared_error: 1.4937 - root_mean_squared_error: 1.2222 - val_loss: 1.5709 - val_mean_squared_error: 1.4606 - val_root_mean_squared_error: 1.2086 - lr: 1.2500e-04\n",
      "Epoch 68/100\n",
      "36/36 [==============================] - 14s 392ms/step - loss: 1.5638 - mean_squared_error: 1.4537 - root_mean_squared_error: 1.2057 - val_loss: 1.5781 - val_mean_squared_error: 1.4681 - val_root_mean_squared_error: 1.2117 - lr: 1.2500e-04\n",
      "Epoch 69/100\n",
      "36/36 [==============================] - 14s 395ms/step - loss: 1.5751 - mean_squared_error: 1.4653 - root_mean_squared_error: 1.2105 - val_loss: 1.5794 - val_mean_squared_error: 1.4698 - val_root_mean_squared_error: 1.2124 - lr: 1.2500e-04\n",
      "Epoch 70/100\n",
      "36/36 [==============================] - 14s 398ms/step - loss: 1.5711 - mean_squared_error: 1.4617 - root_mean_squared_error: 1.2090 - val_loss: 1.5741 - val_mean_squared_error: 1.4649 - val_root_mean_squared_error: 1.2103 - lr: 1.2500e-04\n",
      "Epoch 71/100\n",
      "36/36 [==============================] - 14s 391ms/step - loss: 1.5905 - mean_squared_error: 1.4814 - root_mean_squared_error: 1.2171 - val_loss: 1.6545 - val_mean_squared_error: 1.5458 - val_root_mean_squared_error: 1.2433 - lr: 1.2500e-04\n",
      "Epoch 72/100\n",
      "36/36 [==============================] - 14s 393ms/step - loss: 1.5868 - mean_squared_error: 1.4780 - root_mean_squared_error: 1.2157 - val_loss: 1.5537 - val_mean_squared_error: 1.4451 - val_root_mean_squared_error: 1.2021 - lr: 1.2500e-04\n",
      "Epoch 73/100\n",
      "36/36 [==============================] - 14s 399ms/step - loss: 1.5919 - mean_squared_error: 1.4834 - root_mean_squared_error: 1.2179 - val_loss: 1.5746 - val_mean_squared_error: 1.4667 - val_root_mean_squared_error: 1.2111 - lr: 1.2500e-04\n",
      "Epoch 74/100\n",
      "36/36 [==============================] - 14s 394ms/step - loss: 1.5912 - mean_squared_error: 1.4831 - root_mean_squared_error: 1.2178 - val_loss: 1.5752 - val_mean_squared_error: 1.4674 - val_root_mean_squared_error: 1.2114 - lr: 1.2500e-04\n",
      "Epoch 75/100\n",
      "36/36 [==============================] - 14s 397ms/step - loss: 1.5583 - mean_squared_error: 1.4506 - root_mean_squared_error: 1.2044 - val_loss: 1.5857 - val_mean_squared_error: 1.4781 - val_root_mean_squared_error: 1.2158 - lr: 1.2500e-04\n",
      "Epoch 76/100\n",
      "36/36 [==============================] - 14s 395ms/step - loss: 1.5660 - mean_squared_error: 1.4587 - root_mean_squared_error: 1.2078 - val_loss: 1.6644 - val_mean_squared_error: 1.5576 - val_root_mean_squared_error: 1.2481 - lr: 1.2500e-04\n",
      "Epoch 77/100\n",
      "36/36 [==============================] - 14s 394ms/step - loss: 1.6085 - mean_squared_error: 1.5016 - root_mean_squared_error: 1.2254 - val_loss: 1.5743 - val_mean_squared_error: 1.4673 - val_root_mean_squared_error: 1.2113 - lr: 1.2500e-04\n",
      "Epoch 78/100\n",
      "36/36 [==============================] - 15s 414ms/step - loss: 1.5354 - mean_squared_error: 1.4286 - root_mean_squared_error: 1.1952 - val_loss: 1.5684 - val_mean_squared_error: 1.4617 - val_root_mean_squared_error: 1.2090 - lr: 6.2500e-05\n",
      "Epoch 79/100\n",
      "36/36 [==============================] - 15s 406ms/step - loss: 1.5649 - mean_squared_error: 1.4583 - root_mean_squared_error: 1.2076 - val_loss: 1.5502 - val_mean_squared_error: 1.4437 - val_root_mean_squared_error: 1.2015 - lr: 6.2500e-05\n",
      "Epoch 80/100\n",
      "36/36 [==============================] - 14s 396ms/step - loss: 1.5418 - mean_squared_error: 1.4354 - root_mean_squared_error: 1.1981 - val_loss: 1.5767 - val_mean_squared_error: 1.4705 - val_root_mean_squared_error: 1.2126 - lr: 6.2500e-05\n",
      "Epoch 81/100\n",
      "36/36 [==============================] - 14s 403ms/step - loss: 1.5393 - mean_squared_error: 1.4331 - root_mean_squared_error: 1.1971 - val_loss: 1.5973 - val_mean_squared_error: 1.4913 - val_root_mean_squared_error: 1.2212 - lr: 6.2500e-05\n",
      "Epoch 82/100\n",
      "36/36 [==============================] - 14s 398ms/step - loss: 1.5191 - mean_squared_error: 1.4131 - root_mean_squared_error: 1.1887 - val_loss: 1.6094 - val_mean_squared_error: 1.5034 - val_root_mean_squared_error: 1.2261 - lr: 6.2500e-05\n",
      "Epoch 83/100\n",
      "36/36 [==============================] - 15s 415ms/step - loss: 1.5416 - mean_squared_error: 1.4357 - root_mean_squared_error: 1.1982 - val_loss: 1.6249 - val_mean_squared_error: 1.5192 - val_root_mean_squared_error: 1.2326 - lr: 6.2500e-05\n",
      "Epoch 84/100\n",
      "36/36 [==============================] - 14s 401ms/step - loss: 1.5498 - mean_squared_error: 1.4441 - root_mean_squared_error: 1.2017 - val_loss: 1.5225 - val_mean_squared_error: 1.4170 - val_root_mean_squared_error: 1.1904 - lr: 6.2500e-05\n",
      "Epoch 85/100\n",
      "36/36 [==============================] - 15s 410ms/step - loss: 1.5587 - mean_squared_error: 1.4533 - root_mean_squared_error: 1.2055 - val_loss: 1.5520 - val_mean_squared_error: 1.4467 - val_root_mean_squared_error: 1.2028 - lr: 6.2500e-05\n",
      "Epoch 86/100\n",
      "36/36 [==============================] - 15s 422ms/step - loss: 1.5555 - mean_squared_error: 1.4504 - root_mean_squared_error: 1.2043 - val_loss: 1.5726 - val_mean_squared_error: 1.4675 - val_root_mean_squared_error: 1.2114 - lr: 6.2500e-05\n",
      "Epoch 87/100\n",
      "36/36 [==============================] - 14s 401ms/step - loss: 1.5406 - mean_squared_error: 1.4355 - root_mean_squared_error: 1.1981 - val_loss: 1.5142 - val_mean_squared_error: 1.4092 - val_root_mean_squared_error: 1.1871 - lr: 6.2500e-05\n",
      "Epoch 88/100\n",
      "36/36 [==============================] - 14s 398ms/step - loss: 1.5538 - mean_squared_error: 1.4488 - root_mean_squared_error: 1.2037 - val_loss: 1.5935 - val_mean_squared_error: 1.4885 - val_root_mean_squared_error: 1.2201 - lr: 6.2500e-05\n",
      "Epoch 89/100\n",
      "36/36 [==============================] - 14s 397ms/step - loss: 1.5305 - mean_squared_error: 1.4258 - root_mean_squared_error: 1.1941 - val_loss: 1.5638 - val_mean_squared_error: 1.4591 - val_root_mean_squared_error: 1.2079 - lr: 6.2500e-05\n",
      "Epoch 90/100\n",
      "36/36 [==============================] - 15s 405ms/step - loss: 1.5260 - mean_squared_error: 1.4215 - root_mean_squared_error: 1.1923 - val_loss: 1.5213 - val_mean_squared_error: 1.4170 - val_root_mean_squared_error: 1.1904 - lr: 6.2500e-05\n",
      "Epoch 91/100\n",
      "36/36 [==============================] - 15s 408ms/step - loss: 1.5480 - mean_squared_error: 1.4437 - root_mean_squared_error: 1.2015 - val_loss: 1.5385 - val_mean_squared_error: 1.4344 - val_root_mean_squared_error: 1.1977 - lr: 6.2500e-05\n",
      "Epoch 92/100\n",
      "36/36 [==============================] - 14s 397ms/step - loss: 1.5371 - mean_squared_error: 1.4330 - root_mean_squared_error: 1.1971 - val_loss: 1.5363 - val_mean_squared_error: 1.4323 - val_root_mean_squared_error: 1.1968 - lr: 6.2500e-05\n",
      "Epoch 93/100\n",
      "36/36 [==============================] - 14s 398ms/step - loss: 1.5435 - mean_squared_error: 1.4395 - root_mean_squared_error: 1.1998 - val_loss: 1.5591 - val_mean_squared_error: 1.4550 - val_root_mean_squared_error: 1.2062 - lr: 3.1250e-05\n",
      "Epoch 94/100\n",
      "36/36 [==============================] - 15s 409ms/step - loss: 1.5253 - mean_squared_error: 1.4214 - root_mean_squared_error: 1.1922 - val_loss: 1.5617 - val_mean_squared_error: 1.4579 - val_root_mean_squared_error: 1.2074 - lr: 3.1250e-05\n",
      "Epoch 95/100\n",
      "36/36 [==============================] - 14s 402ms/step - loss: 1.5280 - mean_squared_error: 1.4241 - root_mean_squared_error: 1.1934 - val_loss: 1.5367 - val_mean_squared_error: 1.4330 - val_root_mean_squared_error: 1.1971 - lr: 3.1250e-05\n",
      "Epoch 96/100\n",
      "36/36 [==============================] - 15s 407ms/step - loss: 1.5332 - mean_squared_error: 1.4295 - root_mean_squared_error: 1.1956 - val_loss: 1.5593 - val_mean_squared_error: 1.4556 - val_root_mean_squared_error: 1.2065 - lr: 3.1250e-05\n",
      "Epoch 97/100\n",
      "36/36 [==============================] - 15s 409ms/step - loss: 1.5327 - mean_squared_error: 1.4290 - root_mean_squared_error: 1.1954 - val_loss: 1.5203 - val_mean_squared_error: 1.4166 - val_root_mean_squared_error: 1.1902 - lr: 3.1250e-05\n"
     ]
    }
   ],
   "source": [
    "import numpy as np\n",
    "import tensorflow as tf\n",
    "from tensorflow.keras.models import Sequential\n",
    "from tensorflow.keras.layers import Embedding, Bidirectional, Dense, BatchNormalization, Activation, LSTM\n",
    "from tensorflow.keras.callbacks import ReduceLROnPlateau, EarlyStopping\n",
    "from tensorflow.keras.regularizers import l2\n",
    "from tensorflow.keras.optimizers import RMSprop\n",
    "from tensorflow.keras.metrics import MeanSquaredError, RootMeanSquaredError\n",
    "from tensorflow.keras.backend import square, mean\n",
    "\n",
    "# Build the sequential model\n",
    "model = Sequential()\n",
    "\n",
    "# Embedding layer\n",
    "embedding_dim = 128\n",
    "model.add(Embedding(input_dim=42 + 1, output_dim=64, input_length=204))\n",
    "\n",
    "# Bidirectional LSTM layer with L2 regularization\n",
    "lstm_units = 128\n",
    "model.add(Bidirectional(LSTM(units=lstm_units, return_sequences=False, kernel_regularizer=l2(0.01))))\n",
    "\n",
    "# Dense layer with L2 regularization\n",
    "dense_units = 256\n",
    "model.add(Dense(units=dense_units, kernel_regularizer=l2(0.01)))\n",
    "\n",
    "# Batch normalization layer\n",
    "model.add(BatchNormalization())\n",
    "\n",
    "# Activation layer\n",
    "model.add(Activation('relu'))\n",
    "\n",
    "# Output dense layer\n",
    "model.add(Dense(units=1, activation='linear'))  # Use 'linear' activation for regression\n",
    "\n",
    "# Print the model summary\n",
    "model.summary()\n",
    "\n",
    "# Learning rate scheduler\n",
    "lr_scheduler = ReduceLROnPlateau(monitor='val_loss', factor=0.5, patience=5, min_lr=1e-6)\n",
    "\n",
    "# Early stopping\n",
    "early_stopping = EarlyStopping(monitor='val_loss', patience=10, restore_best_weights=True)\n",
    "\n",
    "# RMSE metric function\n",
    "def RMSE(y_true, y_pred):\n",
    "    return tf.sqrt(mean(square(y_pred - y_true)))\n",
    "\n",
    "# Compile the model with RMSE metric\n",
    "optimizer = RMSprop(learning_rate=0.001, clipvalue=0.1)\n",
    "model.compile(optimizer=optimizer, loss='mse', metrics=[MeanSquaredError(), RootMeanSquaredError()])\n",
    "\n",
    "# Instantiate the DataGenerator\n",
    "dgen_train = DataGenerator(X_train, y_train, seq_length=204, batch_size=128, data_augmentation=True)\n",
    "dgen_test = DataGenerator(X_test, y_test, seq_length=204, batch_size=128, data_augmentation=True)\n",
    "\n",
    "# Train the model\n",
    "history = model.fit(dgen_train, epochs=100, validation_data=dgen_test, callbacks=[lr_scheduler, early_stopping])"
   ]
  },
  {
   "cell_type": "code",
   "execution_count": 70,
   "id": "a0242588-eede-4e85-8b83-f207ea8ab757",
   "metadata": {},
   "outputs": [],
   "source": [
    "X_test_eval = []\n",
    "y_t_eval = []\n",
    "for X_t, y_t in dgen_test:\n",
    "    X_test_eval = X_test_eval + [list(t) for t in X_t]\n",
    "    y_t_eval = y_t_eval + list(y_t)\n",
    "X_test_eval = np.array(X_test_eval)\n",
    "y_test = np.array(y_t_eval)"
   ]
  },
  {
   "cell_type": "code",
   "execution_count": 71,
   "id": "a1437cbf-fe44-4999-a44b-05cea765f22b",
   "metadata": {},
   "outputs": [
    {
     "data": {
      "text/plain": [
       "((1232, 204), (1232,))"
      ]
     },
     "execution_count": 71,
     "metadata": {},
     "output_type": "execute_result"
    }
   ],
   "source": [
    "X_test_eval.shape, y_test.shape"
   ]
  },
  {
   "cell_type": "code",
   "execution_count": 72,
   "id": "0084fbb1-e83e-4808-99bf-1458f3ea3076",
   "metadata": {},
   "outputs": [
    {
     "name": "stdout",
     "output_type": "stream",
     "text": [
      "39/39 [==============================] - 3s 62ms/step\n"
     ]
    }
   ],
   "source": [
    "y_pred = model.predict(X_test_eval)"
   ]
  },
  {
   "cell_type": "markdown",
   "id": "382979a3-f299-4762-8b6d-10a6ea4d3c70",
   "metadata": {},
   "source": [
    "# Score"
   ]
  },
  {
   "cell_type": "code",
   "execution_count": 73,
   "id": "f9fd5d60-841f-46c3-94b6-5755b4d548cd",
   "metadata": {},
   "outputs": [],
   "source": [
    "r2 = 1 - ((y_test - y_pred.reshape(-1)) ** 2).sum() / ((y_test - y_test.mean()) ** 2).sum()"
   ]
  },
  {
   "cell_type": "code",
   "execution_count": 74,
   "id": "4d2bfabe-2e3e-40cf-a1e8-2d458ee7f328",
   "metadata": {},
   "outputs": [
    {
     "data": {
      "text/plain": [
       "0.4268970043626814"
      ]
     },
     "execution_count": 74,
     "metadata": {},
     "output_type": "execute_result"
    }
   ],
   "source": [
    "r2"
   ]
  },
  {
   "cell_type": "code",
   "execution_count": 75,
   "id": "85262541-e04a-4ff2-b3e6-a47643db66f6",
   "metadata": {},
   "outputs": [],
   "source": [
    "filename = 'models/argumentamentation_LSTM.h5'\n",
    "model.save(filename)"
   ]
  },
  {
   "cell_type": "markdown",
   "id": "5f683e18-c876-4f7c-93ea-a33d495dcdaa",
   "metadata": {},
   "source": [
    "# Load model (solo si se grabo el modelo)"
   ]
  },
  {
   "cell_type": "code",
   "execution_count": 76,
   "id": "285c8740-f0bb-4237-8593-ff9b815de0e3",
   "metadata": {},
   "outputs": [],
   "source": [
    "from tensorflow.keras.models import load_model"
   ]
  },
  {
   "cell_type": "code",
   "execution_count": 78,
   "id": "2168984f-770c-436e-92da-c1344b1d3abc",
   "metadata": {},
   "outputs": [],
   "source": [
    "def R2(y_true, y_pred):\n",
    "    SS_res =  K.sum(K.square( y_true-y_pred ))\n",
    "    SS_tot = K.sum(K.square( y_true - K.mean(y_true) ) )\n",
    "    return ( 1 - SS_res/(SS_tot + K.epsilon()) )\n",
    "model_loaded = load_model(filename, custom_objects={'R2': R2})"
   ]
  },
  {
   "cell_type": "code",
   "execution_count": 79,
   "id": "13a9d7d8-41e0-44a0-a8b9-02157a11f8f2",
   "metadata": {},
   "outputs": [
    {
     "name": "stdout",
     "output_type": "stream",
     "text": [
      "39/39 [==============================] - 3s 64ms/step\n"
     ]
    }
   ],
   "source": [
    "y_pred = model_loaded.predict(X_test_eval)"
   ]
  },
  {
   "cell_type": "code",
   "execution_count": 80,
   "id": "26c63493-3f25-4383-9654-58ee62aa3ae5",
   "metadata": {},
   "outputs": [
    {
     "data": {
      "text/plain": [
       "0.4268970043626814"
      ]
     },
     "execution_count": 80,
     "metadata": {},
     "output_type": "execute_result"
    }
   ],
   "source": [
    "r2 = 1 - ((y_test - y_pred.reshape(-1)) ** 2).sum() / ((y_test - y_test.mean()) ** 2).sum()\n",
    "r2"
   ]
  },
  {
   "cell_type": "markdown",
   "id": "7f1a6260-e31f-4e5e-a923-ce67bf31152f",
   "metadata": {},
   "source": [
    "# Evaluación"
   ]
  },
  {
   "cell_type": "code",
   "execution_count": 81,
   "id": "7dd9d7e6-2789-459e-b9dd-593e10847fc4",
   "metadata": {},
   "outputs": [
    {
     "data": {
      "text/plain": [
       "<function matplotlib.pyplot.show(close=None, block=None)>"
      ]
     },
     "execution_count": 81,
     "metadata": {},
     "output_type": "execute_result"
    },
    {
     "data": {
      "image/png": "[encoded data removed]",
      "text/plain": [
       "<Figure size 360x360 with 1 Axes>"
      ]
     },
     "metadata": {},
     "output_type": "display_data"
    }
   ],
   "source": [
    "import seaborn as sns\n",
    "import matplotlib.pyplot as plt\n",
    "\n",
    "sns.set(color_codes=True)\n",
    "sns.set_style(\"white\")\n",
    "\n",
    "ax = sns.regplot(x=y_test, y=y_pred, scatter_kws={'alpha':0.4})\n",
    "ax.set_xlabel('Experimental pIC50', fontsize='large', fontweight='bold')\n",
    "ax.set_ylabel('Predicted pIC50', fontsize='large', fontweight='bold')\n",
    "ax.set_xlim(0, 12)\n",
    "ax.set_ylim(0, 12)\n",
    "ax.figure.set_size_inches(5, 5)\n",
    "plt.show"
   ]
  },
  {
   "cell_type": "code",
   "execution_count": null,
   "id": "87c4d36c-542f-43bb-a02e-83aed2e030c7",
   "metadata": {},
   "outputs": [],
   "source": []
  }
 ],
 "metadata": {
  "kernelspec": {
   "display_name": "Python 3",
   "language": "python",
   "name": "python3"
  },
  "language_info": {
   "codemirror_mode": {
    "name": "ipython",
    "version": 3
   },
   "file_extension": ".py",
   "mimetype": "text/x-python",
   "name": "python",
   "nbconvert_exporter": "python",
   "pygments_lexer": "ipython3",
   "version": "3.7.10"
  }
 },
 "nbformat": 4,
 "nbformat_minor": 5
}
