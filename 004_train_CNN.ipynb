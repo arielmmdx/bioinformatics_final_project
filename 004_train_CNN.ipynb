{
 "cells": [
  {
   "cell_type": "code",
   "execution_count": 1,
   "id": "3ac13f6c-a061-4c24-a5fc-081ea6283a62",
   "metadata": {},
   "outputs": [],
   "source": [
    "%load_ext autoreload\n",
    "%autoreload 2"
   ]
  },
  {
   "cell_type": "markdown",
   "id": "9dab7de8-eb23-47d7-a771-28a2397d0a54",
   "metadata": {},
   "source": [
    "# Modelo CNN con generador, embedings de smiles y data-augmentation"
   ]
  },
  {
   "cell_type": "code",
   "execution_count": null,
   "id": "ae9c6293-11f8-4e53-9e2b-98c95ea6c3f1",
   "metadata": {},
   "outputs": [],
   "source": [
    "#!pip install rdkit-pypi"
   ]
  },
  {
   "cell_type": "code",
   "execution_count": 4,
   "id": "21bee0a3-79a7-43b2-9ac2-15cad5630e22",
   "metadata": {},
   "outputs": [],
   "source": [
    "import pandas as pd\n",
    "import numpy as np\n",
    "from datagen import smiles_dict, smiles_to_seq"
   ]
  },
  {
   "cell_type": "markdown",
   "id": "20aa799f-b75c-4d23-869b-fea6d041a6e9",
   "metadata": {},
   "source": [
    "### smiles_dict"
   ]
  },
  {
   "cell_type": "code",
   "execution_count": 5,
   "id": "628a3149-eabe-4de3-8404-d86eb6ad3baf",
   "metadata": {},
   "outputs": [
    {
     "data": {
      "text/plain": [
       "42"
      ]
     },
     "execution_count": 5,
     "metadata": {},
     "output_type": "execute_result"
    }
   ],
   "source": [
    "len(smiles_dict)"
   ]
  },
  {
   "cell_type": "markdown",
   "id": "b9c9312c-4232-414c-b0ff-1e6fb6dba1a6",
   "metadata": {},
   "source": [
    "smiles_dict nos da un tokenizador para simplificar el problema. Puede ver como se construyó en la notebook **deep_chem**.\n",
    "Si al momento de correr el modelo con este diccionario encuentra problemas de key_error, puede agregar los faltantes al diccionario\n",
    "\n",
    "Mirar dentro de **datagen.py** como se usa este diccionario con la función **smiles_to_seq** para tokenizar. El código es muy sencillo"
   ]
  },
  {
   "cell_type": "code",
   "execution_count": 6,
   "id": "e29ef48f-4b67-42a4-83af-e7d0bb980c4b",
   "metadata": {},
   "outputs": [
    {
     "name": "stdout",
     "output_type": "stream",
     "text": [
      "{'#': 1, '(': 2, ')': 3, '+': 4, '-': 5, '/': 6, '1': 7, '2': 8, '3': 9, '4': 10, '5': 11, '6': 12, '7': 13, '8': 14, '=': 15, 'C': 16, 'F': 17, 'H': 18, 'I': 19, 'N': 20, 'O': 21, 'P': 22, 'S': 23, '[': 24, '\\\\': 25, ']': 26, '_': 27, 'c': 28, 'Cl': 29, 'Br': 30, 'n': 31, 'o': 32, 's': 33, '@': 34, '.': 35, 'a': 36, 'B': 37, 'e': 38, 'i': 39, '9': 40, '10': 41, '11': 42}\n"
     ]
    }
   ],
   "source": [
    "print(smiles_dict)"
   ]
  },
  {
   "cell_type": "markdown",
   "id": "b103a4e0-038d-406b-aab8-5c9452ede04e",
   "metadata": {},
   "source": [
    "# Carga de los datos"
   ]
  },
  {
   "cell_type": "code",
   "execution_count": 7,
   "id": "353a2d75-f0f4-4563-9842-c68d77118161",
   "metadata": {},
   "outputs": [],
   "source": [
    "df = pd.read_csv('data/acetylcholinesterase_02_bioactivity_data_preprocessed.csv')"
   ]
  },
  {
   "cell_type": "code",
   "execution_count": 8,
   "id": "4e7fcdcb-ad53-4ebf-bc17-a241c79269da",
   "metadata": {},
   "outputs": [],
   "source": [
    "max_len_idx = df['canonical_smiles'].apply(len).argmax()\n",
    "min_len_idx = df['canonical_smiles'].apply(len).argmin()\n",
    "max_sequence_len = len(df['canonical_smiles'].iloc[max_len_idx]) + 20"
   ]
  },
  {
   "cell_type": "code",
   "execution_count": 9,
   "id": "d1554fa5-d9ee-456c-be20-80571e319fc6",
   "metadata": {},
   "outputs": [
    {
     "data": {
      "text/html": [
       "<div>\n",
       "<style scoped>\n",
       "    .dataframe tbody tr th:only-of-type {\n",
       "        vertical-align: middle;\n",
       "    }\n",
       "\n",
       "    .dataframe tbody tr th {\n",
       "        vertical-align: top;\n",
       "    }\n",
       "\n",
       "    .dataframe thead th {\n",
       "        text-align: right;\n",
       "    }\n",
       "</style>\n",
       "<table border=\"1\" class=\"dataframe\">\n",
       "  <thead>\n",
       "    <tr style=\"text-align: right;\">\n",
       "      <th></th>\n",
       "      <th>molecule_chembl_id</th>\n",
       "      <th>canonical_smiles</th>\n",
       "      <th>standard_value</th>\n",
       "      <th>standard_value_norm</th>\n",
       "      <th>pIC50</th>\n",
       "    </tr>\n",
       "  </thead>\n",
       "  <tbody>\n",
       "    <tr>\n",
       "      <th>0</th>\n",
       "      <td>CHEMBL133897</td>\n",
       "      <td>CCOc1nn(-c2cccc(OCc3ccccc3)c2)c(=O)o1</td>\n",
       "      <td>750.0</td>\n",
       "      <td>750.0</td>\n",
       "      <td>6.124939</td>\n",
       "    </tr>\n",
       "    <tr>\n",
       "      <th>1</th>\n",
       "      <td>CHEMBL336398</td>\n",
       "      <td>O=C(N1CCCCC1)n1nc(-c2ccc(Cl)cc2)nc1SCC1CC1</td>\n",
       "      <td>100.0</td>\n",
       "      <td>100.0</td>\n",
       "      <td>7.000000</td>\n",
       "    </tr>\n",
       "    <tr>\n",
       "      <th>2</th>\n",
       "      <td>CHEMBL131588</td>\n",
       "      <td>CN(C(=O)n1nc(-c2ccc(Cl)cc2)nc1SCC(F)(F)F)c1ccccc1</td>\n",
       "      <td>50000.0</td>\n",
       "      <td>50000.0</td>\n",
       "      <td>4.301030</td>\n",
       "    </tr>\n",
       "    <tr>\n",
       "      <th>3</th>\n",
       "      <td>CHEMBL130628</td>\n",
       "      <td>O=C(N1CCCCC1)n1nc(-c2ccc(Cl)cc2)nc1SCC(F)(F)F</td>\n",
       "      <td>300.0</td>\n",
       "      <td>300.0</td>\n",
       "      <td>6.522879</td>\n",
       "    </tr>\n",
       "    <tr>\n",
       "      <th>4</th>\n",
       "      <td>CHEMBL130478</td>\n",
       "      <td>CSc1nc(-c2ccc(OC(F)(F)F)cc2)nn1C(=O)N(C)C</td>\n",
       "      <td>800.0</td>\n",
       "      <td>800.0</td>\n",
       "      <td>6.096910</td>\n",
       "    </tr>\n",
       "  </tbody>\n",
       "</table>\n",
       "</div>"
      ],
      "text/plain": [
       "  molecule_chembl_id                                   canonical_smiles  \\\n",
       "0       CHEMBL133897              CCOc1nn(-c2cccc(OCc3ccccc3)c2)c(=O)o1   \n",
       "1       CHEMBL336398         O=C(N1CCCCC1)n1nc(-c2ccc(Cl)cc2)nc1SCC1CC1   \n",
       "2       CHEMBL131588  CN(C(=O)n1nc(-c2ccc(Cl)cc2)nc1SCC(F)(F)F)c1ccccc1   \n",
       "3       CHEMBL130628      O=C(N1CCCCC1)n1nc(-c2ccc(Cl)cc2)nc1SCC(F)(F)F   \n",
       "4       CHEMBL130478          CSc1nc(-c2ccc(OC(F)(F)F)cc2)nn1C(=O)N(C)C   \n",
       "\n",
       "   standard_value  standard_value_norm     pIC50  \n",
       "0           750.0                750.0  6.124939  \n",
       "1           100.0                100.0  7.000000  \n",
       "2         50000.0              50000.0  4.301030  \n",
       "3           300.0                300.0  6.522879  \n",
       "4           800.0                800.0  6.096910  "
      ]
     },
     "execution_count": 9,
     "metadata": {},
     "output_type": "execute_result"
    }
   ],
   "source": [
    "df.head()"
   ]
  },
  {
   "cell_type": "code",
   "execution_count": 10,
   "id": "9675f7e8-a8e6-44ff-b1c5-b229cbbeb2e9",
   "metadata": {},
   "outputs": [],
   "source": [
    "X = df['canonical_smiles'].values\n",
    "y = df['pIC50'].values"
   ]
  },
  {
   "cell_type": "markdown",
   "id": "dd87900d-dca2-4f0e-a5c2-58fef4266a67",
   "metadata": {},
   "source": [
    "# Data augmentation:\n",
    "\n",
    "https://arxiv.org/pdf/1703.07076.pdf\n",
    "\n",
    "https://github.com/EBjerrum/molvecgen\n",
    "\n",
    "https://github.com/Ebjerrum/SMILES-enumeration"
   ]
  },
  {
   "cell_type": "markdown",
   "id": "605fb205-e7e7-45fb-99bd-2e6f490977a8",
   "metadata": {},
   "source": [
    "En la publicación de arriba se describe una técnica de aumentación de datos para los smiles. Leerla si es de su interes (Opcional)\n",
    "\n",
    "En el módulo **dataug.py**, tomando como referencia los repositorios arriba citados se implementó la aumentación de datos"
   ]
  },
  {
   "cell_type": "code",
   "execution_count": 11,
   "id": "cd51b313-2eda-4b2f-b876-7ddf27fae055",
   "metadata": {},
   "outputs": [
    {
     "name": "stdout",
     "output_type": "stream",
     "text": [
      "c1cccc(COc2cc(-n3nc(OCC)oc3=O)ccc2)c1\n",
      "c1ccccc1COc1cccc(-n2c(=O)oc(OCC)n2)c1\n",
      "O=c1oc(OCC)nn1-c1cc(OCc2ccccc2)ccc1\n",
      "c1c(COc2cccc(-n3c(=O)oc(OCC)n3)c2)cccc1\n",
      "c1cccc(COc2cccc(-n3c(=O)oc(OCC)n3)c2)c1\n",
      "c1(=O)n(-c2cc(OCc3ccccc3)ccc2)nc(OCC)o1\n",
      "c1(COc2cccc(-n3c(=O)oc(OCC)n3)c2)ccccc1\n",
      "n1c(OCC)oc(=O)n1-c1cc(OCc2ccccc2)ccc1\n",
      "c1ccc(COc2cccc(-n3nc(OCC)oc3=O)c2)cc1\n",
      "c1(OCc2ccccc2)cccc(-n2nc(OCC)oc2=O)c1\n"
     ]
    }
   ],
   "source": [
    "seq = 'CCOc1nn(-c2cccc(OCc3ccccc3)c2)c(=O)o1'\n",
    "\n",
    "from dataaug import SmilesEnumerator\n",
    "sme = SmilesEnumerator()\n",
    "for i in range(10):\n",
    "    print(sme.randomize_smiles('CCOc1nn(-c2cccc(OCc3ccccc3)c2)c(=O)o1'))"
   ]
  },
  {
   "cell_type": "code",
   "execution_count": 12,
   "id": "d4733af9-9c49-4c2f-bb1d-dc7f180cc66f",
   "metadata": {},
   "outputs": [
    {
     "name": "stdout",
     "output_type": "stream",
     "text": [
      "c1ccc(COc2cc(-n3c(=O)oc(OCC)n3)ccc2)cc1\n",
      "c1c(OCc2ccccc2)cccc1-n1c(=O)oc(OCC)n1\n",
      "O(c1cccc(-n2c(=O)oc(OCC)n2)c1)Cc1ccccc1\n",
      "c1(OCC)oc(=O)n(-c2cccc(OCc3ccccc3)c2)n1\n",
      "c1c(COc2cc(-n3nc(OCC)oc3=O)ccc2)cccc1\n",
      "CCOc1nn(-c2cc(OCc3ccccc3)ccc2)c(=O)o1\n",
      "c1(-n2nc(OCC)oc2=O)cc(OCc2ccccc2)ccc1\n",
      "O(c1cccc(-n2c(=O)oc(OCC)n2)c1)Cc1ccccc1\n",
      "c1(=O)n(-c2cc(OCc3ccccc3)ccc2)nc(OCC)o1\n",
      "O(CC)c1oc(=O)n(-c2cccc(OCc3ccccc3)c2)n1\n"
     ]
    }
   ],
   "source": [
    "from dataaug import SmilesEnumerator\n",
    "sme = SmilesEnumerator()\n",
    "for i in range(10):\n",
    "    print(sme.randomize_smiles('CCOc1nn(-c2cccc(OCc3ccccc3)c2)c(=O)o1'))\n",
    "    "
   ]
  },
  {
   "cell_type": "markdown",
   "id": "7a1923d3-1df0-4df1-a43c-ec30eff6fe4d",
   "metadata": {},
   "source": [
    "# DataGenerator"
   ]
  },
  {
   "cell_type": "markdown",
   "id": "fc6a3c67-9f44-4052-9e93-9e274f08c1b5",
   "metadata": {},
   "source": [
    "Construir un generador al que se le pase al instanciarlo:\n",
    "- X: smiles (formula química)\n",
    "- y: pIC50\n",
    "- batch_size\n",
    "- max_sequence_len (int): La máxima longitud de las secuencias (para hacer el padding)\n",
    "- data_augmentation (boolean): si quiero hacer o no data-augmentation. \n",
    "- shuffle (boolean)\n",
    "\n",
    "Guardarlo en el módulo **datagen.py** con el nombre de la clase **DataGenerator**\n",
    "\n",
    "Notar que el módulo **datagen.py** ya tiene una estructura para completar"
   ]
  },
  {
   "cell_type": "markdown",
   "id": "f602f3e4-24aa-41ee-9f83-89ec3acc96f1",
   "metadata": {},
   "source": [
    "### Importamos el módulo y lo probamos"
   ]
  },
  {
   "cell_type": "code",
   "execution_count": 13,
   "id": "413bce05-2685-4c84-8a43-c3dd8ed74e11",
   "metadata": {},
   "outputs": [],
   "source": [
    "from datagen import DataGenerator"
   ]
  },
  {
   "cell_type": "code",
   "execution_count": 14,
   "id": "fa46e729-47d1-40db-a9a1-db85c25c3c09",
   "metadata": {},
   "outputs": [
    {
     "data": {
      "text/plain": [
       "224"
      ]
     },
     "execution_count": 14,
     "metadata": {},
     "output_type": "execute_result"
    }
   ],
   "source": [
    "max_sequence_len"
   ]
  },
  {
   "cell_type": "code",
   "execution_count": 15,
   "id": "52aa520a-a84b-4d8b-a22e-6b4a5cc7e65a",
   "metadata": {},
   "outputs": [],
   "source": [
    "dgen = DataGenerator(X, y, max_sequence_len, batch_size=16)"
   ]
  },
  {
   "cell_type": "code",
   "execution_count": 16,
   "id": "b3212e31-dd2c-4ebc-b9a0-78ed4bb5d78d",
   "metadata": {},
   "outputs": [
    {
     "data": {
      "text/plain": [
       "6160"
      ]
     },
     "execution_count": 16,
     "metadata": {},
     "output_type": "execute_result"
    }
   ],
   "source": [
    "len(dgen) * dgen.batch_size"
   ]
  },
  {
   "cell_type": "code",
   "execution_count": 18,
   "id": "133033ed-a3b1-4572-aaaf-f4cb2a055724",
   "metadata": {},
   "outputs": [
    {
     "name": "stdout",
     "output_type": "stream",
     "text": [
      "384\r"
     ]
    }
   ],
   "source": [
    "for i, (X_b, y_b) in enumerate(dgen):\n",
    "    print(f'{i}\\r', end='')"
   ]
  },
  {
   "cell_type": "code",
   "execution_count": 19,
   "id": "d010f566-c375-4518-879f-d087fc2cb7ef",
   "metadata": {},
   "outputs": [
    {
     "data": {
      "text/plain": [
       "array([[21,  2, 28, ...,  0,  0,  0],\n",
       "       [21, 15, 16, ...,  0,  0,  0],\n",
       "       [16,  2, 21, ...,  0,  0,  0],\n",
       "       ...,\n",
       "       [28,  7, 28, ...,  0,  0,  0],\n",
       "       [28,  7, 28, ...,  0,  0,  0],\n",
       "       [28,  7, 28, ...,  0,  0,  0]])"
      ]
     },
     "execution_count": 19,
     "metadata": {},
     "output_type": "execute_result"
    }
   ],
   "source": [
    "X_b"
   ]
  },
  {
   "cell_type": "code",
   "execution_count": 20,
   "id": "b29b7246-142c-4401-b44e-9815c4bf9370",
   "metadata": {},
   "outputs": [
    {
     "data": {
      "text/plain": [
       "(13,)"
      ]
     },
     "execution_count": 20,
     "metadata": {},
     "output_type": "execute_result"
    }
   ],
   "source": [
    "y_b.shape"
   ]
  },
  {
   "cell_type": "markdown",
   "id": "4233710d-9274-4dae-b22d-cf42b57ad862",
   "metadata": {},
   "source": [
    "# Split"
   ]
  },
  {
   "cell_type": "code",
   "execution_count": 21,
   "id": "ce7a95e6-2486-42fb-97fb-865e3fd6a561",
   "metadata": {},
   "outputs": [],
   "source": [
    "from sklearn.model_selection import train_test_split"
   ]
  },
  {
   "cell_type": "code",
   "execution_count": 22,
   "id": "fcb9840f-2f41-45be-99a5-f05f3ab73ed8",
   "metadata": {},
   "outputs": [],
   "source": [
    "X_train, X_test, y_train, y_test = train_test_split(X, y, test_size=0.2, random_state=42)"
   ]
  },
  {
   "cell_type": "code",
   "execution_count": 23,
   "id": "eb13b9d2-cd84-4015-a5f4-cf51e8449f2e",
   "metadata": {},
   "outputs": [
    {
     "data": {
      "text/plain": [
       "(4925,)"
      ]
     },
     "execution_count": 23,
     "metadata": {},
     "output_type": "execute_result"
    }
   ],
   "source": [
    "X_train.shape"
   ]
  },
  {
   "cell_type": "code",
   "execution_count": 24,
   "id": "649277c5-fda5-457c-985d-51a426882c09",
   "metadata": {},
   "outputs": [],
   "source": [
    "X_train = X_train[:4500]\n",
    "y_train = y_train[:4500]"
   ]
  },
  {
   "cell_type": "code",
   "execution_count": 25,
   "id": "4ad17134-3e15-42d1-b8c9-0c793169e145",
   "metadata": {},
   "outputs": [
    {
     "data": {
      "text/plain": [
       "(4500, 4500, 1232)"
      ]
     },
     "execution_count": 25,
     "metadata": {},
     "output_type": "execute_result"
    }
   ],
   "source": [
    "len(X_train), len(y_train), len(X_test)"
   ]
  },
  {
   "cell_type": "code",
   "execution_count": 26,
   "id": "929de60c-7128-4e35-8efc-4b5f9ee9471c",
   "metadata": {},
   "outputs": [
    {
     "data": {
      "text/plain": [
       "array(['COc1cc(/C=C/c2ccc3ccccc3[n+]2C)ccc1N1CCOCC1.[I-]',\n",
       "       'CCCCCCCNC(=O)Oc1ccc2c(c1)C1(C)CCN(CC)C2C1',\n",
       "       'c1ccc2c(COc3nn(CCN4CCCC4)c4ccccc34)cccc2c1', ...,\n",
       "       'Cl.Nc1c2c(nc3ccc(F)cc13)CCC2',\n",
       "       'CCN(CC)CCCCCOc1ccc(C(=O)/C=C/c2ccccc2)cc1',\n",
       "       'COc1ccccc1/C=C1\\\\CN(C(=O)C[C@H]2C[C@H]3CCCN3[C@]23C(=O)Nc2ccccc23)C/C(=C\\\\c2ccccc2OC)C1=O'],\n",
       "      dtype=object)"
      ]
     },
     "execution_count": 26,
     "metadata": {},
     "output_type": "execute_result"
    }
   ],
   "source": [
    "X_train"
   ]
  },
  {
   "cell_type": "code",
   "execution_count": 27,
   "id": "dd72855a-8310-4a5e-b5c8-7fe181ea8edd",
   "metadata": {},
   "outputs": [],
   "source": [
    "dgen_train = DataGenerator(X_train, y_train, seq_length=max_sequence_len, batch_size=128, data_augmentation=True)\n",
    "dgen_test = DataGenerator(X_test, y_test, seq_length=max_sequence_len, batch_size=128, data_augmentation=False)"
   ]
  },
  {
   "cell_type": "code",
   "execution_count": 28,
   "id": "8d580353-ccfc-4b41-898d-2eaae3c5f8a4",
   "metadata": {},
   "outputs": [
    {
     "data": {
      "text/plain": [
       "<datagen.DataGenerator at 0xffff343dc2d0>"
      ]
     },
     "execution_count": 28,
     "metadata": {},
     "output_type": "execute_result"
    }
   ],
   "source": [
    "dgen_train"
   ]
  },
  {
   "cell_type": "code",
   "execution_count": 29,
   "id": "1bf28e8f-b29e-4b60-b7a2-4f08ff5a547b",
   "metadata": {},
   "outputs": [
    {
     "name": "stdout",
     "output_type": "stream",
     "text": [
      "9\r"
     ]
    }
   ],
   "source": [
    "for i, (X_b, y_b) in enumerate(dgen_test):\n",
    "    print(f'{i}\\r', end='')"
   ]
  },
  {
   "cell_type": "markdown",
   "id": "85941430-2534-4d7d-ba52-d934a31c1bf6",
   "metadata": {},
   "source": [
    "# Network Model"
   ]
  },
  {
   "cell_type": "code",
   "execution_count": 30,
   "id": "6bd5d1bf-4640-4cbc-acd3-72881ddcc07e",
   "metadata": {},
   "outputs": [],
   "source": [
    "from tensorflow.keras import Sequential\n",
    "from tensorflow.keras.layers import LSTM, Dense, Embedding, Bidirectional, Dropout, Activation, BatchNormalization, Conv1D, MaxPool1D, GlobalAveragePooling1D, Flatten\n",
    "from tensorflow.keras.callbacks import ModelCheckpoint\n",
    "from tensorflow.keras.optimizers import Adam, RMSprop\n",
    "from tensorflow.keras import backend as K\n",
    "import tensorflow as tf\n",
    "from tensorflow.keras import layers as L"
   ]
  },
  {
   "cell_type": "raw",
   "id": "004cb4ed-f2f8-4008-9110-1c0b10c031a8",
   "metadata": {},
   "source": [
    "# Implementar modelo de TextCNN\n",
    "def text_cnn_1d(sequence_length, vocab_size, embedding_size, filter_sizes, num_filters):\n",
    "    # Recordar que estamos en la funcional model API y hay que entender que conectar con que.\n",
    "    input_x = L.Input(shape=(sequence_length,), name='input_x')\n",
    "    embedding = #BLoque de embeddings\n",
    "    pooled_outputs = []\n",
    "    for filter_size in filter_sizes:\n",
    "        conv = # Implementar\n",
    "        max_p = # Implementar\n",
    "        pooled_outputs.append(max_p)\n",
    "        \n",
    "    h_pool = L.Concatenate(axis=2)(pooled_outputs)\n",
    "    dense = L.Flatten()(h_pool)\n",
    "    dense = # Capa densa 1\n",
    "    dense = # Capa densa 1\n",
    "    dense = L.Dense(1)(dense) # Salida\n",
    "    model = tf.keras.models.Model(input_x, dense)\n",
    "    return model"
   ]
  },
  {
   "cell_type": "code",
   "execution_count": 32,
   "id": "61d33801-d863-463d-aa51-c3ab237d2c74",
   "metadata": {},
   "outputs": [],
   "source": [
    "import tensorflow as tf\n",
    "from tensorflow.keras.layers import Input, Embedding, Conv1D, MaxPooling1D, Flatten, Dense, Concatenate\n",
    "from tensorflow.keras.models import Model\n",
    "from tensorflow.keras.optimizers import RMSprop\n",
    "from tensorflow.keras.metrics import MeanSquaredError, RootMeanSquaredError"
   ]
  },
  {
   "cell_type": "code",
   "execution_count": 33,
   "id": "b6a49020-ce69-4e17-b4e1-f4bd68317fee",
   "metadata": {},
   "outputs": [],
   "source": [
    "def text_cnn_1d(sequence_length, vocab_size, embedding_size, filter_sizes, num_filters):\n",
    "    input_x = Input(shape=(sequence_length,), name='input_x')\n",
    "    \n",
    "    # Embedding layer\n",
    "    embedding = Embedding(input_dim=vocab_size, output_dim=embedding_size, input_length=sequence_length)(input_x)\n",
    "    \n",
    "    pooled_outputs = []\n",
    "    for filter_size in filter_sizes:\n",
    "        conv = Conv1D(filters=num_filters, kernel_size=filter_size, activation='relu')(embedding)\n",
    "        max_p = MaxPooling1D(pool_size=sequence_length - filter_size + 1)(conv)\n",
    "        pooled_outputs.append(max_p)\n",
    "        \n",
    "    h_pool = Concatenate(axis=2)(pooled_outputs)\n",
    "    flat = Flatten()(h_pool)\n",
    "    \n",
    "    # Dense layers\n",
    "    dense_units = 256\n",
    "    dense = Dense(units=dense_units, activation='relu')(flat)\n",
    "    \n",
    "    # Output dense layer\n",
    "    output_layer = Dense(units=1, activation='linear')(dense)\n",
    "    \n",
    "    model = Model(inputs=input_x, outputs=output_layer)\n",
    "    return model"
   ]
  },
  {
   "cell_type": "code",
   "execution_count": 34,
   "id": "d3db729c-1a80-40ad-b3e5-59329b172ee0",
   "metadata": {},
   "outputs": [],
   "source": [
    "# Puede cambiar estos hiperparámtros. Son solo de referencia\n",
    "FILTER_SIZES = (3, 4, 5)\n",
    "NUM_FILTERS = 128\n",
    "vocab_size = len(smiles_dict) + 1\n",
    "embeddings_size = 128 # 2"
   ]
  },
  {
   "cell_type": "code",
   "execution_count": 35,
   "id": "0e0903a5-9840-4994-9964-8e2d3e9eb326",
   "metadata": {},
   "outputs": [
    {
     "name": "stdout",
     "output_type": "stream",
     "text": [
      "Model: \"model\"\n",
      "__________________________________________________________________________________________________\n",
      " Layer (type)                   Output Shape         Param #     Connected to                     \n",
      "==================================================================================================\n",
      " input_x (InputLayer)           [(None, 224)]        0           []                               \n",
      "                                                                                                  \n",
      " embedding (Embedding)          (None, 224, 128)     5504        ['input_x[0][0]']                \n",
      "                                                                                                  \n",
      " conv1d (Conv1D)                (None, 222, 128)     49280       ['embedding[0][0]']              \n",
      "                                                                                                  \n",
      " conv1d_1 (Conv1D)              (None, 221, 128)     65664       ['embedding[0][0]']              \n",
      "                                                                                                  \n",
      " conv1d_2 (Conv1D)              (None, 220, 128)     82048       ['embedding[0][0]']              \n",
      "                                                                                                  \n",
      " max_pooling1d (MaxPooling1D)   (None, 1, 128)       0           ['conv1d[0][0]']                 \n",
      "                                                                                                  \n",
      " max_pooling1d_1 (MaxPooling1D)  (None, 1, 128)      0           ['conv1d_1[0][0]']               \n",
      "                                                                                                  \n",
      " max_pooling1d_2 (MaxPooling1D)  (None, 1, 128)      0           ['conv1d_2[0][0]']               \n",
      "                                                                                                  \n",
      " concatenate (Concatenate)      (None, 1, 384)       0           ['max_pooling1d[0][0]',          \n",
      "                                                                  'max_pooling1d_1[0][0]',        \n",
      "                                                                  'max_pooling1d_2[0][0]']        \n",
      "                                                                                                  \n",
      " flatten (Flatten)              (None, 384)          0           ['concatenate[0][0]']            \n",
      "                                                                                                  \n",
      " dense (Dense)                  (None, 256)          98560       ['flatten[0][0]']                \n",
      "                                                                                                  \n",
      " dense_1 (Dense)                (None, 1)            257         ['dense[0][0]']                  \n",
      "                                                                                                  \n",
      "==================================================================================================\n",
      "Total params: 301,313\n",
      "Trainable params: 301,313\n",
      "Non-trainable params: 0\n",
      "__________________________________________________________________________________________________\n"
     ]
    }
   ],
   "source": [
    "model = text_cnn_1d(max_sequence_len, vocab_size, embeddings_size, FILTER_SIZES, NUM_FILTERS)\n",
    "model.summary()"
   ]
  },
  {
   "cell_type": "code",
   "execution_count": 36,
   "id": "4bf115a2-9f1b-42b8-9b62-59728f1da977",
   "metadata": {},
   "outputs": [],
   "source": [
    "def R2(y_true, y_pred):\n",
    "    SS_res =  K.sum(K.square( y_true-y_pred ))\n",
    "    SS_tot = K.sum(K.square( y_true - K.mean(y_true) ) )\n",
    "    return ( 1 - SS_res/(SS_tot + K.epsilon()) )"
   ]
  },
  {
   "cell_type": "code",
   "execution_count": 37,
   "id": "9138b411-fc5d-41bd-8c8e-c12580cc5b14",
   "metadata": {},
   "outputs": [],
   "source": [
    "model.compile(optimizer=Adam(learning_rate=0.0001), loss='mse', metrics=[R2])"
   ]
  },
  {
   "cell_type": "code",
   "execution_count": 38,
   "id": "62c3f792-f413-4150-8ebf-1f59c5fb986d",
   "metadata": {},
   "outputs": [],
   "source": [
    "mcp = ModelCheckpoint('models/best_model_{epoch}', save_best_only=True, save_format=\"h5\")"
   ]
  },
  {
   "cell_type": "code",
   "execution_count": 52,
   "id": "3f37ab4e-0e3a-44c6-a572-ba5c67930c61",
   "metadata": {
    "tags": []
   },
   "outputs": [
    {
     "name": "stdout",
     "output_type": "stream",
     "text": [
      "Epoch 1/100\n",
      "36/36 [==============================] - 6s 160ms/step - loss: 2.0593 - R2: 0.1584 - val_loss: 1.9899 - val_R2: 0.1995\n",
      "Epoch 2/100\n",
      "36/36 [==============================] - 6s 159ms/step - loss: 2.0210 - R2: 0.1703 - val_loss: 1.9543 - val_R2: 0.2091\n",
      "Epoch 3/100\n",
      "36/36 [==============================] - 6s 160ms/step - loss: 2.0026 - R2: 0.1826 - val_loss: 1.9255 - val_R2: 0.2188\n",
      "Epoch 4/100\n",
      "36/36 [==============================] - 6s 158ms/step - loss: 1.9675 - R2: 0.1953 - val_loss: 1.8935 - val_R2: 0.2284\n",
      "Epoch 5/100\n",
      "36/36 [==============================] - 6s 158ms/step - loss: 1.9424 - R2: 0.2074 - val_loss: 1.8642 - val_R2: 0.2449\n",
      "Epoch 6/100\n",
      "36/36 [==============================] - 6s 158ms/step - loss: 1.9211 - R2: 0.2138 - val_loss: 1.8348 - val_R2: 0.2527\n",
      "Epoch 7/100\n",
      "36/36 [==============================] - 6s 159ms/step - loss: 1.8994 - R2: 0.2226 - val_loss: 1.8096 - val_R2: 0.2688\n",
      "Epoch 8/100\n",
      "36/36 [==============================] - 6s 159ms/step - loss: 1.8689 - R2: 0.2227 - val_loss: 1.7843 - val_R2: 0.2728\n",
      "Epoch 9/100\n",
      "36/36 [==============================] - 6s 158ms/step - loss: 1.8324 - R2: 0.2412 - val_loss: 1.7610 - val_R2: 0.2786\n",
      "Epoch 10/100\n",
      "36/36 [==============================] - 6s 158ms/step - loss: 1.8034 - R2: 0.2647 - val_loss: 1.7375 - val_R2: 0.2968\n",
      "Epoch 11/100\n",
      "36/36 [==============================] - 6s 158ms/step - loss: 1.7945 - R2: 0.2660 - val_loss: 1.7187 - val_R2: 0.3008\n",
      "Epoch 12/100\n",
      "36/36 [==============================] - 6s 158ms/step - loss: 1.7703 - R2: 0.2763 - val_loss: 1.7020 - val_R2: 0.2973\n",
      "Epoch 13/100\n",
      "36/36 [==============================] - 6s 161ms/step - loss: 1.7479 - R2: 0.2844 - val_loss: 1.6851 - val_R2: 0.3126\n",
      "Epoch 14/100\n",
      "36/36 [==============================] - 6s 159ms/step - loss: 1.7165 - R2: 0.2984 - val_loss: 1.6732 - val_R2: 0.3200\n",
      "Epoch 15/100\n",
      "36/36 [==============================] - 6s 160ms/step - loss: 1.7095 - R2: 0.3059 - val_loss: 1.6533 - val_R2: 0.3299\n",
      "Epoch 16/100\n",
      "36/36 [==============================] - 6s 158ms/step - loss: 1.6850 - R2: 0.3128 - val_loss: 1.6406 - val_R2: 0.3369\n",
      "Epoch 17/100\n",
      "36/36 [==============================] - 6s 158ms/step - loss: 1.6565 - R2: 0.3191 - val_loss: 1.6315 - val_R2: 0.3302\n",
      "Epoch 18/100\n",
      "36/36 [==============================] - 6s 159ms/step - loss: 1.6281 - R2: 0.3298 - val_loss: 1.6097 - val_R2: 0.3422\n",
      "Epoch 19/100\n",
      "36/36 [==============================] - 6s 160ms/step - loss: 1.6359 - R2: 0.3306 - val_loss: 1.5983 - val_R2: 0.3448\n",
      "Epoch 20/100\n",
      "36/36 [==============================] - 6s 159ms/step - loss: 1.6145 - R2: 0.3385 - val_loss: 1.6030 - val_R2: 0.3482\n",
      "Epoch 21/100\n",
      "36/36 [==============================] - 6s 161ms/step - loss: 1.5900 - R2: 0.3549 - val_loss: 1.5766 - val_R2: 0.3634\n",
      "Epoch 22/100\n",
      "36/36 [==============================] - 6s 159ms/step - loss: 1.5859 - R2: 0.3487 - val_loss: 1.5642 - val_R2: 0.3680\n",
      "Epoch 23/100\n",
      "36/36 [==============================] - 6s 158ms/step - loss: 1.5768 - R2: 0.3565 - val_loss: 1.5503 - val_R2: 0.3581\n",
      "Epoch 24/100\n",
      "36/36 [==============================] - 6s 162ms/step - loss: 1.5586 - R2: 0.3543 - val_loss: 1.5372 - val_R2: 0.3765\n",
      "Epoch 25/100\n",
      "36/36 [==============================] - 6s 157ms/step - loss: 1.5370 - R2: 0.3724 - val_loss: 1.5310 - val_R2: 0.3713\n",
      "Epoch 26/100\n",
      "36/36 [==============================] - 6s 159ms/step - loss: 1.5296 - R2: 0.3709 - val_loss: 1.5233 - val_R2: 0.3789\n",
      "Epoch 27/100\n",
      "36/36 [==============================] - 6s 164ms/step - loss: 1.5132 - R2: 0.3873 - val_loss: 1.5301 - val_R2: 0.3863\n",
      "Epoch 28/100\n",
      "36/36 [==============================] - 6s 158ms/step - loss: 1.5059 - R2: 0.3855 - val_loss: 1.5273 - val_R2: 0.3807\n",
      "Epoch 29/100\n",
      "36/36 [==============================] - 6s 158ms/step - loss: 1.4892 - R2: 0.3874 - val_loss: 1.4908 - val_R2: 0.3946\n",
      "Epoch 30/100\n",
      "36/36 [==============================] - 6s 160ms/step - loss: 1.4755 - R2: 0.3922 - val_loss: 1.4807 - val_R2: 0.3903\n",
      "Epoch 31/100\n",
      "36/36 [==============================] - 6s 159ms/step - loss: 1.4574 - R2: 0.4063 - val_loss: 1.4700 - val_R2: 0.4067\n",
      "Epoch 32/100\n",
      "36/36 [==============================] - 6s 160ms/step - loss: 1.4552 - R2: 0.3895 - val_loss: 1.4861 - val_R2: 0.3959\n",
      "Epoch 33/100\n",
      "36/36 [==============================] - 6s 159ms/step - loss: 1.4449 - R2: 0.4061 - val_loss: 1.4554 - val_R2: 0.4094\n",
      "Epoch 34/100\n",
      "36/36 [==============================] - 6s 161ms/step - loss: 1.4451 - R2: 0.3952 - val_loss: 1.4457 - val_R2: 0.4086\n",
      "Epoch 35/100\n",
      "36/36 [==============================] - 6s 160ms/step - loss: 1.4262 - R2: 0.4176 - val_loss: 1.4501 - val_R2: 0.4040\n",
      "Epoch 36/100\n",
      "36/36 [==============================] - 6s 159ms/step - loss: 1.4146 - R2: 0.4203 - val_loss: 1.4221 - val_R2: 0.4245\n",
      "Epoch 37/100\n",
      "36/36 [==============================] - 6s 160ms/step - loss: 1.4000 - R2: 0.4217 - val_loss: 1.4110 - val_R2: 0.4314\n",
      "Epoch 38/100\n",
      "36/36 [==============================] - 6s 159ms/step - loss: 1.4166 - R2: 0.4274 - val_loss: 1.4045 - val_R2: 0.4231\n",
      "Epoch 39/100\n",
      "36/36 [==============================] - 6s 159ms/step - loss: 1.3780 - R2: 0.4442 - val_loss: 1.4031 - val_R2: 0.4197\n",
      "Epoch 40/100\n",
      "36/36 [==============================] - 6s 158ms/step - loss: 1.3843 - R2: 0.4274 - val_loss: 1.3855 - val_R2: 0.4291\n",
      "Epoch 41/100\n",
      "36/36 [==============================] - 6s 159ms/step - loss: 1.3833 - R2: 0.4337 - val_loss: 1.3813 - val_R2: 0.4411\n",
      "Epoch 42/100\n",
      "36/36 [==============================] - 6s 158ms/step - loss: 1.3424 - R2: 0.4363 - val_loss: 1.3758 - val_R2: 0.4317\n",
      "Epoch 43/100\n",
      "36/36 [==============================] - 6s 159ms/step - loss: 1.3309 - R2: 0.4540 - val_loss: 1.3684 - val_R2: 0.4464\n",
      "Epoch 44/100\n",
      "36/36 [==============================] - 6s 158ms/step - loss: 1.3309 - R2: 0.4610 - val_loss: 1.3613 - val_R2: 0.4195\n",
      "Epoch 45/100\n",
      "36/36 [==============================] - 6s 158ms/step - loss: 1.3240 - R2: 0.4524 - val_loss: 1.3534 - val_R2: 0.4510\n",
      "Epoch 46/100\n",
      "36/36 [==============================] - 6s 159ms/step - loss: 1.3452 - R2: 0.4552 - val_loss: 1.3496 - val_R2: 0.4447\n",
      "Epoch 47/100\n",
      "36/36 [==============================] - 6s 161ms/step - loss: 1.3170 - R2: 0.4658 - val_loss: 1.3346 - val_R2: 0.4593\n",
      "Epoch 48/100\n",
      "36/36 [==============================] - 6s 161ms/step - loss: 1.3002 - R2: 0.4633 - val_loss: 1.3388 - val_R2: 0.4565\n",
      "Epoch 49/100\n",
      "36/36 [==============================] - 6s 158ms/step - loss: 1.2931 - R2: 0.4787 - val_loss: 1.3146 - val_R2: 0.4710\n",
      "Epoch 50/100\n",
      "36/36 [==============================] - 6s 159ms/step - loss: 1.2789 - R2: 0.4734 - val_loss: 1.3083 - val_R2: 0.4676\n",
      "Epoch 51/100\n",
      "36/36 [==============================] - 6s 159ms/step - loss: 1.2732 - R2: 0.4778 - val_loss: 1.3031 - val_R2: 0.4676\n",
      "Epoch 52/100\n",
      "36/36 [==============================] - 6s 162ms/step - loss: 1.2613 - R2: 0.4838 - val_loss: 1.2998 - val_R2: 0.4666\n",
      "Epoch 53/100\n",
      "36/36 [==============================] - 6s 157ms/step - loss: 1.2544 - R2: 0.4846 - val_loss: 1.2887 - val_R2: 0.4800\n",
      "Epoch 54/100\n",
      "36/36 [==============================] - 6s 159ms/step - loss: 1.2483 - R2: 0.4859 - val_loss: 1.2892 - val_R2: 0.4786\n",
      "Epoch 55/100\n",
      "36/36 [==============================] - 6s 158ms/step - loss: 1.2210 - R2: 0.5011 - val_loss: 1.2822 - val_R2: 0.4843\n",
      "Epoch 56/100\n",
      "36/36 [==============================] - 6s 161ms/step - loss: 1.2148 - R2: 0.5048 - val_loss: 1.2836 - val_R2: 0.4784\n",
      "Epoch 57/100\n",
      "36/36 [==============================] - 6s 159ms/step - loss: 1.2182 - R2: 0.4991 - val_loss: 1.3220 - val_R2: 0.4656\n",
      "Epoch 58/100\n",
      "36/36 [==============================] - 6s 159ms/step - loss: 1.2284 - R2: 0.5005 - val_loss: 1.2603 - val_R2: 0.4930\n",
      "Epoch 59/100\n",
      "36/36 [==============================] - 6s 158ms/step - loss: 1.2297 - R2: 0.4991 - val_loss: 1.2530 - val_R2: 0.4907\n",
      "Epoch 60/100\n",
      "36/36 [==============================] - 6s 159ms/step - loss: 1.1930 - R2: 0.5079 - val_loss: 1.2456 - val_R2: 0.4941\n",
      "Epoch 61/100\n",
      "36/36 [==============================] - 6s 158ms/step - loss: 1.1843 - R2: 0.5125 - val_loss: 1.2433 - val_R2: 0.4902\n",
      "Epoch 62/100\n",
      "36/36 [==============================] - 6s 158ms/step - loss: 1.1881 - R2: 0.5155 - val_loss: 1.2456 - val_R2: 0.4790\n",
      "Epoch 63/100\n",
      "36/36 [==============================] - 6s 158ms/step - loss: 1.1721 - R2: 0.5193 - val_loss: 1.2310 - val_R2: 0.5016\n",
      "Epoch 64/100\n",
      "36/36 [==============================] - 6s 157ms/step - loss: 1.1457 - R2: 0.5239 - val_loss: 1.2283 - val_R2: 0.5051\n",
      "Epoch 65/100\n",
      "36/36 [==============================] - 6s 159ms/step - loss: 1.1509 - R2: 0.5309 - val_loss: 1.2533 - val_R2: 0.4974\n",
      "Epoch 66/100\n",
      "36/36 [==============================] - 6s 161ms/step - loss: 1.1601 - R2: 0.5162 - val_loss: 1.2075 - val_R2: 0.5094\n",
      "Epoch 67/100\n",
      "36/36 [==============================] - 6s 158ms/step - loss: 1.1395 - R2: 0.5357 - val_loss: 1.2377 - val_R2: 0.4955\n",
      "Epoch 68/100\n",
      "36/36 [==============================] - 6s 160ms/step - loss: 1.1329 - R2: 0.5373 - val_loss: 1.2046 - val_R2: 0.5117\n",
      "Epoch 69/100\n",
      "36/36 [==============================] - 6s 160ms/step - loss: 1.1210 - R2: 0.5355 - val_loss: 1.2219 - val_R2: 0.5035\n",
      "Epoch 70/100\n",
      "36/36 [==============================] - 6s 159ms/step - loss: 1.1233 - R2: 0.5378 - val_loss: 1.1932 - val_R2: 0.5124\n",
      "Epoch 71/100\n",
      "36/36 [==============================] - 6s 159ms/step - loss: 1.1119 - R2: 0.5339 - val_loss: 1.1887 - val_R2: 0.5238\n",
      "Epoch 72/100\n",
      "36/36 [==============================] - 6s 162ms/step - loss: 1.1238 - R2: 0.5343 - val_loss: 1.2117 - val_R2: 0.5005\n",
      "Epoch 73/100\n",
      "36/36 [==============================] - 6s 161ms/step - loss: 1.0897 - R2: 0.5553 - val_loss: 1.2251 - val_R2: 0.5033\n",
      "Epoch 74/100\n",
      "36/36 [==============================] - 6s 158ms/step - loss: 1.0986 - R2: 0.5524 - val_loss: 1.2069 - val_R2: 0.5121\n",
      "Epoch 75/100\n",
      "36/36 [==============================] - 6s 158ms/step - loss: 1.0807 - R2: 0.5532 - val_loss: 1.1971 - val_R2: 0.4957\n",
      "Epoch 76/100\n",
      "36/36 [==============================] - 6s 159ms/step - loss: 1.0976 - R2: 0.5413 - val_loss: 1.1810 - val_R2: 0.5186\n",
      "Epoch 77/100\n",
      "36/36 [==============================] - 6s 158ms/step - loss: 1.0788 - R2: 0.5550 - val_loss: 1.1707 - val_R2: 0.5229\n",
      "Epoch 78/100\n",
      "36/36 [==============================] - 6s 157ms/step - loss: 1.0662 - R2: 0.5568 - val_loss: 1.1628 - val_R2: 0.5247\n",
      "Epoch 79/100\n",
      "36/36 [==============================] - 6s 157ms/step - loss: 1.0528 - R2: 0.5622 - val_loss: 1.1547 - val_R2: 0.5235\n",
      "Epoch 80/100\n",
      "36/36 [==============================] - 6s 162ms/step - loss: 1.0719 - R2: 0.5573 - val_loss: 1.1528 - val_R2: 0.5256\n",
      "Epoch 81/100\n",
      "36/36 [==============================] - 6s 158ms/step - loss: 1.0437 - R2: 0.5746 - val_loss: 1.1749 - val_R2: 0.5252\n",
      "Epoch 82/100\n",
      "36/36 [==============================] - 6s 159ms/step - loss: 1.0537 - R2: 0.5675 - val_loss: 1.1579 - val_R2: 0.5206\n",
      "Epoch 83/100\n",
      "36/36 [==============================] - 6s 158ms/step - loss: 1.0708 - R2: 0.5621 - val_loss: 1.1524 - val_R2: 0.5256\n",
      "Epoch 84/100\n",
      "36/36 [==============================] - 6s 158ms/step - loss: 1.0379 - R2: 0.5641 - val_loss: 1.1443 - val_R2: 0.5414\n",
      "Epoch 85/100\n",
      "36/36 [==============================] - 6s 164ms/step - loss: 1.0530 - R2: 0.5661 - val_loss: 1.1402 - val_R2: 0.5352\n",
      "Epoch 86/100\n",
      "36/36 [==============================] - 6s 159ms/step - loss: 1.0497 - R2: 0.5718 - val_loss: 1.2128 - val_R2: 0.4921\n",
      "Epoch 87/100\n",
      "36/36 [==============================] - 6s 159ms/step - loss: 1.0411 - R2: 0.5737 - val_loss: 1.1567 - val_R2: 0.5342\n",
      "Epoch 88/100\n",
      "36/36 [==============================] - 6s 158ms/step - loss: 1.0261 - R2: 0.5816 - val_loss: 1.1240 - val_R2: 0.5492\n",
      "Epoch 89/100\n",
      "36/36 [==============================] - 6s 158ms/step - loss: 1.0205 - R2: 0.5846 - val_loss: 1.1253 - val_R2: 0.5440\n",
      "Epoch 90/100\n",
      "36/36 [==============================] - 6s 159ms/step - loss: 1.0080 - R2: 0.5856 - val_loss: 1.1215 - val_R2: 0.5453\n",
      "Epoch 91/100\n",
      "36/36 [==============================] - 6s 160ms/step - loss: 0.9996 - R2: 0.5930 - val_loss: 1.1468 - val_R2: 0.5197\n",
      "Epoch 92/100\n",
      "36/36 [==============================] - 6s 159ms/step - loss: 0.9965 - R2: 0.5936 - val_loss: 1.1170 - val_R2: 0.5509\n",
      "Epoch 93/100\n",
      "36/36 [==============================] - 6s 159ms/step - loss: 0.9900 - R2: 0.5797 - val_loss: 1.1267 - val_R2: 0.5377\n",
      "Epoch 94/100\n",
      "36/36 [==============================] - 6s 164ms/step - loss: 0.9841 - R2: 0.5906 - val_loss: 1.1147 - val_R2: 0.5502\n",
      "Epoch 95/100\n",
      "36/36 [==============================] - 6s 159ms/step - loss: 0.9729 - R2: 0.5973 - val_loss: 1.1068 - val_R2: 0.5484\n",
      "Epoch 96/100\n",
      "36/36 [==============================] - 6s 157ms/step - loss: 0.9971 - R2: 0.5918 - val_loss: 1.1144 - val_R2: 0.5439\n",
      "Epoch 97/100\n",
      "36/36 [==============================] - 6s 157ms/step - loss: 0.9878 - R2: 0.5888 - val_loss: 1.1146 - val_R2: 0.5503\n",
      "Epoch 98/100\n",
      "36/36 [==============================] - 6s 157ms/step - loss: 0.9602 - R2: 0.6050 - val_loss: 1.1843 - val_R2: 0.5142\n",
      "Epoch 99/100\n",
      "36/36 [==============================] - 6s 159ms/step - loss: 0.9760 - R2: 0.5836 - val_loss: 1.1077 - val_R2: 0.5431\n",
      "Epoch 100/100\n",
      "36/36 [==============================] - 6s 158ms/step - loss: 0.9749 - R2: 0.5950 - val_loss: 1.2098 - val_R2: 0.5051\n"
     ]
    }
   ],
   "source": [
    "history = model.fit(dgen_train, epochs=100, validation_data=dgen_test)"
   ]
  },
  {
   "cell_type": "code",
   "execution_count": 53,
   "id": "a0242588-eede-4e85-8b83-f207ea8ab757",
   "metadata": {},
   "outputs": [],
   "source": [
    "X_test_eval = []\n",
    "y_t_eval = []\n",
    "for X_t, y_t in dgen_test:\n",
    "    X_test_eval = X_test_eval + [list(t) for t in X_t]\n",
    "    y_t_eval = y_t_eval + list(y_t)\n",
    "X_test_eval = np.array(X_test_eval)\n",
    "y_test = np.array(y_t_eval)"
   ]
  },
  {
   "cell_type": "code",
   "execution_count": 54,
   "id": "a1437cbf-fe44-4999-a44b-05cea765f22b",
   "metadata": {},
   "outputs": [
    {
     "data": {
      "text/plain": [
       "((1232, 224), (1232,))"
      ]
     },
     "execution_count": 54,
     "metadata": {},
     "output_type": "execute_result"
    }
   ],
   "source": [
    "X_test_eval.shape, y_test.shape"
   ]
  },
  {
   "cell_type": "code",
   "execution_count": 55,
   "id": "0084fbb1-e83e-4808-99bf-1458f3ea3076",
   "metadata": {},
   "outputs": [
    {
     "name": "stdout",
     "output_type": "stream",
     "text": [
      "39/39 [==============================] - 0s 12ms/step\n"
     ]
    }
   ],
   "source": [
    "y_pred = model.predict(X_test_eval)"
   ]
  },
  {
   "cell_type": "markdown",
   "id": "382979a3-f299-4762-8b6d-10a6ea4d3c70",
   "metadata": {},
   "source": [
    "# Score"
   ]
  },
  {
   "cell_type": "code",
   "execution_count": 56,
   "id": "f9fd5d60-841f-46c3-94b6-5755b4d548cd",
   "metadata": {},
   "outputs": [],
   "source": [
    "r2 = 1 - ((y_test - y_pred.reshape(-1)) ** 2).sum() / ((y_test - y_test.mean()) ** 2).sum()"
   ]
  },
  {
   "cell_type": "code",
   "execution_count": 57,
   "id": "4d2bfabe-2e3e-40cf-a1e8-2d458ee7f328",
   "metadata": {},
   "outputs": [
    {
     "data": {
      "text/plain": [
       "0.5143971946948698"
      ]
     },
     "execution_count": 57,
     "metadata": {},
     "output_type": "execute_result"
    }
   ],
   "source": [
    "r2"
   ]
  },
  {
   "cell_type": "code",
   "execution_count": 58,
   "id": "85262541-e04a-4ff2-b3e6-a47643db66f6",
   "metadata": {},
   "outputs": [],
   "source": [
    "filename = 'models/embed_128_text_cnn_aug_100x100_0.0001.h5'\n",
    "model.save(filename)"
   ]
  },
  {
   "cell_type": "markdown",
   "id": "5f683e18-c876-4f7c-93ea-a33d495dcdaa",
   "metadata": {},
   "source": [
    "# Load model (solo si se grabo el modelo)"
   ]
  },
  {
   "cell_type": "code",
   "execution_count": 59,
   "id": "285c8740-f0bb-4237-8593-ff9b815de0e3",
   "metadata": {},
   "outputs": [],
   "source": [
    "from tensorflow.keras.models import load_model"
   ]
  },
  {
   "cell_type": "code",
   "execution_count": 60,
   "id": "2168984f-770c-436e-92da-c1344b1d3abc",
   "metadata": {},
   "outputs": [],
   "source": [
    "model_loaded = load_model(filename, custom_objects={'R2': R2})"
   ]
  },
  {
   "cell_type": "code",
   "execution_count": 61,
   "id": "13a9d7d8-41e0-44a0-a8b9-02157a11f8f2",
   "metadata": {},
   "outputs": [
    {
     "name": "stdout",
     "output_type": "stream",
     "text": [
      "39/39 [==============================] - 1s 12ms/step\n"
     ]
    }
   ],
   "source": [
    "y_pred = model_loaded.predict(X_test_eval)"
   ]
  },
  {
   "cell_type": "code",
   "execution_count": 62,
   "id": "26c63493-3f25-4383-9654-58ee62aa3ae5",
   "metadata": {},
   "outputs": [
    {
     "data": {
      "text/plain": [
       "0.5143971946948698"
      ]
     },
     "execution_count": 62,
     "metadata": {},
     "output_type": "execute_result"
    }
   ],
   "source": [
    "r2 = 1 - ((y_test - y_pred.reshape(-1)) ** 2).sum() / ((y_test - y_test.mean()) ** 2).sum()\n",
    "r2"
   ]
  },
  {
   "cell_type": "markdown",
   "id": "7f1a6260-e31f-4e5e-a923-ce67bf31152f",
   "metadata": {},
   "source": [
    "# Evaluación"
   ]
  },
  {
   "cell_type": "code",
   "execution_count": 63,
   "id": "7dd9d7e6-2789-459e-b9dd-593e10847fc4",
   "metadata": {},
   "outputs": [
    {
     "data": {
      "text/plain": [
       "<function matplotlib.pyplot.show(close=None, block=None)>"
      ]
     },
     "execution_count": 63,
     "metadata": {},
     "output_type": "execute_result"
    },
    {
     "data": {
      "image/png": "[encoded data removed]",
      "text/plain": [
       "<Figure size 360x360 with 1 Axes>"
      ]
     },
     "metadata": {},
     "output_type": "display_data"
    }
   ],
   "source": [
    "import seaborn as sns\n",
    "import matplotlib.pyplot as plt\n",
    "\n",
    "sns.set(color_codes=True)\n",
    "sns.set_style(\"white\")\n",
    "\n",
    "ax = sns.regplot(x=y_test, y=y_pred, scatter_kws={'alpha':0.4})\n",
    "ax.set_xlabel('Experimental pIC50', fontsize='large', fontweight='bold')\n",
    "ax.set_ylabel('Predicted pIC50', fontsize='large', fontweight='bold')\n",
    "ax.set_xlim(0, 12)\n",
    "ax.set_ylim(0, 12)\n",
    "ax.figure.set_size_inches(5, 5)\n",
    "plt.show"
   ]
  },
  {
   "cell_type": "code",
   "execution_count": null,
   "id": "87c4d36c-542f-43bb-a02e-83aed2e030c7",
   "metadata": {},
   "outputs": [],
   "source": []
  }
 ],
 "metadata": {
  "kernelspec": {
   "display_name": "Python 3",
   "language": "python",
   "name": "python3"
  },
  "language_info": {
   "codemirror_mode": {
    "name": "ipython",
    "version": 3
   },
   "file_extension": ".py",
   "mimetype": "text/x-python",
   "name": "python",
   "nbconvert_exporter": "python",
   "pygments_lexer": "ipython3",
   "version": "3.7.10"
  }
 },
 "nbformat": 4,
 "nbformat_minor": 5
}
